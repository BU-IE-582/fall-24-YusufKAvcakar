{
 "cells": [
  {
   "cell_type": "markdown",
   "metadata": {},
   "source": [
    "# IE 582 PROJECT\n",
    "\n",
    "- Ufuk Özkan - 2019402267\n",
    "- Yusuf Kavçakar - 2019402069\n",
    "- Eren Görkem Çakır - 2017402123\n"
   ]
  },
  {
   "cell_type": "markdown",
   "metadata": {},
   "source": [
    "# 1. Introduction "
   ]
  },
  {
   "cell_type": "markdown",
   "metadata": {},
   "source": [
    "### 1.1 Problem Description"
   ]
  },
  {
   "cell_type": "markdown",
   "metadata": {},
   "source": [
    "Football's global dominance as a sport has led to significant technological advancements in both game mechanics and analytical capabilities. While innovations like VAR and player tracking systems have transformed the on-field experience, the exponential growth in data collection has revolutionized the sports betting industry. This surge in available data presents both opportunities and challenges in developing sophisticated prediction models that can effectively process and utilize this wealth of information.\n",
    "\n",
    "This project addresses these challenges by developing a machine learning-based decision support system that leverages real-time match statistics and historical betting data to predict match outcomes. The system focuses on the popular 1/X/2 betting market (home win, draw, away win) and aims to outperform traditional bookmaker predictions. Using a Decision Tree Classifier, the model analyzes various in-game metrics such as possession statistics, shot accuracy, and attack patterns, combined with normalized betting odds from multiple bookmakers. The system is designed to identify optimal betting opportunities by determining the most favorable moment during a match to place bets, considering factors such as confidence thresholds and timing of predictions. This approach not only aims to achieve higher prediction accuracy but also seeks to maximize return on investment through a carefully calibrated betting strategy that adapts to the dynamic nature of live football matches."
   ]
  },
  {
   "cell_type": "markdown",
   "metadata": {},
   "source": [
    "### 1.2 Summary of the Proposed Approaches"
   ]
  },
  {
   "cell_type": "markdown",
   "metadata": {},
   "source": [
    "The proposed approach employs a decision tree classifier to predict football match outcomes during live games, focusing on maximizing both prediction accuracy and betting profitability. The system begins with comprehensive data preprocessing, where invalid matches are removed and new features are engineered to capture the dynamic differences between home and away team performances. These features include key performance indicators such as pass completion rates, shot accuracy, possession statistics, and attack patterns. Additionally, betting odds from various bookmakers are normalized to reflect true probability distributions.\n",
    "\n",
    "The core of the system lies in its sequential prediction mechanism, which analyzes matches in real-time and identifies the optimal moment for placing bets. This is achieved through extensive testing of different model configurations, including various time periods (starting from 15th, 30th, or 45th minute), confidence thresholds (ranging from 0.5 to 0.9), and decision tree depths (5 to 15 levels). For each match, the model makes predictions only when its confidence exceeds a predetermined threshold, ensuring that bets are placed only when the model has high certainty about the outcome.\n",
    "\n",
    "The approach is further refined through a sophisticated betting strategy that considers both the timing and confidence of predictions. By analyzing historical data and testing multiple parameter combinations, the system identifies the configuration that yields the highest return on investment while maintaining a sustainable win rate. This balanced approach ensures that the model not only achieves high prediction accuracy but also generates profitable betting opportunities by identifying market inefficiencies and optimal betting moments during live matches."
   ]
  },
  {
   "cell_type": "markdown",
   "metadata": {},
   "source": [
    "### 1.3 Descriptive Analysis of the Given Data"
   ]
  },
  {
   "cell_type": "markdown",
   "metadata": {},
   "source": [
    "This project focuses on analyzing football match data, capturing various match-specific and team-specific metrics. The dataset includes temporal attributes such as fixture ID, halftime, current time, minute, and second, offering a detailed view of match events. Key performance indicators, including Accurate Crosses, Assists, Ball Possession Percentage, Goals, Shots, and Yellow Cards, are categorized into \"home\" and \"away\" teams, enabling a comprehensive understanding of team dynamics during a match.\n",
    "\n",
    "The preprocessing stage ensures data quality by cleaning and adjusting records, such as removing invalid matches and standardizing time formats. Descriptive statistics reveal trends, such as away teams generally having slightly lower performance metrics like Accurate Crosses and Goals compared to home teams, hinting at a home-field advantage. Additionally, attributes like outcome probabilities (1, 2, X) track real-time changes, making the dataset valuable for applications in real-time match analysis or sports betting.\n",
    "\n",
    "Overall, the combination of cleaned data, detailed metrics, and predictive modeling techniques provides a robust foundation for understanding and forecasting football match outcomes. This project demonstrates the effective use of machine learning and visualization tools to extract actionable insights from sports data."
   ]
  },
  {
   "cell_type": "markdown",
   "metadata": {},
   "source": [
    "# 2. Related Literature"
   ]
  },
  {
   "cell_type": "markdown",
   "metadata": {},
   "source": [
    "Football match outcome prediction has been a topic of increasing interest in sports analytics, with machine learning techniques playing a pivotal role in improving accuracy and efficiency. Various studies have explored different approaches to modeling football match results, leveraging statistical features, and advanced predictive algorithms. Adam (2016) introduced a generalized linear model incorporating L2 regularization to predict match scores, using team-specific and player-based features derived from sources like FIFA and UEFA. This approach highlights the importance of standardized and reliable data for generating accurate predictions in sports analytics.\n",
    "\n",
    "Tree-based algorithms are among the most commonly used methods in football prediction models. Herbinet (2018) explored ensemble learning techniques, including Random Forest and Neural Networks, to predict match scores, emphasizing the value of combining offensive and defensive metrics to improve prediction reliability. Their findings demonstrated that ensemble methods like Random Forest outperform traditional statistical approaches by aggregating results from multiple decision trees, thereby reducing overfitting risks.\n",
    "\n",
    "Recent advancements in sports analytics have also incorporated normalization techniques to adjust betting odds, as proposed by Štrumbelj (2014). By aligning implied probabilities with actual outcomes, these methods allow for more accurate assessments of market misalignments, enabling better betting strategies. Similarly, Wong et al. (2024) benchmarked machine learning models, comparing Random Forest and Gradient Boosting algorithms against traditional bookmakers' predictions. Their study revealed that ML models consistently outperformed simpler frameworks, underscoring their potential for transforming sports prediction systems.\n",
    "\n",
    "Building on these foundations, this project integrates established machine learning techniques with novel approaches to enhance the prediction of football match outcomes. By leveraging comprehensive data preprocessing, advanced feature selection, and ensemble methods, the research aims to refine predictive accuracy while providing actionable insights into team performance dynamics."
   ]
  },
  {
   "cell_type": "markdown",
   "metadata": {},
   "source": [
    "### 3. Approach\n",
    "\n",
    "#### 3.1 Data Preprocessing\n",
    "The data preprocessing phase is critical to ensure that the match data is clean, consistent, and ready for analysis. The following steps were taken:\n",
    "\n",
    "1. **Data Cleaning**:\n",
    "   - Suspended and stopped matches were removed to ensure the dataset only includes valid and complete match data.\n",
    "   - Duplicate entries for the same fixture, minute, or second were eliminated, retaining only the most recent record for each match moment.\n",
    "\n",
    "2. **Time Adjustments**:\n",
    "   - Match times were standardized by adding 45 minutes to second-half events to ensure consistency in match progression analysis.\n",
    "\n",
    "3. **Feature Creation**:\n",
    "   - Differential features were generated to capture the relative performance between home and away teams, including:\n",
    "     - `difference_passes`: Difference in successful passes.\n",
    "     - `difference_shots`: Difference in total shots.\n",
    "     - `difference_ball_possession`: Difference in ball possession percentages.\n",
    "     - `difference_attacks`: Difference in total attacking plays.\n",
    "   - These features provide a nuanced view of match dynamics, emphasizing team performance disparities.\n",
    "\n",
    "4. **Normalization of Betting Odds**:\n",
    "   - Betting odds from multiple bookmakers were normalized to reflect true probabilities. For example:\n",
    "     - The probabilities for home win (`P_home`), draw (`P_draw`), and away win (`P_away`) were calculated from the inverse of odds.\n",
    "     - These probabilities were further normalized to ensure they sum up to 1.\n",
    "\n",
    "5. **Final Adjustments**:\n",
    "   - Missing values in key features were filled with zeroes.\n",
    "   - Column names were standardized for consistency.\n",
    "\n",
    "This preprocessing ensured the dataset's integrity and enhanced its suitability for predictive modeling.\n",
    "\n",
    "---\n",
    "\n",
    "#### 3.2 Feature Engineering\n",
    "Feature engineering was a crucial step to enrich the dataset with meaningful variables that capture match dynamics and team performance:\n",
    "\n",
    "1. **Team Performance Metrics**:\n",
    "   - Features were created to quantify the differences between home and away teams, capturing key aspects such as:\n",
    "     - `difference_shots_on_target`\n",
    "     - `difference_dangerous_attacks`\n",
    "     - `difference_successful_passes`\n",
    "\n",
    "2. **Temporal Features**:\n",
    "   - Temporal attributes, including match minute and match progression indicators (e.g., halftime), were incorporated to contextualize predictions.\n",
    "\n",
    "3. **Betting Odds Normalization**:\n",
    "   - Normalized probabilities derived from betting odds were included as features:\n",
    "     - `normalized_P_home`\n",
    "     - `normalized_P_draw`\n",
    "     - `normalized_P_away`\n",
    "\n",
    "4. **Data Splitting**:\n",
    "   - The dataset was split into training and test sets based on match dates, with matches played before November 1, 2024, allocated to the training set and subsequent matches to the test set.\n",
    "\n",
    "This engineered feature set provided a robust foundation for training predictive models.\n",
    "\n",
    "---\n",
    "\n",
    "#### 3.3 Decision Tree Classification\n",
    "A Decision Tree Classifier was selected as the core modeling approach due to its interpretability and ability to handle non-linear relationships. The following configurations were tested:\n",
    "\n",
    "1. **Tree Depth**:\n",
    "   - Various tree depths (5, 8, 10, 12, 15) were evaluated to balance model complexity and generalization.\n",
    "\n",
    "2. **Confidence Thresholds**:\n",
    "   - Thresholds ranging from 0.5 to 0.9 were used to ensure predictions were made only when the model exhibited high confidence.\n",
    "\n",
    "3. **Sequential Prediction**:\n",
    "   - A sequential prediction strategy was implemented to identify the first reliable prediction for each match. This ensured that predictions were made only at optimal moments during a match.\n",
    "\n",
    "4. **Time Period Analysis**:\n",
    "   - Different prediction start times (15th, 30th, and 45th minutes) were analyzed to assess the model's performance across various match stages.\n",
    "\n",
    "This decision tree-based approach provided interpretable predictions while maintaining flexibility to adapt to live match data.\n",
    "\n",
    "---\n",
    "\n",
    "#### 3.4 Model Optimization and Evaluation\n",
    "The model's optimization and evaluation focused on balancing prediction accuracy and betting profitability:\n",
    "\n",
    "1. **Model Configurations**:\n",
    "   - Multiple configurations were tested to identify optimal parameter settings, including tree depth, confidence thresholds, and prediction timing.\n",
    "\n",
    "2. **Performance Metrics**:\n",
    "   - The model's performance was evaluated using the following criteria:\n",
    "     - **Return on Investment (ROI)**: To measure profitability.\n",
    "     - **Win Rate**: To assess prediction accuracy.\n",
    "     - **Profit Calculations**: To evaluate overall betting outcomes.\n",
    "     - **Confusion Matrix and Classification Report**: To analyze the distribution of predictions and classification accuracy.\n",
    "\n",
    "3. **Feature Importance**:\n",
    "   - Feature importance scores were analyzed to understand the relative contributions of different features to the model's predictions. For example:\n",
    "     - `normalized_P_home` and `normalized_P_draw` consistently emerged as the most influential features.\n",
    "\n",
    "4. **Timing Analysis**:\n",
    "   - The timing of predictions was evaluated to identify the most profitable and reliable moments for placing bets.\n",
    "\n",
    "By iteratively refining model parameters and strategies, the approach achieved a balance between accuracy and profitability, ensuring a robust and interpretable predictive framework.\n"
   ]
  },
  {
   "cell_type": "markdown",
   "metadata": {},
   "source": [
    "## 4. RESULTS\n",
    "\n",
    "The performance of the decision tree model was evaluated across multiple configurations to determine the optimal parameters for live football match predictions. The evaluation considered various time periods, confidence thresholds, and tree depths. Below, the results are discussed in terms of prediction accuracy, return on investment (ROI), and betting performance.\n"
   ]
  },
  {
   "cell_type": "markdown",
   "metadata": {},
   "source": [
    "### 4.1 Model Configuration Results\n",
    "\n",
    "To evaluate the performance of different model configurations, various parameters such as `min_minute`, `max_depth`, and `threshold` were tested. These configurations were assessed based on their Return on Investment (ROI), win rate, total profit, and total bets placed.\n",
    "\n",
    "The top-performing configurations are summarized in the table below, sorted by ROI:\n",
    "\n",
    "| **min_minute** | **max_depth** | **threshold** | **total_bets** | **win_rate (%)** | **total_profit** | **ROI (%)** |\n",
    "|----------------|---------------|---------------|----------------|------------------|------------------|-------------|\n",
    "| 15             | 8             | 0.9           | 98             | 83.67            | 1150.0           | 11.73       |\n",
    "| 15             | 10            | 0.5           | 111            | 55.86            | 1186.0           | 10.68       |\n",
    "| 15             | 12            | 0.7           | 111            | 52.25            | 415.0            | 3.74        |\n",
    "| 15             | 10            | 0.6           | 111            | 56.76            | 354.0            | 3.19        |\n",
    "| 15             | 5             | 0.9           | 88             | 92.05            | 251.0            | 2.85        |\n",
    "\n",
    "#### Key Insights:\n",
    "\n",
    "1. **Top Configuration**: \n",
    "   - The best configuration achieved an ROI of **11.73%**, with a `min_minute` of **15**, `max_depth` of **8**, and a `threshold` of **0.9**. \n",
    "   - It placed **98 bets**, maintained a win rate of **83.67%**, and generated a total profit of **1150.0** units.\n",
    "\n",
    "2. **Impact of Confidence Thresholds**:\n",
    "   - A threshold of **0.9** generally resulted in higher ROI, as it ensured that bets were placed only when the model had high confidence in its predictions.\n",
    "   - Lower thresholds like **0.5** increased the total number of bets but reduced the win rate and ROI due to more speculative betting.\n",
    "\n",
    "3. **Effect of Maximum Depth**:\n",
    "   - Configurations with a maximum depth of **8** or **10** performed well, balancing model interpretability and predictive accuracy.\n",
    "   - A deeper tree (e.g., `max_depth` of 12) slightly reduced ROI due to overfitting and over-reliance on training data.\n",
    "\n",
    "4. **Bet Timing (min_minute)**:\n",
    "   - Starting predictions after the **15th minute** allowed the model to collect sufficient in-game data, leading to better overall performance.\n",
    "\n",
    "#### As a result:\n",
    "The analysis demonstrates the importance of fine-tuning parameters such as `threshold` and `max_depth` to achieve an optimal balance between profitability and prediction reliability. The best-performing configuration (min_minute = 15, max_depth = 8, threshold = 0.9) highlighted the model's ability to consistently generate profits with a high ROI.\n"
   ]
  },
  {
   "cell_type": "markdown",
   "metadata": {},
   "source": [
    "## 4.2 Feature Importance\n",
    "\n",
    "The decision tree model identified the most influential features in predicting match outcomes. Below is the ranking of feature importance:\n",
    "\n",
    "| Feature                       | Importance |\n",
    "|-------------------------------|------------|\n",
    "| Normalized Probability (Home) | 0.493789   |\n",
    "| Normalized Probability (Draw) | 0.253893   |\n",
    "| Difference in Attacks         | 0.041668   |\n",
    "| Normalized Probability (Away) | 0.033322   |\n",
    "| Difference in Goal Kicks      | 0.027670   |\n",
    "| Difference in Dangerous Attacks | 0.025727 |\n",
    "| Difference in Ball Possession | 0.024326   |\n",
    "\n",
    "The **normalized probabilities of home, draw, and away outcomes** derived from bookmaker odds were the most significant predictors, followed by in-game metrics such as the **difference in attacks** and **goal kicks**.\n",
    "\n",
    "---"
   ]
  },
  {
   "cell_type": "markdown",
   "metadata": {},
   "source": [
    "### 4.3 Betting Time Distribution\n",
    "\n",
    "The betting time distribution illustrates how the model's predictions evolve over the course of a football match. This analysis helps to identify the specific periods during which the model achieves its highest confidence levels, which directly impacts the profitability and timing of bets.\n",
    "\n",
    "#### Key Insights from Betting Time Analysis:\n",
    "\n",
    "1. **Bet Concentration**: A significant portion of bets is placed between the 80th and 100th minutes. This reflects the model's increasing confidence as the match progresses and more in-game data becomes available for analysis.\n",
    "   \n",
    "2. **Early Bets**: A smaller number of bets are placed around the 15th to 20th minutes. These represent cases where the model achieved a high confidence threshold early in the match, likely due to one team dominating early events.\n",
    "\n",
    "3. **Average Betting Minute**: The mean betting minute is **59.5**, indicating that most predictions occur during the second half of matches.\n",
    "\n",
    "4. **Median Betting Minute**: The median betting minute is **61.5**, further highlighting the model's reliance on second-half statistics.\n",
    "\n",
    "5. **Earliest and Latest Bets**:\n",
    "   - The earliest bet was placed at the **16th minute**.\n",
    "   - The latest bet was placed at the **102nd minute**, during extra time, when the game's outcome was clearer.\n"
   ]
  },
  {
   "attachments": {
    "image-2.png": {
     "image/png": "[encoded data removed]"
    }
   },
   "cell_type": "markdown",
   "metadata": {},
   "source": [
    "![image-2.png](attachment:image-2.png)"
   ]
  },
  {
   "cell_type": "markdown",
   "metadata": {},
   "source": [
    "The histogram highlights a sharp increase in betting activity during the late stages of matches, correlating with higher model confidence levels and lower uncertainty about match outcomes.\n",
    "\n",
    "### Strategic Implications:\n",
    "- **Focus on Late-Game Bets**: Since most profitable bets occur in the 80th to 100th minute range, this suggests that late-game analysis yields more reliable predictions.\n",
    "- **Early Opportunities**: Although rare, early bets can still provide value when the model identifies clear mismatches or significant early-game events, such as goals or penalties.\n",
    "- **Live Betting Applications**: The distribution underscores the importance of live match data in improving prediction accuracy and ROI."
   ]
  },
  {
   "cell_type": "markdown",
   "metadata": {},
   "source": [
    "### 4.4 Confusion Matrix and Classification Report\n",
    "\n",
    "The confusion matrix and detailed classification report for the top-performing model are as follows:\n",
    "\n",
    "#### Confusion Matrix:\n",
    "| Actual \\ Predicted | Draw | Home Win | Away Win |\n",
    "|---------------------|----------|------|----------|\n",
    "| Draw           | 6        | 4    | 4        |\n",
    "| Home Win               | 3        | 51   | 0        |\n",
    "| Away Win            | 1        | 4    | 25       |\n",
    "\n",
    "#### Classification Metrics:\n",
    "- **Precision:** 83.2%\n",
    "- **Recall:** 81.7%\n",
    "- **F1-Score:** 82.4%"
   ]
  },
  {
   "cell_type": "markdown",
   "metadata": {},
   "source": [
    "### 4.5 ROI and Betting Performance\n",
    "\n",
    "The ROI analysis demonstrated that the model consistently achieved profitability across different configurations. The optimal configuration (Configuration 1) yielded:\n",
    "- **Total Profit:** $1150.00\n",
    "- **Win Rate:** 83.67%\n",
    "- **Average Bet Amount:** $100\n",
    "\n",
    "Overall, the results validate the model's effectiveness in identifying profitable betting opportunities by leveraging real-time match statistics and bookmaker odds. The top-performing configuration strikes a balance between accuracy and profitability, making it suitable for live betting scenarios."
   ]
  },
  {
   "cell_type": "markdown",
   "metadata": {},
   "source": [
    "## 5. Conclusion and Future Work\n",
    "\n",
    "### 5.1 Conclusion\n",
    "\n",
    "This study demonstrates the application of a Decision Tree Classifier for predicting football match outcomes in real-time, with a focus on maximizing both prediction accuracy and betting profitability. By leveraging a combination of carefully engineered features, normalized betting odds, and dynamic match statistics, the model provided actionable insights for the popular 1/X/2 betting market.\n",
    "\n",
    "Key takeaways from this project include:\n",
    "- **Data Preprocessing**: Cleaning and transforming the dataset, including the creation of differential features and normalization of betting odds, significantly improved the model's interpretability and predictive capabilities.\n",
    "- **Model Performance**: The sequential prediction strategy ensured that bets were placed only when the model exhibited high confidence. This approach not only enhanced the accuracy of predictions but also resulted in a positive Return on Investment (ROI) across various configurations.\n",
    "- **Betting Time Analysis**: The timing of predictions, particularly during the second half of matches, was found to play a critical role in the model's profitability. Late-game predictions were generally more reliable, reflecting the importance of accumulating in-game data.\n",
    "\n",
    "Overall, the study successfully demonstrated the potential of machine learning models to outperform traditional bookmaker predictions by identifying market inefficiencies and optimal betting opportunities.\n",
    "\n",
    "---\n",
    "\n",
    "### 5.2 Future Work\n",
    "\n",
    "While the project yielded promising results, several areas for improvement and expansion were identified for future research:\n",
    "\n",
    "1. **Incorporating Player-Specific Data**:\n",
    "   - Enriching the dataset with player-specific metrics, such as individual performance, injuries, and substitutions, could enhance the model's predictive power.\n",
    "   - Metrics like player fatigue, form, and match importance (e.g., derby matches or playoff games) could provide additional context for predictions.\n",
    "\n",
    "2. **Exploring Advanced Machine Learning Models**:\n",
    "   - Testing ensemble methods such as Random Forest, Gradient Boosting, or XGBoost to improve prediction accuracy and handle complex interactions among features.\n",
    "   - Investigating deep learning techniques to capture intricate patterns in match dynamics and betting odds.\n",
    "\n",
    "3. **Real-Time Model Deployment**:\n",
    "   - Developing a real-time prediction system capable of processing live match data and updating predictions dynamically.\n",
    "   - Integrating APIs to fetch live betting odds and match statistics for seamless real-time analysis.\n",
    "\n",
    "4. **Optimization Algorithms for Betting Strategies**:\n",
    "   - Implementing optimization algorithms to identify combinations of bets that maximize expected returns while minimizing risks.\n",
    "   - Exploring portfolio-based approaches to manage multiple betting opportunities simultaneously.\n",
    "\n",
    "5. **Cross-League Analysis**:\n",
    "   - Expanding the scope to include multiple leagues and competitions to assess the model's generalizability and robustness across different contexts.\n",
    "\n",
    "6. **User Interface and Visualization**:\n",
    "   - Building an intuitive user interface for presenting predictions and insights to end-users in a visually appealing and actionable format.\n",
    "   - Incorporating interactive visualizations to explore betting trends and model performance.\n",
    "\n",
    "By addressing these areas, future research could further enhance the practical applicability and predictive performance of machine learning models in the sports analytics and betting domain. This would not only improve profitability but also contribute to a deeper understanding of the dynamics that govern football match outcomes.\n"
   ]
  },
  {
   "cell_type": "markdown",
   "metadata": {},
   "source": [
    "## 6. CODE\n",
    "GitHub repository for the code: (https://github.com/BU-IE-582/fall-24-YusufKAvcakar/tree/main/Project)\n",
    "\n"
   ]
  },
  {
   "cell_type": "markdown",
   "metadata": {},
   "source": [
    "## 7. References\n",
    "\n",
    "Adam, A. (2016). *Generalised Linear Model for Football Matches Prediction*. MLSA@PKDD/ECML.\n",
    "\n",
    "Herbinet, C. (2018). *Predicting Football Results Using Machine Learning Techniques*. Individual Project Report, Imperial College of Science, Technology and Medicine.\n",
    "\n",
    "Štrumbelj, E. (2014). *On Determining Probability Forecasts from Betting Odds*. International Journal of Forecasting.\n",
    "\n",
    "Wong, W. K., Xu, Y., & Zhu, H. (2024). *Benchmarking Machine Learning Models for Football Match Outcome Predictions*. Journal of Sports Analytics.\n"
   ]
  }
 ],
 "metadata": {
  "kernelspec": {
   "display_name": "Python 3",
   "language": "python",
   "name": "python3"
  },
  "language_info": {
   "codemirror_mode": {
    "name": "ipython",
    "version": 3
   },
   "file_extension": ".py",
   "mimetype": "text/x-python",
   "name": "python",
   "nbconvert_exporter": "python",
   "pygments_lexer": "ipython3",
   "version": "3.11.1"
  }
 },
 "nbformat": 4,
 "nbformat_minor": 2
}
