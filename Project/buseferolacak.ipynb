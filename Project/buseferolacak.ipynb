{
 "cells": [
  {
   "cell_type": "code",
   "execution_count": 1,
   "metadata": {},
   "outputs": [],
   "source": [
    "import numpy as np\n",
    "import pandas as pd\n",
    "import matplotlib.pyplot as plt"
   ]
  },
  {
   "cell_type": "code",
   "execution_count": 2,
   "metadata": {},
   "outputs": [],
   "source": [
    "match_data = pd.read_excel(\"match_data.xlsx\")\n",
    "match_data = match_data[~(match_data['suspended'] | match_data['stopped'])]\n",
    "match_data.reset_index(inplace=True, drop= True)\n",
    "indices = match_data.index[(match_data['Score Change - away'] == -1) | (match_data['Score Change - home'] == -1)]\n",
    "rows_to_drop = set(indices) | set(indices - 1)\n",
    "rows_to_drop = [i for i in rows_to_drop if i >= 0]\n",
    "match_data = match_data.drop(index=rows_to_drop)\n",
    "match_data.reset_index(inplace=True, drop= True)\n",
    "match_data = match_data.drop_duplicates(subset=['fixture_id', 'minute', 'second'], keep='last')\n",
    "match_data.rename(columns={1:'1', 2:'2'}, inplace=True)\n",
    "match_data.loc[match_data['halftime'] == '2nd-half', 'minute'] += 45\n",
    "match_data['current_state'] = match_data['current_state'].map({'1': 1, 'X': 0, '2': 2})"
   ]
  },
  {
   "cell_type": "code",
   "execution_count": null,
   "metadata": {},
   "outputs": [],
   "source": []
  }
 ],
 "metadata": {
  "kernelspec": {
   "display_name": "Python 3",
   "language": "python",
   "name": "python3"
  },
  "language_info": {
   "codemirror_mode": {
    "name": "ipython",
    "version": 3
   },
   "file_extension": ".py",
   "mimetype": "text/x-python",
   "name": "python",
   "nbconvert_exporter": "python",
   "pygments_lexer": "ipython3",
   "version": "3.10.11"
  }
 },
 "nbformat": 4,
 "nbformat_minor": 2
}
