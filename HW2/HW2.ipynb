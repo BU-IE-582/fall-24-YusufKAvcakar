{
 "cells": [
  {
   "cell_type": "markdown",
   "metadata": {},
   "source": [
    "## HW2"
   ]
  },
  {
   "cell_type": "markdown",
   "metadata": {},
   "source": [
    "## Data and Library Part"
   ]
  },
  {
   "cell_type": "code",
   "execution_count": 55,
   "metadata": {},
   "outputs": [],
   "source": [
    "import numpy as np\n",
    "import pandas as pd\n",
    "import plotly.graph_objects as go"
   ]
  },
  {
   "cell_type": "code",
   "execution_count": 2,
   "metadata": {},
   "outputs": [],
   "source": [
    "match_data = pd.read_excel(\"match_data.xlsx\")"
   ]
  },
  {
   "cell_type": "code",
   "execution_count": 3,
   "metadata": {},
   "outputs": [
    {
     "data": {
      "text/html": [
       "<div>\n",
       "<style scoped>\n",
       "    .dataframe tbody tr th:only-of-type {\n",
       "        vertical-align: middle;\n",
       "    }\n",
       "\n",
       "    .dataframe tbody tr th {\n",
       "        vertical-align: top;\n",
       "    }\n",
       "\n",
       "    .dataframe thead th {\n",
       "        text-align: right;\n",
       "    }\n",
       "</style>\n",
       "<table border=\"1\" class=\"dataframe\">\n",
       "  <thead>\n",
       "    <tr style=\"text-align: right;\">\n",
       "      <th></th>\n",
       "      <th>fixture_id</th>\n",
       "      <th>halftime</th>\n",
       "      <th>current_time</th>\n",
       "      <th>half_start_datetime</th>\n",
       "      <th>match_start_datetime</th>\n",
       "      <th>minute</th>\n",
       "      <th>second</th>\n",
       "      <th>latest_bookmaker_update</th>\n",
       "      <th>suspended</th>\n",
       "      <th>stopped</th>\n",
       "      <th>...</th>\n",
       "      <th>Throwins - home</th>\n",
       "      <th>Total Crosses - away</th>\n",
       "      <th>Total Crosses - home</th>\n",
       "      <th>Yellowcards - away</th>\n",
       "      <th>Yellowcards - home</th>\n",
       "      <th>Yellowred Cards - away</th>\n",
       "      <th>Yellowred Cards - home</th>\n",
       "      <th>current_state</th>\n",
       "      <th>final_score</th>\n",
       "      <th>result</th>\n",
       "    </tr>\n",
       "  </thead>\n",
       "  <tbody>\n",
       "    <tr>\n",
       "      <th>0</th>\n",
       "      <td>19172016.0</td>\n",
       "      <td>1st-half</td>\n",
       "      <td>2024-08-09 18:11:36</td>\n",
       "      <td>2024-08-09 18:01:37</td>\n",
       "      <td>2024-08-09 18:01:37</td>\n",
       "      <td>9</td>\n",
       "      <td>59</td>\n",
       "      <td>2024-08-09 18:11:28</td>\n",
       "      <td>False</td>\n",
       "      <td>False</td>\n",
       "      <td>...</td>\n",
       "      <td>1.0</td>\n",
       "      <td>0.0</td>\n",
       "      <td>3.0</td>\n",
       "      <td>0.0</td>\n",
       "      <td>0.0</td>\n",
       "      <td>0.0</td>\n",
       "      <td>0.0</td>\n",
       "      <td>X</td>\n",
       "      <td>2-1</td>\n",
       "      <td>1</td>\n",
       "    </tr>\n",
       "    <tr>\n",
       "      <th>1</th>\n",
       "      <td>19172016.0</td>\n",
       "      <td>1st-half</td>\n",
       "      <td>2024-08-09 18:27:30</td>\n",
       "      <td>2024-08-09 18:01:37</td>\n",
       "      <td>2024-08-09 18:01:37</td>\n",
       "      <td>25</td>\n",
       "      <td>53</td>\n",
       "      <td>2024-08-09 18:27:24</td>\n",
       "      <td>False</td>\n",
       "      <td>False</td>\n",
       "      <td>...</td>\n",
       "      <td>11.0</td>\n",
       "      <td>1.0</td>\n",
       "      <td>12.0</td>\n",
       "      <td>0.0</td>\n",
       "      <td>0.0</td>\n",
       "      <td>0.0</td>\n",
       "      <td>0.0</td>\n",
       "      <td>X</td>\n",
       "      <td>2-1</td>\n",
       "      <td>1</td>\n",
       "    </tr>\n",
       "    <tr>\n",
       "      <th>2</th>\n",
       "      <td>19172016.0</td>\n",
       "      <td>1st-half</td>\n",
       "      <td>2024-08-09 18:28:25</td>\n",
       "      <td>2024-08-09 18:01:37</td>\n",
       "      <td>2024-08-09 18:01:37</td>\n",
       "      <td>26</td>\n",
       "      <td>48</td>\n",
       "      <td>2024-08-09 18:28:20</td>\n",
       "      <td>False</td>\n",
       "      <td>False</td>\n",
       "      <td>...</td>\n",
       "      <td>11.0</td>\n",
       "      <td>1.0</td>\n",
       "      <td>13.0</td>\n",
       "      <td>0.0</td>\n",
       "      <td>0.0</td>\n",
       "      <td>0.0</td>\n",
       "      <td>0.0</td>\n",
       "      <td>X</td>\n",
       "      <td>2-1</td>\n",
       "      <td>1</td>\n",
       "    </tr>\n",
       "    <tr>\n",
       "      <th>3</th>\n",
       "      <td>19172016.0</td>\n",
       "      <td>1st-half</td>\n",
       "      <td>2024-08-09 18:29:32</td>\n",
       "      <td>2024-08-09 18:01:37</td>\n",
       "      <td>2024-08-09 18:01:37</td>\n",
       "      <td>27</td>\n",
       "      <td>55</td>\n",
       "      <td>2024-08-09 18:29:28</td>\n",
       "      <td>False</td>\n",
       "      <td>False</td>\n",
       "      <td>...</td>\n",
       "      <td>11.0</td>\n",
       "      <td>1.0</td>\n",
       "      <td>13.0</td>\n",
       "      <td>0.0</td>\n",
       "      <td>0.0</td>\n",
       "      <td>0.0</td>\n",
       "      <td>0.0</td>\n",
       "      <td>X</td>\n",
       "      <td>2-1</td>\n",
       "      <td>1</td>\n",
       "    </tr>\n",
       "    <tr>\n",
       "      <th>4</th>\n",
       "      <td>19172016.0</td>\n",
       "      <td>1st-half</td>\n",
       "      <td>2024-08-09 18:30:37</td>\n",
       "      <td>2024-08-09 18:01:37</td>\n",
       "      <td>2024-08-09 18:01:37</td>\n",
       "      <td>29</td>\n",
       "      <td>0</td>\n",
       "      <td>2024-08-09 18:30:32</td>\n",
       "      <td>True</td>\n",
       "      <td>False</td>\n",
       "      <td>...</td>\n",
       "      <td>11.0</td>\n",
       "      <td>1.0</td>\n",
       "      <td>14.0</td>\n",
       "      <td>0.0</td>\n",
       "      <td>0.0</td>\n",
       "      <td>0.0</td>\n",
       "      <td>0.0</td>\n",
       "      <td>X</td>\n",
       "      <td>2-1</td>\n",
       "      <td>1</td>\n",
       "    </tr>\n",
       "  </tbody>\n",
       "</table>\n",
       "<p>5 rows × 106 columns</p>\n",
       "</div>"
      ],
      "text/plain": [
       "   fixture_id  halftime         current_time  half_start_datetime  \\\n",
       "0  19172016.0  1st-half  2024-08-09 18:11:36  2024-08-09 18:01:37   \n",
       "1  19172016.0  1st-half  2024-08-09 18:27:30  2024-08-09 18:01:37   \n",
       "2  19172016.0  1st-half  2024-08-09 18:28:25  2024-08-09 18:01:37   \n",
       "3  19172016.0  1st-half  2024-08-09 18:29:32  2024-08-09 18:01:37   \n",
       "4  19172016.0  1st-half  2024-08-09 18:30:37  2024-08-09 18:01:37   \n",
       "\n",
       "  match_start_datetime  minute  second latest_bookmaker_update  suspended  \\\n",
       "0  2024-08-09 18:01:37       9      59     2024-08-09 18:11:28      False   \n",
       "1  2024-08-09 18:01:37      25      53     2024-08-09 18:27:24      False   \n",
       "2  2024-08-09 18:01:37      26      48     2024-08-09 18:28:20      False   \n",
       "3  2024-08-09 18:01:37      27      55     2024-08-09 18:29:28      False   \n",
       "4  2024-08-09 18:01:37      29       0     2024-08-09 18:30:32       True   \n",
       "\n",
       "   stopped  ...  Throwins - home  Total Crosses - away  Total Crosses - home  \\\n",
       "0    False  ...              1.0                   0.0                   3.0   \n",
       "1    False  ...             11.0                   1.0                  12.0   \n",
       "2    False  ...             11.0                   1.0                  13.0   \n",
       "3    False  ...             11.0                   1.0                  13.0   \n",
       "4    False  ...             11.0                   1.0                  14.0   \n",
       "\n",
       "  Yellowcards - away  Yellowcards - home  Yellowred Cards - away  \\\n",
       "0                0.0                 0.0                     0.0   \n",
       "1                0.0                 0.0                     0.0   \n",
       "2                0.0                 0.0                     0.0   \n",
       "3                0.0                 0.0                     0.0   \n",
       "4                0.0                 0.0                     0.0   \n",
       "\n",
       "   Yellowred Cards - home  current_state  final_score  result  \n",
       "0                     0.0              X          2-1       1  \n",
       "1                     0.0              X          2-1       1  \n",
       "2                     0.0              X          2-1       1  \n",
       "3                     0.0              X          2-1       1  \n",
       "4                     0.0              X          2-1       1  \n",
       "\n",
       "[5 rows x 106 columns]"
      ]
     },
     "execution_count": 3,
     "metadata": {},
     "output_type": "execute_result"
    }
   ],
   "source": [
    "match_data.head()"
   ]
  },
  {
   "cell_type": "markdown",
   "metadata": {},
   "source": [
    "Checked whether any missing value in results and odd columns"
   ]
  },
  {
   "cell_type": "code",
   "execution_count": 64,
   "metadata": {},
   "outputs": [
    {
     "name": "stdout",
     "output_type": "stream",
     "text": [
      "There is no missing value in bet columns\n"
     ]
    }
   ],
   "source": [
    "match_data.rename(columns={1:'1', 2:'2'}, inplace=True)\n",
    "task1_df = match_data[['fixture_id', '1','2','X','result']]\n",
    "task1_df_na = task1_df.dropna()\n",
    "if len(task1_df_na) == len(task1_df):\n",
    "    print('There is no missing value in bet columns')"
   ]
  },
  {
   "cell_type": "markdown",
   "metadata": {},
   "source": [
    "## TASK-1"
   ]
  },
  {
   "cell_type": "markdown",
   "metadata": {},
   "source": [
    "### Formula for normalization of probabilities\n",
    "![alt text](image.png)"
   ]
  },
  {
   "cell_type": "markdown",
   "metadata": {},
   "source": [
    "### Comparing Historical Results and Assigned Probabilities by Bookmaker of Draw Matches "
   ]
  },
  {
   "cell_type": "code",
   "execution_count": 65,
   "metadata": {},
   "outputs": [
    {
     "data": {
      "text/html": [
       "<div>\n",
       "<style scoped>\n",
       "    .dataframe tbody tr th:only-of-type {\n",
       "        vertical-align: middle;\n",
       "    }\n",
       "\n",
       "    .dataframe tbody tr th {\n",
       "        vertical-align: top;\n",
       "    }\n",
       "\n",
       "    .dataframe thead th {\n",
       "        text-align: right;\n",
       "    }\n",
       "</style>\n",
       "<table border=\"1\" class=\"dataframe\">\n",
       "  <thead>\n",
       "    <tr style=\"text-align: right;\">\n",
       "      <th></th>\n",
       "      <th>fixture_id</th>\n",
       "      <th>1</th>\n",
       "      <th>2</th>\n",
       "      <th>X</th>\n",
       "      <th>result</th>\n",
       "      <th>P_home</th>\n",
       "      <th>P_draw</th>\n",
       "      <th>P_away</th>\n",
       "      <th>P_sum</th>\n",
       "      <th>normalized_P_home</th>\n",
       "      <th>normalized_P_draw</th>\n",
       "      <th>normalized_P_away</th>\n",
       "      <th>normalized_P_home-normalized_P_away</th>\n",
       "    </tr>\n",
       "  </thead>\n",
       "  <tbody>\n",
       "    <tr>\n",
       "      <th>0</th>\n",
       "      <td>19172016.0</td>\n",
       "      <td>1.22</td>\n",
       "      <td>10.0</td>\n",
       "      <td>6.5</td>\n",
       "      <td>1</td>\n",
       "      <td>0.819672</td>\n",
       "      <td>0.153846</td>\n",
       "      <td>0.100000</td>\n",
       "      <td>1.073518</td>\n",
       "      <td>0.763538</td>\n",
       "      <td>0.143310</td>\n",
       "      <td>0.093152</td>\n",
       "      <td>0.670386</td>\n",
       "    </tr>\n",
       "    <tr>\n",
       "      <th>1</th>\n",
       "      <td>19172016.0</td>\n",
       "      <td>1.20</td>\n",
       "      <td>13.0</td>\n",
       "      <td>6.0</td>\n",
       "      <td>1</td>\n",
       "      <td>0.833333</td>\n",
       "      <td>0.166667</td>\n",
       "      <td>0.076923</td>\n",
       "      <td>1.076923</td>\n",
       "      <td>0.773810</td>\n",
       "      <td>0.154762</td>\n",
       "      <td>0.071429</td>\n",
       "      <td>0.702381</td>\n",
       "    </tr>\n",
       "    <tr>\n",
       "      <th>2</th>\n",
       "      <td>19172016.0</td>\n",
       "      <td>1.20</td>\n",
       "      <td>13.0</td>\n",
       "      <td>6.0</td>\n",
       "      <td>1</td>\n",
       "      <td>0.833333</td>\n",
       "      <td>0.166667</td>\n",
       "      <td>0.076923</td>\n",
       "      <td>1.076923</td>\n",
       "      <td>0.773810</td>\n",
       "      <td>0.154762</td>\n",
       "      <td>0.071429</td>\n",
       "      <td>0.702381</td>\n",
       "    </tr>\n",
       "    <tr>\n",
       "      <th>3</th>\n",
       "      <td>19172016.0</td>\n",
       "      <td>1.20</td>\n",
       "      <td>13.0</td>\n",
       "      <td>6.0</td>\n",
       "      <td>1</td>\n",
       "      <td>0.833333</td>\n",
       "      <td>0.166667</td>\n",
       "      <td>0.076923</td>\n",
       "      <td>1.076923</td>\n",
       "      <td>0.773810</td>\n",
       "      <td>0.154762</td>\n",
       "      <td>0.071429</td>\n",
       "      <td>0.702381</td>\n",
       "    </tr>\n",
       "    <tr>\n",
       "      <th>4</th>\n",
       "      <td>19172016.0</td>\n",
       "      <td>1.20</td>\n",
       "      <td>13.0</td>\n",
       "      <td>6.0</td>\n",
       "      <td>1</td>\n",
       "      <td>0.833333</td>\n",
       "      <td>0.166667</td>\n",
       "      <td>0.076923</td>\n",
       "      <td>1.076923</td>\n",
       "      <td>0.773810</td>\n",
       "      <td>0.154762</td>\n",
       "      <td>0.071429</td>\n",
       "      <td>0.702381</td>\n",
       "    </tr>\n",
       "    <tr>\n",
       "      <th>...</th>\n",
       "      <td>...</td>\n",
       "      <td>...</td>\n",
       "      <td>...</td>\n",
       "      <td>...</td>\n",
       "      <td>...</td>\n",
       "      <td>...</td>\n",
       "      <td>...</td>\n",
       "      <td>...</td>\n",
       "      <td>...</td>\n",
       "      <td>...</td>\n",
       "      <td>...</td>\n",
       "      <td>...</td>\n",
       "      <td>...</td>\n",
       "    </tr>\n",
       "    <tr>\n",
       "      <th>63939</th>\n",
       "      <td>19135376.0</td>\n",
       "      <td>1.05</td>\n",
       "      <td>201.0</td>\n",
       "      <td>11.0</td>\n",
       "      <td>1</td>\n",
       "      <td>0.952381</td>\n",
       "      <td>0.090909</td>\n",
       "      <td>0.004975</td>\n",
       "      <td>1.048265</td>\n",
       "      <td>0.908531</td>\n",
       "      <td>0.086723</td>\n",
       "      <td>0.004746</td>\n",
       "      <td>0.903785</td>\n",
       "    </tr>\n",
       "    <tr>\n",
       "      <th>63940</th>\n",
       "      <td>19135376.0</td>\n",
       "      <td>1.04</td>\n",
       "      <td>351.0</td>\n",
       "      <td>13.0</td>\n",
       "      <td>1</td>\n",
       "      <td>0.961538</td>\n",
       "      <td>0.076923</td>\n",
       "      <td>0.002849</td>\n",
       "      <td>1.041311</td>\n",
       "      <td>0.923393</td>\n",
       "      <td>0.073871</td>\n",
       "      <td>0.002736</td>\n",
       "      <td>0.920657</td>\n",
       "    </tr>\n",
       "    <tr>\n",
       "      <th>63941</th>\n",
       "      <td>19135376.0</td>\n",
       "      <td>1.02</td>\n",
       "      <td>501.0</td>\n",
       "      <td>17.0</td>\n",
       "      <td>1</td>\n",
       "      <td>0.980392</td>\n",
       "      <td>0.058824</td>\n",
       "      <td>0.001996</td>\n",
       "      <td>1.041212</td>\n",
       "      <td>0.941588</td>\n",
       "      <td>0.056495</td>\n",
       "      <td>0.001917</td>\n",
       "      <td>0.939671</td>\n",
       "    </tr>\n",
       "    <tr>\n",
       "      <th>63942</th>\n",
       "      <td>19135376.0</td>\n",
       "      <td>1.02</td>\n",
       "      <td>501.0</td>\n",
       "      <td>17.0</td>\n",
       "      <td>1</td>\n",
       "      <td>0.980392</td>\n",
       "      <td>0.058824</td>\n",
       "      <td>0.001996</td>\n",
       "      <td>1.041212</td>\n",
       "      <td>0.941588</td>\n",
       "      <td>0.056495</td>\n",
       "      <td>0.001917</td>\n",
       "      <td>0.939671</td>\n",
       "    </tr>\n",
       "    <tr>\n",
       "      <th>63943</th>\n",
       "      <td>19135376.0</td>\n",
       "      <td>1.02</td>\n",
       "      <td>501.0</td>\n",
       "      <td>17.0</td>\n",
       "      <td>1</td>\n",
       "      <td>0.980392</td>\n",
       "      <td>0.058824</td>\n",
       "      <td>0.001996</td>\n",
       "      <td>1.041212</td>\n",
       "      <td>0.941588</td>\n",
       "      <td>0.056495</td>\n",
       "      <td>0.001917</td>\n",
       "      <td>0.939671</td>\n",
       "    </tr>\n",
       "  </tbody>\n",
       "</table>\n",
       "<p>63944 rows × 13 columns</p>\n",
       "</div>"
      ],
      "text/plain": [
       "       fixture_id     1      2     X result    P_home    P_draw    P_away  \\\n",
       "0      19172016.0  1.22   10.0   6.5      1  0.819672  0.153846  0.100000   \n",
       "1      19172016.0  1.20   13.0   6.0      1  0.833333  0.166667  0.076923   \n",
       "2      19172016.0  1.20   13.0   6.0      1  0.833333  0.166667  0.076923   \n",
       "3      19172016.0  1.20   13.0   6.0      1  0.833333  0.166667  0.076923   \n",
       "4      19172016.0  1.20   13.0   6.0      1  0.833333  0.166667  0.076923   \n",
       "...           ...   ...    ...   ...    ...       ...       ...       ...   \n",
       "63939  19135376.0  1.05  201.0  11.0      1  0.952381  0.090909  0.004975   \n",
       "63940  19135376.0  1.04  351.0  13.0      1  0.961538  0.076923  0.002849   \n",
       "63941  19135376.0  1.02  501.0  17.0      1  0.980392  0.058824  0.001996   \n",
       "63942  19135376.0  1.02  501.0  17.0      1  0.980392  0.058824  0.001996   \n",
       "63943  19135376.0  1.02  501.0  17.0      1  0.980392  0.058824  0.001996   \n",
       "\n",
       "          P_sum  normalized_P_home  normalized_P_draw  normalized_P_away  \\\n",
       "0      1.073518           0.763538           0.143310           0.093152   \n",
       "1      1.076923           0.773810           0.154762           0.071429   \n",
       "2      1.076923           0.773810           0.154762           0.071429   \n",
       "3      1.076923           0.773810           0.154762           0.071429   \n",
       "4      1.076923           0.773810           0.154762           0.071429   \n",
       "...         ...                ...                ...                ...   \n",
       "63939  1.048265           0.908531           0.086723           0.004746   \n",
       "63940  1.041311           0.923393           0.073871           0.002736   \n",
       "63941  1.041212           0.941588           0.056495           0.001917   \n",
       "63942  1.041212           0.941588           0.056495           0.001917   \n",
       "63943  1.041212           0.941588           0.056495           0.001917   \n",
       "\n",
       "       normalized_P_home-normalized_P_away  \n",
       "0                                 0.670386  \n",
       "1                                 0.702381  \n",
       "2                                 0.702381  \n",
       "3                                 0.702381  \n",
       "4                                 0.702381  \n",
       "...                                    ...  \n",
       "63939                             0.903785  \n",
       "63940                             0.920657  \n",
       "63941                             0.939671  \n",
       "63942                             0.939671  \n",
       "63943                             0.939671  \n",
       "\n",
       "[63944 rows x 13 columns]"
      ]
     },
     "execution_count": 65,
     "metadata": {},
     "output_type": "execute_result"
    }
   ],
   "source": [
    "task1_df = task1_df.copy()\n",
    "task1_df['P_home'] = 1 / task1_df['1']\n",
    "task1_df['P_draw'] = 1 / task1_df['X']\n",
    "task1_df['P_away'] = 1 / task1_df['2']\n",
    "\n",
    "task1_df['P_sum'] = task1_df['P_home'] + task1_df['P_draw'] + task1_df['P_away']\n",
    "task1_df['normalized_P_home'] = task1_df['P_home'] / task1_df['P_sum']\n",
    "task1_df['normalized_P_draw'] = task1_df['P_draw'] / task1_df['P_sum']\n",
    "task1_df['normalized_P_away'] = task1_df['P_away'] / task1_df['P_sum']\n",
    "\n",
    "task1_df['normalized_P_home-normalized_P_away'] = task1_df['normalized_P_home'] - task1_df['normalized_P_away']\n",
    "task1_df"
   ]
  },
  {
   "cell_type": "markdown",
   "metadata": {},
   "source": [
    "In this part the difference between probability of home win and probability of away win is obtained, then the probalities divided to bins with 0.1 difference. The mean of draw probabilities assigned by bookmaker in these bins are obtained and compared to actual ratio of the match is resulted with draw. "
   ]
  },
  {
   "cell_type": "code",
   "execution_count": 66,
   "metadata": {},
   "outputs": [],
   "source": [
    "bins_and_probs = {'bin_average': [],\n",
    "           'avrg_pr_draw_bm': [],\n",
    "           'actual_draw_pr': []\n",
    "           }\n",
    "bins = np.linspace(-1, 1, 21)\n",
    "\n",
    "for i in range(len(bins[:-1])):\n",
    "    lower_bound = bins[i]\n",
    "    upper_bound = bins[i+1]\n",
    "    bin_average = (lower_bound+upper_bound)/2\n",
    "\n",
    "    filtered_df = task1_df[(task1_df['normalized_P_home-normalized_P_away'] >= lower_bound) & (task1_df['normalized_P_home-normalized_P_away'] < upper_bound)]\n",
    "    \n",
    "    count_result_draw = (filtered_df['result'] == 'X').sum()\n",
    "    \n",
    "    total_rows = len(filtered_df)\n",
    "    \n",
    "    average_bookmaker_prob_draw = filtered_df['normalized_P_draw'].mean()\n",
    "\n",
    "    # Oranı hesapla\n",
    "    if total_rows > 0:\n",
    "        actual_draw_ratio = count_result_draw / total_rows\n",
    "    else:\n",
    "        actual_draw_ratio = 0\n",
    "    \n",
    "    # Sonucu kaydet\n",
    "    bins_and_probs['bin_average'].append(bin_average)\n",
    "    bins_and_probs['actual_draw_pr'].append(actual_draw_ratio)\n",
    "    bins_and_probs['avrg_pr_draw_bm'].append(average_bookmaker_prob_draw)\n",
    "    \n",
    "plotdf1 = pd.DataFrame(bins_and_probs)\n"
   ]
  },
  {
   "cell_type": "code",
   "execution_count": 67,
   "metadata": {},
   "outputs": [
    {
     "data": {
      "application/vnd.plotly.v1+json": {
       "config": {
        "plotlyServerURL": "https://plot.ly"
       },
       "data": [
        {
         "marker": {
          "color": "red"
         },
         "mode": "markers",
         "name": "Average Probabilities for Each Bin",
         "type": "scatter",
         "x": [
          -0.95,
          -0.8500000000000001,
          -0.75,
          -0.6499999999999999,
          -0.55,
          -0.44999999999999996,
          -0.3499999999999999,
          -0.24999999999999994,
          -0.14999999999999997,
          -0.04999999999999999,
          0.050000000000000044,
          0.15000000000000013,
          0.2500000000000001,
          0.3500000000000001,
          0.45000000000000007,
          0.55,
          0.6500000000000001,
          0.7500000000000001,
          0.8500000000000001,
          0.9500000000000001
         ],
         "y": [
          0.03456232368312933,
          0.10069344317060529,
          0.1648265563552108,
          0.20616707925797811,
          0.2368392452273973,
          0.26363427424966196,
          0.2924856010981755,
          0.32501866601450713,
          0.369257128415412,
          0.448606140587495,
          0.47930085206437817,
          0.38634323849236013,
          0.35678245662237934,
          0.3042988883533264,
          0.26693360386845205,
          0.2326565938050794,
          0.1978393144534747,
          0.15867725935528884,
          0.10211073477705214,
          0.03640639369683623
         ]
        },
        {
         "marker": {
          "color": "green"
         },
         "mode": "markers",
         "name": "Historical Probabilities for Each Bin",
         "type": "scatter",
         "x": [
          -0.95,
          -0.8500000000000001,
          -0.75,
          -0.6499999999999999,
          -0.55,
          -0.44999999999999996,
          -0.3499999999999999,
          -0.24999999999999994,
          -0.14999999999999997,
          -0.04999999999999999,
          0.050000000000000044,
          0.15000000000000013,
          0.2500000000000001,
          0.3500000000000001,
          0.45000000000000007,
          0.55,
          0.6500000000000001,
          0.7500000000000001,
          0.8500000000000001,
          0.9500000000000001
         ],
         "y": [
          0.0337108953613808,
          0.12094763092269327,
          0.1518987341772152,
          0.24682814302191464,
          0.2393681652490887,
          0.3185840707964602,
          0.28404255319148936,
          0.3454472843450479,
          0.37569873492203587,
          0.4073875802997859,
          0.47257171615500754,
          0.46418338108882523,
          0.3745230407983563,
          0.3213939980638916,
          0.2754986827248777,
          0.19311436485951722,
          0.18684654300168635,
          0.16814921090387375,
          0.0762936221419976,
          0.03623553095118269
         ]
        }
       ],
       "layout": {
        "height": 600,
        "template": {
         "data": {
          "bar": [
           {
            "error_x": {
             "color": "#2a3f5f"
            },
            "error_y": {
             "color": "#2a3f5f"
            },
            "marker": {
             "line": {
              "color": "#E5ECF6",
              "width": 0.5
             },
             "pattern": {
              "fillmode": "overlay",
              "size": 10,
              "solidity": 0.2
             }
            },
            "type": "bar"
           }
          ],
          "barpolar": [
           {
            "marker": {
             "line": {
              "color": "#E5ECF6",
              "width": 0.5
             },
             "pattern": {
              "fillmode": "overlay",
              "size": 10,
              "solidity": 0.2
             }
            },
            "type": "barpolar"
           }
          ],
          "carpet": [
           {
            "aaxis": {
             "endlinecolor": "#2a3f5f",
             "gridcolor": "white",
             "linecolor": "white",
             "minorgridcolor": "white",
             "startlinecolor": "#2a3f5f"
            },
            "baxis": {
             "endlinecolor": "#2a3f5f",
             "gridcolor": "white",
             "linecolor": "white",
             "minorgridcolor": "white",
             "startlinecolor": "#2a3f5f"
            },
            "type": "carpet"
           }
          ],
          "choropleth": [
           {
            "colorbar": {
             "outlinewidth": 0,
             "ticks": ""
            },
            "type": "choropleth"
           }
          ],
          "contour": [
           {
            "colorbar": {
             "outlinewidth": 0,
             "ticks": ""
            },
            "colorscale": [
             [
              0,
              "#0d0887"
             ],
             [
              0.1111111111111111,
              "#46039f"
             ],
             [
              0.2222222222222222,
              "#7201a8"
             ],
             [
              0.3333333333333333,
              "#9c179e"
             ],
             [
              0.4444444444444444,
              "#bd3786"
             ],
             [
              0.5555555555555556,
              "#d8576b"
             ],
             [
              0.6666666666666666,
              "#ed7953"
             ],
             [
              0.7777777777777778,
              "#fb9f3a"
             ],
             [
              0.8888888888888888,
              "#fdca26"
             ],
             [
              1,
              "#f0f921"
             ]
            ],
            "type": "contour"
           }
          ],
          "contourcarpet": [
           {
            "colorbar": {
             "outlinewidth": 0,
             "ticks": ""
            },
            "type": "contourcarpet"
           }
          ],
          "heatmap": [
           {
            "colorbar": {
             "outlinewidth": 0,
             "ticks": ""
            },
            "colorscale": [
             [
              0,
              "#0d0887"
             ],
             [
              0.1111111111111111,
              "#46039f"
             ],
             [
              0.2222222222222222,
              "#7201a8"
             ],
             [
              0.3333333333333333,
              "#9c179e"
             ],
             [
              0.4444444444444444,
              "#bd3786"
             ],
             [
              0.5555555555555556,
              "#d8576b"
             ],
             [
              0.6666666666666666,
              "#ed7953"
             ],
             [
              0.7777777777777778,
              "#fb9f3a"
             ],
             [
              0.8888888888888888,
              "#fdca26"
             ],
             [
              1,
              "#f0f921"
             ]
            ],
            "type": "heatmap"
           }
          ],
          "heatmapgl": [
           {
            "colorbar": {
             "outlinewidth": 0,
             "ticks": ""
            },
            "colorscale": [
             [
              0,
              "#0d0887"
             ],
             [
              0.1111111111111111,
              "#46039f"
             ],
             [
              0.2222222222222222,
              "#7201a8"
             ],
             [
              0.3333333333333333,
              "#9c179e"
             ],
             [
              0.4444444444444444,
              "#bd3786"
             ],
             [
              0.5555555555555556,
              "#d8576b"
             ],
             [
              0.6666666666666666,
              "#ed7953"
             ],
             [
              0.7777777777777778,
              "#fb9f3a"
             ],
             [
              0.8888888888888888,
              "#fdca26"
             ],
             [
              1,
              "#f0f921"
             ]
            ],
            "type": "heatmapgl"
           }
          ],
          "histogram": [
           {
            "marker": {
             "pattern": {
              "fillmode": "overlay",
              "size": 10,
              "solidity": 0.2
             }
            },
            "type": "histogram"
           }
          ],
          "histogram2d": [
           {
            "colorbar": {
             "outlinewidth": 0,
             "ticks": ""
            },
            "colorscale": [
             [
              0,
              "#0d0887"
             ],
             [
              0.1111111111111111,
              "#46039f"
             ],
             [
              0.2222222222222222,
              "#7201a8"
             ],
             [
              0.3333333333333333,
              "#9c179e"
             ],
             [
              0.4444444444444444,
              "#bd3786"
             ],
             [
              0.5555555555555556,
              "#d8576b"
             ],
             [
              0.6666666666666666,
              "#ed7953"
             ],
             [
              0.7777777777777778,
              "#fb9f3a"
             ],
             [
              0.8888888888888888,
              "#fdca26"
             ],
             [
              1,
              "#f0f921"
             ]
            ],
            "type": "histogram2d"
           }
          ],
          "histogram2dcontour": [
           {
            "colorbar": {
             "outlinewidth": 0,
             "ticks": ""
            },
            "colorscale": [
             [
              0,
              "#0d0887"
             ],
             [
              0.1111111111111111,
              "#46039f"
             ],
             [
              0.2222222222222222,
              "#7201a8"
             ],
             [
              0.3333333333333333,
              "#9c179e"
             ],
             [
              0.4444444444444444,
              "#bd3786"
             ],
             [
              0.5555555555555556,
              "#d8576b"
             ],
             [
              0.6666666666666666,
              "#ed7953"
             ],
             [
              0.7777777777777778,
              "#fb9f3a"
             ],
             [
              0.8888888888888888,
              "#fdca26"
             ],
             [
              1,
              "#f0f921"
             ]
            ],
            "type": "histogram2dcontour"
           }
          ],
          "mesh3d": [
           {
            "colorbar": {
             "outlinewidth": 0,
             "ticks": ""
            },
            "type": "mesh3d"
           }
          ],
          "parcoords": [
           {
            "line": {
             "colorbar": {
              "outlinewidth": 0,
              "ticks": ""
             }
            },
            "type": "parcoords"
           }
          ],
          "pie": [
           {
            "automargin": true,
            "type": "pie"
           }
          ],
          "scatter": [
           {
            "fillpattern": {
             "fillmode": "overlay",
             "size": 10,
             "solidity": 0.2
            },
            "type": "scatter"
           }
          ],
          "scatter3d": [
           {
            "line": {
             "colorbar": {
              "outlinewidth": 0,
              "ticks": ""
             }
            },
            "marker": {
             "colorbar": {
              "outlinewidth": 0,
              "ticks": ""
             }
            },
            "type": "scatter3d"
           }
          ],
          "scattercarpet": [
           {
            "marker": {
             "colorbar": {
              "outlinewidth": 0,
              "ticks": ""
             }
            },
            "type": "scattercarpet"
           }
          ],
          "scattergeo": [
           {
            "marker": {
             "colorbar": {
              "outlinewidth": 0,
              "ticks": ""
             }
            },
            "type": "scattergeo"
           }
          ],
          "scattergl": [
           {
            "marker": {
             "colorbar": {
              "outlinewidth": 0,
              "ticks": ""
             }
            },
            "type": "scattergl"
           }
          ],
          "scattermapbox": [
           {
            "marker": {
             "colorbar": {
              "outlinewidth": 0,
              "ticks": ""
             }
            },
            "type": "scattermapbox"
           }
          ],
          "scatterpolar": [
           {
            "marker": {
             "colorbar": {
              "outlinewidth": 0,
              "ticks": ""
             }
            },
            "type": "scatterpolar"
           }
          ],
          "scatterpolargl": [
           {
            "marker": {
             "colorbar": {
              "outlinewidth": 0,
              "ticks": ""
             }
            },
            "type": "scatterpolargl"
           }
          ],
          "scatterternary": [
           {
            "marker": {
             "colorbar": {
              "outlinewidth": 0,
              "ticks": ""
             }
            },
            "type": "scatterternary"
           }
          ],
          "surface": [
           {
            "colorbar": {
             "outlinewidth": 0,
             "ticks": ""
            },
            "colorscale": [
             [
              0,
              "#0d0887"
             ],
             [
              0.1111111111111111,
              "#46039f"
             ],
             [
              0.2222222222222222,
              "#7201a8"
             ],
             [
              0.3333333333333333,
              "#9c179e"
             ],
             [
              0.4444444444444444,
              "#bd3786"
             ],
             [
              0.5555555555555556,
              "#d8576b"
             ],
             [
              0.6666666666666666,
              "#ed7953"
             ],
             [
              0.7777777777777778,
              "#fb9f3a"
             ],
             [
              0.8888888888888888,
              "#fdca26"
             ],
             [
              1,
              "#f0f921"
             ]
            ],
            "type": "surface"
           }
          ],
          "table": [
           {
            "cells": {
             "fill": {
              "color": "#EBF0F8"
             },
             "line": {
              "color": "white"
             }
            },
            "header": {
             "fill": {
              "color": "#C8D4E3"
             },
             "line": {
              "color": "white"
             }
            },
            "type": "table"
           }
          ]
         },
         "layout": {
          "annotationdefaults": {
           "arrowcolor": "#2a3f5f",
           "arrowhead": 0,
           "arrowwidth": 1
          },
          "autotypenumbers": "strict",
          "coloraxis": {
           "colorbar": {
            "outlinewidth": 0,
            "ticks": ""
           }
          },
          "colorscale": {
           "diverging": [
            [
             0,
             "#8e0152"
            ],
            [
             0.1,
             "#c51b7d"
            ],
            [
             0.2,
             "#de77ae"
            ],
            [
             0.3,
             "#f1b6da"
            ],
            [
             0.4,
             "#fde0ef"
            ],
            [
             0.5,
             "#f7f7f7"
            ],
            [
             0.6,
             "#e6f5d0"
            ],
            [
             0.7,
             "#b8e186"
            ],
            [
             0.8,
             "#7fbc41"
            ],
            [
             0.9,
             "#4d9221"
            ],
            [
             1,
             "#276419"
            ]
           ],
           "sequential": [
            [
             0,
             "#0d0887"
            ],
            [
             0.1111111111111111,
             "#46039f"
            ],
            [
             0.2222222222222222,
             "#7201a8"
            ],
            [
             0.3333333333333333,
             "#9c179e"
            ],
            [
             0.4444444444444444,
             "#bd3786"
            ],
            [
             0.5555555555555556,
             "#d8576b"
            ],
            [
             0.6666666666666666,
             "#ed7953"
            ],
            [
             0.7777777777777778,
             "#fb9f3a"
            ],
            [
             0.8888888888888888,
             "#fdca26"
            ],
            [
             1,
             "#f0f921"
            ]
           ],
           "sequentialminus": [
            [
             0,
             "#0d0887"
            ],
            [
             0.1111111111111111,
             "#46039f"
            ],
            [
             0.2222222222222222,
             "#7201a8"
            ],
            [
             0.3333333333333333,
             "#9c179e"
            ],
            [
             0.4444444444444444,
             "#bd3786"
            ],
            [
             0.5555555555555556,
             "#d8576b"
            ],
            [
             0.6666666666666666,
             "#ed7953"
            ],
            [
             0.7777777777777778,
             "#fb9f3a"
            ],
            [
             0.8888888888888888,
             "#fdca26"
            ],
            [
             1,
             "#f0f921"
            ]
           ]
          },
          "colorway": [
           "#636efa",
           "#EF553B",
           "#00cc96",
           "#ab63fa",
           "#FFA15A",
           "#19d3f3",
           "#FF6692",
           "#B6E880",
           "#FF97FF",
           "#FECB52"
          ],
          "font": {
           "color": "#2a3f5f"
          },
          "geo": {
           "bgcolor": "white",
           "lakecolor": "white",
           "landcolor": "#E5ECF6",
           "showlakes": true,
           "showland": true,
           "subunitcolor": "white"
          },
          "hoverlabel": {
           "align": "left"
          },
          "hovermode": "closest",
          "mapbox": {
           "style": "light"
          },
          "paper_bgcolor": "white",
          "plot_bgcolor": "#E5ECF6",
          "polar": {
           "angularaxis": {
            "gridcolor": "white",
            "linecolor": "white",
            "ticks": ""
           },
           "bgcolor": "#E5ECF6",
           "radialaxis": {
            "gridcolor": "white",
            "linecolor": "white",
            "ticks": ""
           }
          },
          "scene": {
           "xaxis": {
            "backgroundcolor": "#E5ECF6",
            "gridcolor": "white",
            "gridwidth": 2,
            "linecolor": "white",
            "showbackground": true,
            "ticks": "",
            "zerolinecolor": "white"
           },
           "yaxis": {
            "backgroundcolor": "#E5ECF6",
            "gridcolor": "white",
            "gridwidth": 2,
            "linecolor": "white",
            "showbackground": true,
            "ticks": "",
            "zerolinecolor": "white"
           },
           "zaxis": {
            "backgroundcolor": "#E5ECF6",
            "gridcolor": "white",
            "gridwidth": 2,
            "linecolor": "white",
            "showbackground": true,
            "ticks": "",
            "zerolinecolor": "white"
           }
          },
          "shapedefaults": {
           "line": {
            "color": "#2a3f5f"
           }
          },
          "ternary": {
           "aaxis": {
            "gridcolor": "white",
            "linecolor": "white",
            "ticks": ""
           },
           "baxis": {
            "gridcolor": "white",
            "linecolor": "white",
            "ticks": ""
           },
           "bgcolor": "#E5ECF6",
           "caxis": {
            "gridcolor": "white",
            "linecolor": "white",
            "ticks": ""
           }
          },
          "title": {
           "x": 0.05
          },
          "xaxis": {
           "automargin": true,
           "gridcolor": "white",
           "linecolor": "white",
           "ticks": "",
           "title": {
            "standoff": 15
           },
           "zerolinecolor": "white",
           "zerolinewidth": 2
          },
          "yaxis": {
           "automargin": true,
           "gridcolor": "white",
           "linecolor": "white",
           "ticks": "",
           "title": {
            "standoff": 15
           },
           "zerolinecolor": "white",
           "zerolinewidth": 2
          }
         }
        },
        "title": {
         "text": "Bookmaker Probability vs. Historical Probabilities"
        },
        "width": 1200,
        "xaxis": {
         "tickangle": 0,
         "tickmode": "array",
         "tickvals": [
          -1,
          -0.9,
          -0.8,
          -0.7,
          -0.6,
          -0.5,
          -0.3999999999999999,
          -0.29999999999999993,
          -0.19999999999999996,
          -0.09999999999999998,
          0,
          0.10000000000000009,
          0.20000000000000018,
          0.30000000000000004,
          0.40000000000000013,
          0.5,
          0.6000000000000001,
          0.7000000000000002,
          0.8,
          0.9000000000000001,
          1
         ],
         "title": {
          "text": "Bin Average"
         }
        },
        "yaxis": {
         "title": {
          "text": "Probabilities"
         }
        }
       }
      }
     },
     "metadata": {},
     "output_type": "display_data"
    }
   ],
   "source": [
    "fig = go.Figure()\n",
    "fig.add_trace(go.Scatter(\n",
    "        x=plotdf1['bin_average'],\n",
    "        y=plotdf1['avrg_pr_draw_bm'],\n",
    "        mode='markers',\n",
    "        marker=dict(\n",
    "            color='red'\n",
    "        ),\n",
    "        name=\"Average Probabilities for Each Bin\",))\n",
    "\n",
    "fig.add_trace(go.Scatter(\n",
    "        x=plotdf1['bin_average'],\n",
    "        y=plotdf1['actual_draw_pr'],\n",
    "        mode='markers',\n",
    "        marker=dict(\n",
    "            color='green'\n",
    "        ),\n",
    "        name=\"Historical Probabilities for Each Bin\",))\n",
    "\n",
    "fig.update_xaxes(\n",
    "    tickmode='array',\n",
    "    tickvals=np.linspace(-1, 1, 21),\n",
    "    title_text='Bin Average'\n",
    ")\n",
    "\n",
    "fig.update_layout(\n",
    "    width=1200,\n",
    "    height=600,\n",
    "    title='Bookmaker Probability vs. Historical Probabilities',\n",
    "    xaxis=dict(tickangle=0),\n",
    "    yaxis=dict(title_text='Probabilities'),\n",
    "    # template='plotly_white' \n",
    ")\n",
    "fig.show()"
   ]
  },
  {
   "cell_type": "markdown",
   "metadata": {},
   "source": [
    "Bias Comment"
   ]
  },
  {
   "cell_type": "markdown",
   "metadata": {},
   "source": [
    "## TASK-2"
   ]
  },
  {
   "cell_type": "code",
   "execution_count": 68,
   "metadata": {},
   "outputs": [
    {
     "data": {
      "text/html": [
       "<div>\n",
       "<style scoped>\n",
       "    .dataframe tbody tr th:only-of-type {\n",
       "        vertical-align: middle;\n",
       "    }\n",
       "\n",
       "    .dataframe tbody tr th {\n",
       "        vertical-align: top;\n",
       "    }\n",
       "\n",
       "    .dataframe thead th {\n",
       "        text-align: right;\n",
       "    }\n",
       "</style>\n",
       "<table border=\"1\" class=\"dataframe\">\n",
       "  <thead>\n",
       "    <tr style=\"text-align: right;\">\n",
       "      <th></th>\n",
       "      <th>fixture_id</th>\n",
       "      <th>halftime</th>\n",
       "      <th>current_time</th>\n",
       "      <th>half_start_datetime</th>\n",
       "      <th>match_start_datetime</th>\n",
       "      <th>minute</th>\n",
       "      <th>second</th>\n",
       "      <th>latest_bookmaker_update</th>\n",
       "      <th>suspended</th>\n",
       "      <th>stopped</th>\n",
       "      <th>...</th>\n",
       "      <th>Throwins - home</th>\n",
       "      <th>Total Crosses - away</th>\n",
       "      <th>Total Crosses - home</th>\n",
       "      <th>Yellowcards - away</th>\n",
       "      <th>Yellowcards - home</th>\n",
       "      <th>Yellowred Cards - away</th>\n",
       "      <th>Yellowred Cards - home</th>\n",
       "      <th>current_state</th>\n",
       "      <th>final_score</th>\n",
       "      <th>result</th>\n",
       "    </tr>\n",
       "  </thead>\n",
       "  <tbody>\n",
       "    <tr>\n",
       "      <th>0</th>\n",
       "      <td>19172016.0</td>\n",
       "      <td>1st-half</td>\n",
       "      <td>2024-08-09 18:11:36</td>\n",
       "      <td>2024-08-09 18:01:37</td>\n",
       "      <td>2024-08-09 18:01:37</td>\n",
       "      <td>9</td>\n",
       "      <td>59</td>\n",
       "      <td>2024-08-09 18:11:28</td>\n",
       "      <td>False</td>\n",
       "      <td>False</td>\n",
       "      <td>...</td>\n",
       "      <td>1.0</td>\n",
       "      <td>0.0</td>\n",
       "      <td>3.0</td>\n",
       "      <td>0.0</td>\n",
       "      <td>0.0</td>\n",
       "      <td>0.0</td>\n",
       "      <td>0.0</td>\n",
       "      <td>X</td>\n",
       "      <td>2-1</td>\n",
       "      <td>1</td>\n",
       "    </tr>\n",
       "    <tr>\n",
       "      <th>1</th>\n",
       "      <td>19172016.0</td>\n",
       "      <td>1st-half</td>\n",
       "      <td>2024-08-09 18:27:30</td>\n",
       "      <td>2024-08-09 18:01:37</td>\n",
       "      <td>2024-08-09 18:01:37</td>\n",
       "      <td>25</td>\n",
       "      <td>53</td>\n",
       "      <td>2024-08-09 18:27:24</td>\n",
       "      <td>False</td>\n",
       "      <td>False</td>\n",
       "      <td>...</td>\n",
       "      <td>11.0</td>\n",
       "      <td>1.0</td>\n",
       "      <td>12.0</td>\n",
       "      <td>0.0</td>\n",
       "      <td>0.0</td>\n",
       "      <td>0.0</td>\n",
       "      <td>0.0</td>\n",
       "      <td>X</td>\n",
       "      <td>2-1</td>\n",
       "      <td>1</td>\n",
       "    </tr>\n",
       "    <tr>\n",
       "      <th>2</th>\n",
       "      <td>19172016.0</td>\n",
       "      <td>1st-half</td>\n",
       "      <td>2024-08-09 18:28:25</td>\n",
       "      <td>2024-08-09 18:01:37</td>\n",
       "      <td>2024-08-09 18:01:37</td>\n",
       "      <td>26</td>\n",
       "      <td>48</td>\n",
       "      <td>2024-08-09 18:28:20</td>\n",
       "      <td>False</td>\n",
       "      <td>False</td>\n",
       "      <td>...</td>\n",
       "      <td>11.0</td>\n",
       "      <td>1.0</td>\n",
       "      <td>13.0</td>\n",
       "      <td>0.0</td>\n",
       "      <td>0.0</td>\n",
       "      <td>0.0</td>\n",
       "      <td>0.0</td>\n",
       "      <td>X</td>\n",
       "      <td>2-1</td>\n",
       "      <td>1</td>\n",
       "    </tr>\n",
       "    <tr>\n",
       "      <th>3</th>\n",
       "      <td>19172016.0</td>\n",
       "      <td>1st-half</td>\n",
       "      <td>2024-08-09 18:29:32</td>\n",
       "      <td>2024-08-09 18:01:37</td>\n",
       "      <td>2024-08-09 18:01:37</td>\n",
       "      <td>27</td>\n",
       "      <td>55</td>\n",
       "      <td>2024-08-09 18:29:28</td>\n",
       "      <td>False</td>\n",
       "      <td>False</td>\n",
       "      <td>...</td>\n",
       "      <td>11.0</td>\n",
       "      <td>1.0</td>\n",
       "      <td>13.0</td>\n",
       "      <td>0.0</td>\n",
       "      <td>0.0</td>\n",
       "      <td>0.0</td>\n",
       "      <td>0.0</td>\n",
       "      <td>X</td>\n",
       "      <td>2-1</td>\n",
       "      <td>1</td>\n",
       "    </tr>\n",
       "    <tr>\n",
       "      <th>4</th>\n",
       "      <td>19172016.0</td>\n",
       "      <td>1st-half</td>\n",
       "      <td>2024-08-09 18:30:37</td>\n",
       "      <td>2024-08-09 18:01:37</td>\n",
       "      <td>2024-08-09 18:01:37</td>\n",
       "      <td>29</td>\n",
       "      <td>0</td>\n",
       "      <td>2024-08-09 18:30:32</td>\n",
       "      <td>True</td>\n",
       "      <td>False</td>\n",
       "      <td>...</td>\n",
       "      <td>11.0</td>\n",
       "      <td>1.0</td>\n",
       "      <td>14.0</td>\n",
       "      <td>0.0</td>\n",
       "      <td>0.0</td>\n",
       "      <td>0.0</td>\n",
       "      <td>0.0</td>\n",
       "      <td>X</td>\n",
       "      <td>2-1</td>\n",
       "      <td>1</td>\n",
       "    </tr>\n",
       "  </tbody>\n",
       "</table>\n",
       "<p>5 rows × 106 columns</p>\n",
       "</div>"
      ],
      "text/plain": [
       "   fixture_id  halftime         current_time  half_start_datetime  \\\n",
       "0  19172016.0  1st-half  2024-08-09 18:11:36  2024-08-09 18:01:37   \n",
       "1  19172016.0  1st-half  2024-08-09 18:27:30  2024-08-09 18:01:37   \n",
       "2  19172016.0  1st-half  2024-08-09 18:28:25  2024-08-09 18:01:37   \n",
       "3  19172016.0  1st-half  2024-08-09 18:29:32  2024-08-09 18:01:37   \n",
       "4  19172016.0  1st-half  2024-08-09 18:30:37  2024-08-09 18:01:37   \n",
       "\n",
       "  match_start_datetime  minute  second latest_bookmaker_update  suspended  \\\n",
       "0  2024-08-09 18:01:37       9      59     2024-08-09 18:11:28      False   \n",
       "1  2024-08-09 18:01:37      25      53     2024-08-09 18:27:24      False   \n",
       "2  2024-08-09 18:01:37      26      48     2024-08-09 18:28:20      False   \n",
       "3  2024-08-09 18:01:37      27      55     2024-08-09 18:29:28      False   \n",
       "4  2024-08-09 18:01:37      29       0     2024-08-09 18:30:32       True   \n",
       "\n",
       "   stopped  ...  Throwins - home  Total Crosses - away  Total Crosses - home  \\\n",
       "0    False  ...              1.0                   0.0                   3.0   \n",
       "1    False  ...             11.0                   1.0                  12.0   \n",
       "2    False  ...             11.0                   1.0                  13.0   \n",
       "3    False  ...             11.0                   1.0                  13.0   \n",
       "4    False  ...             11.0                   1.0                  14.0   \n",
       "\n",
       "  Yellowcards - away  Yellowcards - home  Yellowred Cards - away  \\\n",
       "0                0.0                 0.0                     0.0   \n",
       "1                0.0                 0.0                     0.0   \n",
       "2                0.0                 0.0                     0.0   \n",
       "3                0.0                 0.0                     0.0   \n",
       "4                0.0                 0.0                     0.0   \n",
       "\n",
       "   Yellowred Cards - home  current_state  final_score  result  \n",
       "0                     0.0              X          2-1       1  \n",
       "1                     0.0              X          2-1       1  \n",
       "2                     0.0              X          2-1       1  \n",
       "3                     0.0              X          2-1       1  \n",
       "4                     0.0              X          2-1       1  \n",
       "\n",
       "[5 rows x 106 columns]"
      ]
     },
     "execution_count": 68,
     "metadata": {},
     "output_type": "execute_result"
    }
   ],
   "source": [
    "match_data.head()"
   ]
  }
 ],
 "metadata": {
  "kernelspec": {
   "display_name": "Python 3",
   "language": "python",
   "name": "python3"
  },
  "language_info": {
   "codemirror_mode": {
    "name": "ipython",
    "version": 3
   },
   "file_extension": ".py",
   "mimetype": "text/x-python",
   "name": "python",
   "nbconvert_exporter": "python",
   "pygments_lexer": "ipython3",
   "version": "3.10.11"
  }
 },
 "nbformat": 4,
 "nbformat_minor": 2
}
