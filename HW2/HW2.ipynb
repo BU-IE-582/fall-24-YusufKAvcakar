{
 "cells": [
  {
   "cell_type": "markdown",
   "metadata": {},
   "source": [
    "## HW2"
   ]
  },
  {
   "cell_type": "markdown",
   "metadata": {},
   "source": [
    "## Data and Library Part"
   ]
  },
  {
   "cell_type": "code",
   "execution_count": 1,
   "metadata": {},
   "outputs": [],
   "source": [
    "import numpy as np\n",
    "import pandas as pd\n",
    "import plotly.graph_objects as go"
   ]
  },
  {
   "cell_type": "code",
   "execution_count": 2,
   "metadata": {},
   "outputs": [],
   "source": [
    "match_data = pd.read_excel(\"match_data.xlsx\")"
   ]
  },
  {
   "cell_type": "code",
   "execution_count": 3,
   "metadata": {},
   "outputs": [
    {
     "data": {
      "text/html": [
       "<div>\n",
       "<style scoped>\n",
       "    .dataframe tbody tr th:only-of-type {\n",
       "        vertical-align: middle;\n",
       "    }\n",
       "\n",
       "    .dataframe tbody tr th {\n",
       "        vertical-align: top;\n",
       "    }\n",
       "\n",
       "    .dataframe thead th {\n",
       "        text-align: right;\n",
       "    }\n",
       "</style>\n",
       "<table border=\"1\" class=\"dataframe\">\n",
       "  <thead>\n",
       "    <tr style=\"text-align: right;\">\n",
       "      <th></th>\n",
       "      <th>fixture_id</th>\n",
       "      <th>halftime</th>\n",
       "      <th>current_time</th>\n",
       "      <th>half_start_datetime</th>\n",
       "      <th>match_start_datetime</th>\n",
       "      <th>minute</th>\n",
       "      <th>second</th>\n",
       "      <th>latest_bookmaker_update</th>\n",
       "      <th>suspended</th>\n",
       "      <th>stopped</th>\n",
       "      <th>...</th>\n",
       "      <th>Throwins - home</th>\n",
       "      <th>Total Crosses - away</th>\n",
       "      <th>Total Crosses - home</th>\n",
       "      <th>Yellowcards - away</th>\n",
       "      <th>Yellowcards - home</th>\n",
       "      <th>Yellowred Cards - away</th>\n",
       "      <th>Yellowred Cards - home</th>\n",
       "      <th>current_state</th>\n",
       "      <th>final_score</th>\n",
       "      <th>result</th>\n",
       "    </tr>\n",
       "  </thead>\n",
       "  <tbody>\n",
       "    <tr>\n",
       "      <th>0</th>\n",
       "      <td>19172016.0</td>\n",
       "      <td>1st-half</td>\n",
       "      <td>2024-08-09 18:11:36</td>\n",
       "      <td>2024-08-09 18:01:37</td>\n",
       "      <td>2024-08-09 18:01:37</td>\n",
       "      <td>9</td>\n",
       "      <td>59</td>\n",
       "      <td>2024-08-09 18:11:28</td>\n",
       "      <td>False</td>\n",
       "      <td>False</td>\n",
       "      <td>...</td>\n",
       "      <td>1.0</td>\n",
       "      <td>0.0</td>\n",
       "      <td>3.0</td>\n",
       "      <td>0.0</td>\n",
       "      <td>0.0</td>\n",
       "      <td>0.0</td>\n",
       "      <td>0.0</td>\n",
       "      <td>X</td>\n",
       "      <td>2-1</td>\n",
       "      <td>1</td>\n",
       "    </tr>\n",
       "    <tr>\n",
       "      <th>1</th>\n",
       "      <td>19172016.0</td>\n",
       "      <td>1st-half</td>\n",
       "      <td>2024-08-09 18:27:30</td>\n",
       "      <td>2024-08-09 18:01:37</td>\n",
       "      <td>2024-08-09 18:01:37</td>\n",
       "      <td>25</td>\n",
       "      <td>53</td>\n",
       "      <td>2024-08-09 18:27:24</td>\n",
       "      <td>False</td>\n",
       "      <td>False</td>\n",
       "      <td>...</td>\n",
       "      <td>11.0</td>\n",
       "      <td>1.0</td>\n",
       "      <td>12.0</td>\n",
       "      <td>0.0</td>\n",
       "      <td>0.0</td>\n",
       "      <td>0.0</td>\n",
       "      <td>0.0</td>\n",
       "      <td>X</td>\n",
       "      <td>2-1</td>\n",
       "      <td>1</td>\n",
       "    </tr>\n",
       "    <tr>\n",
       "      <th>2</th>\n",
       "      <td>19172016.0</td>\n",
       "      <td>1st-half</td>\n",
       "      <td>2024-08-09 18:28:25</td>\n",
       "      <td>2024-08-09 18:01:37</td>\n",
       "      <td>2024-08-09 18:01:37</td>\n",
       "      <td>26</td>\n",
       "      <td>48</td>\n",
       "      <td>2024-08-09 18:28:20</td>\n",
       "      <td>False</td>\n",
       "      <td>False</td>\n",
       "      <td>...</td>\n",
       "      <td>11.0</td>\n",
       "      <td>1.0</td>\n",
       "      <td>13.0</td>\n",
       "      <td>0.0</td>\n",
       "      <td>0.0</td>\n",
       "      <td>0.0</td>\n",
       "      <td>0.0</td>\n",
       "      <td>X</td>\n",
       "      <td>2-1</td>\n",
       "      <td>1</td>\n",
       "    </tr>\n",
       "    <tr>\n",
       "      <th>3</th>\n",
       "      <td>19172016.0</td>\n",
       "      <td>1st-half</td>\n",
       "      <td>2024-08-09 18:29:32</td>\n",
       "      <td>2024-08-09 18:01:37</td>\n",
       "      <td>2024-08-09 18:01:37</td>\n",
       "      <td>27</td>\n",
       "      <td>55</td>\n",
       "      <td>2024-08-09 18:29:28</td>\n",
       "      <td>False</td>\n",
       "      <td>False</td>\n",
       "      <td>...</td>\n",
       "      <td>11.0</td>\n",
       "      <td>1.0</td>\n",
       "      <td>13.0</td>\n",
       "      <td>0.0</td>\n",
       "      <td>0.0</td>\n",
       "      <td>0.0</td>\n",
       "      <td>0.0</td>\n",
       "      <td>X</td>\n",
       "      <td>2-1</td>\n",
       "      <td>1</td>\n",
       "    </tr>\n",
       "    <tr>\n",
       "      <th>4</th>\n",
       "      <td>19172016.0</td>\n",
       "      <td>1st-half</td>\n",
       "      <td>2024-08-09 18:30:37</td>\n",
       "      <td>2024-08-09 18:01:37</td>\n",
       "      <td>2024-08-09 18:01:37</td>\n",
       "      <td>29</td>\n",
       "      <td>0</td>\n",
       "      <td>2024-08-09 18:30:32</td>\n",
       "      <td>True</td>\n",
       "      <td>False</td>\n",
       "      <td>...</td>\n",
       "      <td>11.0</td>\n",
       "      <td>1.0</td>\n",
       "      <td>14.0</td>\n",
       "      <td>0.0</td>\n",
       "      <td>0.0</td>\n",
       "      <td>0.0</td>\n",
       "      <td>0.0</td>\n",
       "      <td>X</td>\n",
       "      <td>2-1</td>\n",
       "      <td>1</td>\n",
       "    </tr>\n",
       "  </tbody>\n",
       "</table>\n",
       "<p>5 rows × 106 columns</p>\n",
       "</div>"
      ],
      "text/plain": [
       "   fixture_id  halftime         current_time  half_start_datetime  \\\n",
       "0  19172016.0  1st-half  2024-08-09 18:11:36  2024-08-09 18:01:37   \n",
       "1  19172016.0  1st-half  2024-08-09 18:27:30  2024-08-09 18:01:37   \n",
       "2  19172016.0  1st-half  2024-08-09 18:28:25  2024-08-09 18:01:37   \n",
       "3  19172016.0  1st-half  2024-08-09 18:29:32  2024-08-09 18:01:37   \n",
       "4  19172016.0  1st-half  2024-08-09 18:30:37  2024-08-09 18:01:37   \n",
       "\n",
       "  match_start_datetime  minute  second latest_bookmaker_update  suspended  \\\n",
       "0  2024-08-09 18:01:37       9      59     2024-08-09 18:11:28      False   \n",
       "1  2024-08-09 18:01:37      25      53     2024-08-09 18:27:24      False   \n",
       "2  2024-08-09 18:01:37      26      48     2024-08-09 18:28:20      False   \n",
       "3  2024-08-09 18:01:37      27      55     2024-08-09 18:29:28      False   \n",
       "4  2024-08-09 18:01:37      29       0     2024-08-09 18:30:32       True   \n",
       "\n",
       "   stopped  ...  Throwins - home  Total Crosses - away  Total Crosses - home  \\\n",
       "0    False  ...              1.0                   0.0                   3.0   \n",
       "1    False  ...             11.0                   1.0                  12.0   \n",
       "2    False  ...             11.0                   1.0                  13.0   \n",
       "3    False  ...             11.0                   1.0                  13.0   \n",
       "4    False  ...             11.0                   1.0                  14.0   \n",
       "\n",
       "  Yellowcards - away  Yellowcards - home  Yellowred Cards - away  \\\n",
       "0                0.0                 0.0                     0.0   \n",
       "1                0.0                 0.0                     0.0   \n",
       "2                0.0                 0.0                     0.0   \n",
       "3                0.0                 0.0                     0.0   \n",
       "4                0.0                 0.0                     0.0   \n",
       "\n",
       "   Yellowred Cards - home  current_state  final_score  result  \n",
       "0                     0.0              X          2-1       1  \n",
       "1                     0.0              X          2-1       1  \n",
       "2                     0.0              X          2-1       1  \n",
       "3                     0.0              X          2-1       1  \n",
       "4                     0.0              X          2-1       1  \n",
       "\n",
       "[5 rows x 106 columns]"
      ]
     },
     "execution_count": 3,
     "metadata": {},
     "output_type": "execute_result"
    }
   ],
   "source": [
    "match_data.head()"
   ]
  },
  {
   "cell_type": "markdown",
   "metadata": {},
   "source": [
    "Suspended and stopped data are eliminated from data and some goal cancels and previous data of these cancels are eliminated because these affect results."
   ]
  },
  {
   "cell_type": "code",
   "execution_count": 4,
   "metadata": {},
   "outputs": [
    {
     "data": {
      "text/html": [
       "<div>\n",
       "<style scoped>\n",
       "    .dataframe tbody tr th:only-of-type {\n",
       "        vertical-align: middle;\n",
       "    }\n",
       "\n",
       "    .dataframe tbody tr th {\n",
       "        vertical-align: top;\n",
       "    }\n",
       "\n",
       "    .dataframe thead th {\n",
       "        text-align: right;\n",
       "    }\n",
       "</style>\n",
       "<table border=\"1\" class=\"dataframe\">\n",
       "  <thead>\n",
       "    <tr style=\"text-align: right;\">\n",
       "      <th></th>\n",
       "      <th>fixture_id</th>\n",
       "      <th>halftime</th>\n",
       "      <th>current_time</th>\n",
       "      <th>half_start_datetime</th>\n",
       "      <th>match_start_datetime</th>\n",
       "      <th>minute</th>\n",
       "      <th>second</th>\n",
       "      <th>latest_bookmaker_update</th>\n",
       "      <th>suspended</th>\n",
       "      <th>stopped</th>\n",
       "      <th>...</th>\n",
       "      <th>Throwins - home</th>\n",
       "      <th>Total Crosses - away</th>\n",
       "      <th>Total Crosses - home</th>\n",
       "      <th>Yellowcards - away</th>\n",
       "      <th>Yellowcards - home</th>\n",
       "      <th>Yellowred Cards - away</th>\n",
       "      <th>Yellowred Cards - home</th>\n",
       "      <th>current_state</th>\n",
       "      <th>final_score</th>\n",
       "      <th>result</th>\n",
       "    </tr>\n",
       "  </thead>\n",
       "  <tbody>\n",
       "    <tr>\n",
       "      <th>0</th>\n",
       "      <td>19172016.0</td>\n",
       "      <td>1st-half</td>\n",
       "      <td>2024-08-09 18:11:36</td>\n",
       "      <td>2024-08-09 18:01:37</td>\n",
       "      <td>2024-08-09 18:01:37</td>\n",
       "      <td>9</td>\n",
       "      <td>59</td>\n",
       "      <td>2024-08-09 18:11:28</td>\n",
       "      <td>False</td>\n",
       "      <td>False</td>\n",
       "      <td>...</td>\n",
       "      <td>1.0</td>\n",
       "      <td>0.0</td>\n",
       "      <td>3.0</td>\n",
       "      <td>0.0</td>\n",
       "      <td>0.0</td>\n",
       "      <td>0.0</td>\n",
       "      <td>0.0</td>\n",
       "      <td>X</td>\n",
       "      <td>2-1</td>\n",
       "      <td>1</td>\n",
       "    </tr>\n",
       "    <tr>\n",
       "      <th>1</th>\n",
       "      <td>19172016.0</td>\n",
       "      <td>1st-half</td>\n",
       "      <td>2024-08-09 18:27:30</td>\n",
       "      <td>2024-08-09 18:01:37</td>\n",
       "      <td>2024-08-09 18:01:37</td>\n",
       "      <td>25</td>\n",
       "      <td>53</td>\n",
       "      <td>2024-08-09 18:27:24</td>\n",
       "      <td>False</td>\n",
       "      <td>False</td>\n",
       "      <td>...</td>\n",
       "      <td>11.0</td>\n",
       "      <td>1.0</td>\n",
       "      <td>12.0</td>\n",
       "      <td>0.0</td>\n",
       "      <td>0.0</td>\n",
       "      <td>0.0</td>\n",
       "      <td>0.0</td>\n",
       "      <td>X</td>\n",
       "      <td>2-1</td>\n",
       "      <td>1</td>\n",
       "    </tr>\n",
       "    <tr>\n",
       "      <th>2</th>\n",
       "      <td>19172016.0</td>\n",
       "      <td>1st-half</td>\n",
       "      <td>2024-08-09 18:28:25</td>\n",
       "      <td>2024-08-09 18:01:37</td>\n",
       "      <td>2024-08-09 18:01:37</td>\n",
       "      <td>26</td>\n",
       "      <td>48</td>\n",
       "      <td>2024-08-09 18:28:20</td>\n",
       "      <td>False</td>\n",
       "      <td>False</td>\n",
       "      <td>...</td>\n",
       "      <td>11.0</td>\n",
       "      <td>1.0</td>\n",
       "      <td>13.0</td>\n",
       "      <td>0.0</td>\n",
       "      <td>0.0</td>\n",
       "      <td>0.0</td>\n",
       "      <td>0.0</td>\n",
       "      <td>X</td>\n",
       "      <td>2-1</td>\n",
       "      <td>1</td>\n",
       "    </tr>\n",
       "    <tr>\n",
       "      <th>3</th>\n",
       "      <td>19172016.0</td>\n",
       "      <td>1st-half</td>\n",
       "      <td>2024-08-09 18:29:32</td>\n",
       "      <td>2024-08-09 18:01:37</td>\n",
       "      <td>2024-08-09 18:01:37</td>\n",
       "      <td>27</td>\n",
       "      <td>55</td>\n",
       "      <td>2024-08-09 18:29:28</td>\n",
       "      <td>False</td>\n",
       "      <td>False</td>\n",
       "      <td>...</td>\n",
       "      <td>11.0</td>\n",
       "      <td>1.0</td>\n",
       "      <td>13.0</td>\n",
       "      <td>0.0</td>\n",
       "      <td>0.0</td>\n",
       "      <td>0.0</td>\n",
       "      <td>0.0</td>\n",
       "      <td>X</td>\n",
       "      <td>2-1</td>\n",
       "      <td>1</td>\n",
       "    </tr>\n",
       "    <tr>\n",
       "      <th>4</th>\n",
       "      <td>19172016.0</td>\n",
       "      <td>1st-half</td>\n",
       "      <td>2024-08-09 18:34:18</td>\n",
       "      <td>2024-08-09 18:01:37</td>\n",
       "      <td>2024-08-09 18:01:37</td>\n",
       "      <td>32</td>\n",
       "      <td>41</td>\n",
       "      <td>2024-08-09 18:34:12</td>\n",
       "      <td>False</td>\n",
       "      <td>False</td>\n",
       "      <td>...</td>\n",
       "      <td>11.0</td>\n",
       "      <td>1.0</td>\n",
       "      <td>14.0</td>\n",
       "      <td>0.0</td>\n",
       "      <td>0.0</td>\n",
       "      <td>0.0</td>\n",
       "      <td>0.0</td>\n",
       "      <td>X</td>\n",
       "      <td>2-1</td>\n",
       "      <td>1</td>\n",
       "    </tr>\n",
       "    <tr>\n",
       "      <th>...</th>\n",
       "      <td>...</td>\n",
       "      <td>...</td>\n",
       "      <td>...</td>\n",
       "      <td>...</td>\n",
       "      <td>...</td>\n",
       "      <td>...</td>\n",
       "      <td>...</td>\n",
       "      <td>...</td>\n",
       "      <td>...</td>\n",
       "      <td>...</td>\n",
       "      <td>...</td>\n",
       "      <td>...</td>\n",
       "      <td>...</td>\n",
       "      <td>...</td>\n",
       "      <td>...</td>\n",
       "      <td>...</td>\n",
       "      <td>...</td>\n",
       "      <td>...</td>\n",
       "      <td>...</td>\n",
       "      <td>...</td>\n",
       "      <td>...</td>\n",
       "    </tr>\n",
       "    <tr>\n",
       "      <th>55838</th>\n",
       "      <td>19135376.0</td>\n",
       "      <td>2nd-half</td>\n",
       "      <td>2024-11-10 21:51:41</td>\n",
       "      <td>2024-11-10 21:06:59</td>\n",
       "      <td>2024-11-10 20:02:05</td>\n",
       "      <td>44</td>\n",
       "      <td>42</td>\n",
       "      <td>2024-11-10 21:51:37</td>\n",
       "      <td>False</td>\n",
       "      <td>False</td>\n",
       "      <td>...</td>\n",
       "      <td>0.0</td>\n",
       "      <td>19.0</td>\n",
       "      <td>10.0</td>\n",
       "      <td>1.0</td>\n",
       "      <td>3.0</td>\n",
       "      <td>0.0</td>\n",
       "      <td>0.0</td>\n",
       "      <td>1</td>\n",
       "      <td>1-0</td>\n",
       "      <td>1</td>\n",
       "    </tr>\n",
       "    <tr>\n",
       "      <th>55839</th>\n",
       "      <td>19135376.0</td>\n",
       "      <td>2nd-half</td>\n",
       "      <td>2024-11-10 21:52:41</td>\n",
       "      <td>2024-11-10 21:06:59</td>\n",
       "      <td>2024-11-10 20:02:05</td>\n",
       "      <td>45</td>\n",
       "      <td>42</td>\n",
       "      <td>2024-11-10 21:52:37</td>\n",
       "      <td>False</td>\n",
       "      <td>False</td>\n",
       "      <td>...</td>\n",
       "      <td>0.0</td>\n",
       "      <td>19.0</td>\n",
       "      <td>10.0</td>\n",
       "      <td>1.0</td>\n",
       "      <td>3.0</td>\n",
       "      <td>0.0</td>\n",
       "      <td>0.0</td>\n",
       "      <td>1</td>\n",
       "      <td>1-0</td>\n",
       "      <td>1</td>\n",
       "    </tr>\n",
       "    <tr>\n",
       "      <th>55840</th>\n",
       "      <td>19135376.0</td>\n",
       "      <td>2nd-half</td>\n",
       "      <td>2024-11-10 21:53:41</td>\n",
       "      <td>2024-11-10 21:06:59</td>\n",
       "      <td>2024-11-10 20:02:05</td>\n",
       "      <td>46</td>\n",
       "      <td>42</td>\n",
       "      <td>2024-11-10 21:53:35</td>\n",
       "      <td>False</td>\n",
       "      <td>False</td>\n",
       "      <td>...</td>\n",
       "      <td>0.0</td>\n",
       "      <td>19.0</td>\n",
       "      <td>10.0</td>\n",
       "      <td>1.0</td>\n",
       "      <td>3.0</td>\n",
       "      <td>0.0</td>\n",
       "      <td>0.0</td>\n",
       "      <td>1</td>\n",
       "      <td>1-0</td>\n",
       "      <td>1</td>\n",
       "    </tr>\n",
       "    <tr>\n",
       "      <th>55841</th>\n",
       "      <td>19135376.0</td>\n",
       "      <td>2nd-half</td>\n",
       "      <td>2024-11-10 21:54:41</td>\n",
       "      <td>2024-11-10 21:06:59</td>\n",
       "      <td>2024-11-10 20:02:05</td>\n",
       "      <td>47</td>\n",
       "      <td>42</td>\n",
       "      <td>2024-11-10 21:54:36</td>\n",
       "      <td>False</td>\n",
       "      <td>False</td>\n",
       "      <td>...</td>\n",
       "      <td>0.0</td>\n",
       "      <td>19.0</td>\n",
       "      <td>10.0</td>\n",
       "      <td>1.0</td>\n",
       "      <td>3.0</td>\n",
       "      <td>0.0</td>\n",
       "      <td>0.0</td>\n",
       "      <td>1</td>\n",
       "      <td>1-0</td>\n",
       "      <td>1</td>\n",
       "    </tr>\n",
       "    <tr>\n",
       "      <th>55842</th>\n",
       "      <td>19135376.0</td>\n",
       "      <td>2nd-half</td>\n",
       "      <td>2024-11-10 21:55:41</td>\n",
       "      <td>2024-11-10 21:06:59</td>\n",
       "      <td>2024-11-10 20:02:05</td>\n",
       "      <td>48</td>\n",
       "      <td>42</td>\n",
       "      <td>2024-11-10 21:55:36</td>\n",
       "      <td>False</td>\n",
       "      <td>False</td>\n",
       "      <td>...</td>\n",
       "      <td>0.0</td>\n",
       "      <td>21.0</td>\n",
       "      <td>10.0</td>\n",
       "      <td>1.0</td>\n",
       "      <td>3.0</td>\n",
       "      <td>0.0</td>\n",
       "      <td>0.0</td>\n",
       "      <td>1</td>\n",
       "      <td>1-0</td>\n",
       "      <td>1</td>\n",
       "    </tr>\n",
       "  </tbody>\n",
       "</table>\n",
       "<p>55843 rows × 106 columns</p>\n",
       "</div>"
      ],
      "text/plain": [
       "       fixture_id  halftime         current_time  half_start_datetime  \\\n",
       "0      19172016.0  1st-half  2024-08-09 18:11:36  2024-08-09 18:01:37   \n",
       "1      19172016.0  1st-half  2024-08-09 18:27:30  2024-08-09 18:01:37   \n",
       "2      19172016.0  1st-half  2024-08-09 18:28:25  2024-08-09 18:01:37   \n",
       "3      19172016.0  1st-half  2024-08-09 18:29:32  2024-08-09 18:01:37   \n",
       "4      19172016.0  1st-half  2024-08-09 18:34:18  2024-08-09 18:01:37   \n",
       "...           ...       ...                  ...                  ...   \n",
       "55838  19135376.0  2nd-half  2024-11-10 21:51:41  2024-11-10 21:06:59   \n",
       "55839  19135376.0  2nd-half  2024-11-10 21:52:41  2024-11-10 21:06:59   \n",
       "55840  19135376.0  2nd-half  2024-11-10 21:53:41  2024-11-10 21:06:59   \n",
       "55841  19135376.0  2nd-half  2024-11-10 21:54:41  2024-11-10 21:06:59   \n",
       "55842  19135376.0  2nd-half  2024-11-10 21:55:41  2024-11-10 21:06:59   \n",
       "\n",
       "      match_start_datetime  minute  second latest_bookmaker_update  suspended  \\\n",
       "0      2024-08-09 18:01:37       9      59     2024-08-09 18:11:28      False   \n",
       "1      2024-08-09 18:01:37      25      53     2024-08-09 18:27:24      False   \n",
       "2      2024-08-09 18:01:37      26      48     2024-08-09 18:28:20      False   \n",
       "3      2024-08-09 18:01:37      27      55     2024-08-09 18:29:28      False   \n",
       "4      2024-08-09 18:01:37      32      41     2024-08-09 18:34:12      False   \n",
       "...                    ...     ...     ...                     ...        ...   \n",
       "55838  2024-11-10 20:02:05      44      42     2024-11-10 21:51:37      False   \n",
       "55839  2024-11-10 20:02:05      45      42     2024-11-10 21:52:37      False   \n",
       "55840  2024-11-10 20:02:05      46      42     2024-11-10 21:53:35      False   \n",
       "55841  2024-11-10 20:02:05      47      42     2024-11-10 21:54:36      False   \n",
       "55842  2024-11-10 20:02:05      48      42     2024-11-10 21:55:36      False   \n",
       "\n",
       "       stopped  ...  Throwins - home  Total Crosses - away  \\\n",
       "0        False  ...              1.0                   0.0   \n",
       "1        False  ...             11.0                   1.0   \n",
       "2        False  ...             11.0                   1.0   \n",
       "3        False  ...             11.0                   1.0   \n",
       "4        False  ...             11.0                   1.0   \n",
       "...        ...  ...              ...                   ...   \n",
       "55838    False  ...              0.0                  19.0   \n",
       "55839    False  ...              0.0                  19.0   \n",
       "55840    False  ...              0.0                  19.0   \n",
       "55841    False  ...              0.0                  19.0   \n",
       "55842    False  ...              0.0                  21.0   \n",
       "\n",
       "       Total Crosses - home Yellowcards - away  Yellowcards - home  \\\n",
       "0                       3.0                0.0                 0.0   \n",
       "1                      12.0                0.0                 0.0   \n",
       "2                      13.0                0.0                 0.0   \n",
       "3                      13.0                0.0                 0.0   \n",
       "4                      14.0                0.0                 0.0   \n",
       "...                     ...                ...                 ...   \n",
       "55838                  10.0                1.0                 3.0   \n",
       "55839                  10.0                1.0                 3.0   \n",
       "55840                  10.0                1.0                 3.0   \n",
       "55841                  10.0                1.0                 3.0   \n",
       "55842                  10.0                1.0                 3.0   \n",
       "\n",
       "       Yellowred Cards - away  Yellowred Cards - home  current_state  \\\n",
       "0                         0.0                     0.0              X   \n",
       "1                         0.0                     0.0              X   \n",
       "2                         0.0                     0.0              X   \n",
       "3                         0.0                     0.0              X   \n",
       "4                         0.0                     0.0              X   \n",
       "...                       ...                     ...            ...   \n",
       "55838                     0.0                     0.0              1   \n",
       "55839                     0.0                     0.0              1   \n",
       "55840                     0.0                     0.0              1   \n",
       "55841                     0.0                     0.0              1   \n",
       "55842                     0.0                     0.0              1   \n",
       "\n",
       "       final_score  result  \n",
       "0              2-1       1  \n",
       "1              2-1       1  \n",
       "2              2-1       1  \n",
       "3              2-1       1  \n",
       "4              2-1       1  \n",
       "...            ...     ...  \n",
       "55838          1-0       1  \n",
       "55839          1-0       1  \n",
       "55840          1-0       1  \n",
       "55841          1-0       1  \n",
       "55842          1-0       1  \n",
       "\n",
       "[55843 rows x 106 columns]"
      ]
     },
     "execution_count": 4,
     "metadata": {},
     "output_type": "execute_result"
    }
   ],
   "source": [
    "match_data = match_data[~(match_data['suspended'] | match_data['stopped'])]\n",
    "match_data.reset_index(inplace=True, drop= True)\n",
    "indices = match_data.index[(match_data['Score Change - away'] == -1) | (match_data['Score Change - home'] == -1)]\n",
    "rows_to_drop = set(indices) | set(indices - 1)\n",
    "rows_to_drop = [i for i in rows_to_drop if i >= 0]\n",
    "match_data = match_data.drop(index=rows_to_drop)\n",
    "match_data.reset_index(inplace=True, drop= True)\n",
    "match_data"
   ]
  },
  {
   "cell_type": "markdown",
   "metadata": {},
   "source": [
    "If there are two data for the same minute and second, the last one is dropped."
   ]
  },
  {
   "cell_type": "code",
   "execution_count": 5,
   "metadata": {},
   "outputs": [],
   "source": [
    "match_data = match_data.drop_duplicates(subset=['fixture_id', 'minute', 'second'], keep='last')"
   ]
  },
  {
   "cell_type": "markdown",
   "metadata": {},
   "source": [
    "Checked whether any missing value in results and odd columns"
   ]
  },
  {
   "cell_type": "code",
   "execution_count": 6,
   "metadata": {},
   "outputs": [
    {
     "name": "stdout",
     "output_type": "stream",
     "text": [
      "There is no missing value in bet columns\n"
     ]
    },
    {
     "name": "stderr",
     "output_type": "stream",
     "text": [
      "C:\\Users\\Yusuf\\AppData\\Local\\Temp\\ipykernel_2472\\535838494.py:1: SettingWithCopyWarning: \n",
      "A value is trying to be set on a copy of a slice from a DataFrame\n",
      "\n",
      "See the caveats in the documentation: https://pandas.pydata.org/pandas-docs/stable/user_guide/indexing.html#returning-a-view-versus-a-copy\n",
      "  match_data.rename(columns={1:'1', 2:'2'}, inplace=True)\n"
     ]
    }
   ],
   "source": [
    "match_data.rename(columns={1:'1', 2:'2'}, inplace=True)\n",
    "task1_df = match_data[['fixture_id','halftime', '1','2','X','result']]\n",
    "task1_df_na = task1_df.dropna()\n",
    "if len(task1_df_na) == len(task1_df):\n",
    "    print('There is no missing value in bet columns')"
   ]
  },
  {
   "cell_type": "markdown",
   "metadata": {},
   "source": [
    "## TASK-1"
   ]
  },
  {
   "cell_type": "markdown",
   "metadata": {},
   "source": [
    "### Formula for normalization of probabilities\n",
    "![alt text](image.png)"
   ]
  },
  {
   "cell_type": "markdown",
   "metadata": {},
   "source": [
    "### Comparing Historical Results and Assigned Probabilities by Bookmaker of Draw Matches "
   ]
  },
  {
   "cell_type": "code",
   "execution_count": 7,
   "metadata": {},
   "outputs": [
    {
     "data": {
      "text/html": [
       "<div>\n",
       "<style scoped>\n",
       "    .dataframe tbody tr th:only-of-type {\n",
       "        vertical-align: middle;\n",
       "    }\n",
       "\n",
       "    .dataframe tbody tr th {\n",
       "        vertical-align: top;\n",
       "    }\n",
       "\n",
       "    .dataframe thead th {\n",
       "        text-align: right;\n",
       "    }\n",
       "</style>\n",
       "<table border=\"1\" class=\"dataframe\">\n",
       "  <thead>\n",
       "    <tr style=\"text-align: right;\">\n",
       "      <th></th>\n",
       "      <th>fixture_id</th>\n",
       "      <th>halftime</th>\n",
       "      <th>minute</th>\n",
       "      <th>second</th>\n",
       "      <th>1</th>\n",
       "      <th>2</th>\n",
       "      <th>X</th>\n",
       "      <th>result</th>\n",
       "      <th>P_home</th>\n",
       "      <th>P_draw</th>\n",
       "      <th>P_away</th>\n",
       "      <th>P_sum</th>\n",
       "      <th>normalized_P_home</th>\n",
       "      <th>normalized_P_draw</th>\n",
       "      <th>normalized_P_away</th>\n",
       "      <th>normalized_P_home-normalized_P_away</th>\n",
       "    </tr>\n",
       "  </thead>\n",
       "  <tbody>\n",
       "    <tr>\n",
       "      <th>0</th>\n",
       "      <td>19172016.0</td>\n",
       "      <td>1st-half</td>\n",
       "      <td>9</td>\n",
       "      <td>59</td>\n",
       "      <td>1.22</td>\n",
       "      <td>10.0</td>\n",
       "      <td>6.5</td>\n",
       "      <td>1</td>\n",
       "      <td>0.819672</td>\n",
       "      <td>0.153846</td>\n",
       "      <td>0.100000</td>\n",
       "      <td>1.073518</td>\n",
       "      <td>0.763538</td>\n",
       "      <td>0.143310</td>\n",
       "      <td>0.093152</td>\n",
       "      <td>0.670386</td>\n",
       "    </tr>\n",
       "    <tr>\n",
       "      <th>1</th>\n",
       "      <td>19172016.0</td>\n",
       "      <td>1st-half</td>\n",
       "      <td>25</td>\n",
       "      <td>53</td>\n",
       "      <td>1.20</td>\n",
       "      <td>13.0</td>\n",
       "      <td>6.0</td>\n",
       "      <td>1</td>\n",
       "      <td>0.833333</td>\n",
       "      <td>0.166667</td>\n",
       "      <td>0.076923</td>\n",
       "      <td>1.076923</td>\n",
       "      <td>0.773810</td>\n",
       "      <td>0.154762</td>\n",
       "      <td>0.071429</td>\n",
       "      <td>0.702381</td>\n",
       "    </tr>\n",
       "    <tr>\n",
       "      <th>2</th>\n",
       "      <td>19172016.0</td>\n",
       "      <td>1st-half</td>\n",
       "      <td>26</td>\n",
       "      <td>48</td>\n",
       "      <td>1.20</td>\n",
       "      <td>13.0</td>\n",
       "      <td>6.0</td>\n",
       "      <td>1</td>\n",
       "      <td>0.833333</td>\n",
       "      <td>0.166667</td>\n",
       "      <td>0.076923</td>\n",
       "      <td>1.076923</td>\n",
       "      <td>0.773810</td>\n",
       "      <td>0.154762</td>\n",
       "      <td>0.071429</td>\n",
       "      <td>0.702381</td>\n",
       "    </tr>\n",
       "    <tr>\n",
       "      <th>3</th>\n",
       "      <td>19172016.0</td>\n",
       "      <td>1st-half</td>\n",
       "      <td>27</td>\n",
       "      <td>55</td>\n",
       "      <td>1.20</td>\n",
       "      <td>13.0</td>\n",
       "      <td>6.0</td>\n",
       "      <td>1</td>\n",
       "      <td>0.833333</td>\n",
       "      <td>0.166667</td>\n",
       "      <td>0.076923</td>\n",
       "      <td>1.076923</td>\n",
       "      <td>0.773810</td>\n",
       "      <td>0.154762</td>\n",
       "      <td>0.071429</td>\n",
       "      <td>0.702381</td>\n",
       "    </tr>\n",
       "    <tr>\n",
       "      <th>4</th>\n",
       "      <td>19172016.0</td>\n",
       "      <td>1st-half</td>\n",
       "      <td>32</td>\n",
       "      <td>41</td>\n",
       "      <td>1.20</td>\n",
       "      <td>15.0</td>\n",
       "      <td>6.0</td>\n",
       "      <td>1</td>\n",
       "      <td>0.833333</td>\n",
       "      <td>0.166667</td>\n",
       "      <td>0.066667</td>\n",
       "      <td>1.066667</td>\n",
       "      <td>0.781250</td>\n",
       "      <td>0.156250</td>\n",
       "      <td>0.062500</td>\n",
       "      <td>0.718750</td>\n",
       "    </tr>\n",
       "    <tr>\n",
       "      <th>...</th>\n",
       "      <td>...</td>\n",
       "      <td>...</td>\n",
       "      <td>...</td>\n",
       "      <td>...</td>\n",
       "      <td>...</td>\n",
       "      <td>...</td>\n",
       "      <td>...</td>\n",
       "      <td>...</td>\n",
       "      <td>...</td>\n",
       "      <td>...</td>\n",
       "      <td>...</td>\n",
       "      <td>...</td>\n",
       "      <td>...</td>\n",
       "      <td>...</td>\n",
       "      <td>...</td>\n",
       "      <td>...</td>\n",
       "    </tr>\n",
       "    <tr>\n",
       "      <th>55838</th>\n",
       "      <td>19135376.0</td>\n",
       "      <td>2nd-half</td>\n",
       "      <td>44</td>\n",
       "      <td>42</td>\n",
       "      <td>1.08</td>\n",
       "      <td>126.0</td>\n",
       "      <td>7.5</td>\n",
       "      <td>1</td>\n",
       "      <td>0.925926</td>\n",
       "      <td>0.133333</td>\n",
       "      <td>0.007937</td>\n",
       "      <td>1.067196</td>\n",
       "      <td>0.867625</td>\n",
       "      <td>0.124938</td>\n",
       "      <td>0.007437</td>\n",
       "      <td>0.860188</td>\n",
       "    </tr>\n",
       "    <tr>\n",
       "      <th>55839</th>\n",
       "      <td>19135376.0</td>\n",
       "      <td>2nd-half</td>\n",
       "      <td>45</td>\n",
       "      <td>42</td>\n",
       "      <td>1.05</td>\n",
       "      <td>251.0</td>\n",
       "      <td>11.0</td>\n",
       "      <td>1</td>\n",
       "      <td>0.952381</td>\n",
       "      <td>0.090909</td>\n",
       "      <td>0.003984</td>\n",
       "      <td>1.047274</td>\n",
       "      <td>0.909390</td>\n",
       "      <td>0.086805</td>\n",
       "      <td>0.003804</td>\n",
       "      <td>0.905586</td>\n",
       "    </tr>\n",
       "    <tr>\n",
       "      <th>55840</th>\n",
       "      <td>19135376.0</td>\n",
       "      <td>2nd-half</td>\n",
       "      <td>46</td>\n",
       "      <td>42</td>\n",
       "      <td>1.05</td>\n",
       "      <td>201.0</td>\n",
       "      <td>11.0</td>\n",
       "      <td>1</td>\n",
       "      <td>0.952381</td>\n",
       "      <td>0.090909</td>\n",
       "      <td>0.004975</td>\n",
       "      <td>1.048265</td>\n",
       "      <td>0.908531</td>\n",
       "      <td>0.086723</td>\n",
       "      <td>0.004746</td>\n",
       "      <td>0.903785</td>\n",
       "    </tr>\n",
       "    <tr>\n",
       "      <th>55841</th>\n",
       "      <td>19135376.0</td>\n",
       "      <td>2nd-half</td>\n",
       "      <td>47</td>\n",
       "      <td>42</td>\n",
       "      <td>1.04</td>\n",
       "      <td>351.0</td>\n",
       "      <td>13.0</td>\n",
       "      <td>1</td>\n",
       "      <td>0.961538</td>\n",
       "      <td>0.076923</td>\n",
       "      <td>0.002849</td>\n",
       "      <td>1.041311</td>\n",
       "      <td>0.923393</td>\n",
       "      <td>0.073871</td>\n",
       "      <td>0.002736</td>\n",
       "      <td>0.920657</td>\n",
       "    </tr>\n",
       "    <tr>\n",
       "      <th>55842</th>\n",
       "      <td>19135376.0</td>\n",
       "      <td>2nd-half</td>\n",
       "      <td>48</td>\n",
       "      <td>42</td>\n",
       "      <td>1.02</td>\n",
       "      <td>501.0</td>\n",
       "      <td>17.0</td>\n",
       "      <td>1</td>\n",
       "      <td>0.980392</td>\n",
       "      <td>0.058824</td>\n",
       "      <td>0.001996</td>\n",
       "      <td>1.041212</td>\n",
       "      <td>0.941588</td>\n",
       "      <td>0.056495</td>\n",
       "      <td>0.001917</td>\n",
       "      <td>0.939671</td>\n",
       "    </tr>\n",
       "  </tbody>\n",
       "</table>\n",
       "<p>55376 rows × 16 columns</p>\n",
       "</div>"
      ],
      "text/plain": [
       "       fixture_id  halftime  minute  second     1      2     X result  \\\n",
       "0      19172016.0  1st-half       9      59  1.22   10.0   6.5      1   \n",
       "1      19172016.0  1st-half      25      53  1.20   13.0   6.0      1   \n",
       "2      19172016.0  1st-half      26      48  1.20   13.0   6.0      1   \n",
       "3      19172016.0  1st-half      27      55  1.20   13.0   6.0      1   \n",
       "4      19172016.0  1st-half      32      41  1.20   15.0   6.0      1   \n",
       "...           ...       ...     ...     ...   ...    ...   ...    ...   \n",
       "55838  19135376.0  2nd-half      44      42  1.08  126.0   7.5      1   \n",
       "55839  19135376.0  2nd-half      45      42  1.05  251.0  11.0      1   \n",
       "55840  19135376.0  2nd-half      46      42  1.05  201.0  11.0      1   \n",
       "55841  19135376.0  2nd-half      47      42  1.04  351.0  13.0      1   \n",
       "55842  19135376.0  2nd-half      48      42  1.02  501.0  17.0      1   \n",
       "\n",
       "         P_home    P_draw    P_away     P_sum  normalized_P_home  \\\n",
       "0      0.819672  0.153846  0.100000  1.073518           0.763538   \n",
       "1      0.833333  0.166667  0.076923  1.076923           0.773810   \n",
       "2      0.833333  0.166667  0.076923  1.076923           0.773810   \n",
       "3      0.833333  0.166667  0.076923  1.076923           0.773810   \n",
       "4      0.833333  0.166667  0.066667  1.066667           0.781250   \n",
       "...         ...       ...       ...       ...                ...   \n",
       "55838  0.925926  0.133333  0.007937  1.067196           0.867625   \n",
       "55839  0.952381  0.090909  0.003984  1.047274           0.909390   \n",
       "55840  0.952381  0.090909  0.004975  1.048265           0.908531   \n",
       "55841  0.961538  0.076923  0.002849  1.041311           0.923393   \n",
       "55842  0.980392  0.058824  0.001996  1.041212           0.941588   \n",
       "\n",
       "       normalized_P_draw  normalized_P_away  \\\n",
       "0               0.143310           0.093152   \n",
       "1               0.154762           0.071429   \n",
       "2               0.154762           0.071429   \n",
       "3               0.154762           0.071429   \n",
       "4               0.156250           0.062500   \n",
       "...                  ...                ...   \n",
       "55838           0.124938           0.007437   \n",
       "55839           0.086805           0.003804   \n",
       "55840           0.086723           0.004746   \n",
       "55841           0.073871           0.002736   \n",
       "55842           0.056495           0.001917   \n",
       "\n",
       "       normalized_P_home-normalized_P_away  \n",
       "0                                 0.670386  \n",
       "1                                 0.702381  \n",
       "2                                 0.702381  \n",
       "3                                 0.702381  \n",
       "4                                 0.718750  \n",
       "...                                    ...  \n",
       "55838                             0.860188  \n",
       "55839                             0.905586  \n",
       "55840                             0.903785  \n",
       "55841                             0.920657  \n",
       "55842                             0.939671  \n",
       "\n",
       "[55376 rows x 16 columns]"
      ]
     },
     "execution_count": 7,
     "metadata": {},
     "output_type": "execute_result"
    }
   ],
   "source": [
    "def task1(data):    \n",
    "    data = data[['fixture_id','halftime', 'minute', 'second','1','2','X','result']]\n",
    "    data = data.copy()\n",
    "    data['P_home'] = 1 / data['1']\n",
    "    data['P_draw'] = 1 / data['X']\n",
    "    data['P_away'] = 1 / data['2']\n",
    "\n",
    "    data['P_sum'] = data['P_home'] + data['P_draw'] + data['P_away']\n",
    "    data['normalized_P_home'] = data['P_home'] / data['P_sum']\n",
    "    data['normalized_P_draw'] = data['P_draw'] / data['P_sum']\n",
    "    data['normalized_P_away'] = data['P_away'] / data['P_sum']\n",
    "\n",
    "    data['normalized_P_home-normalized_P_away'] = data['normalized_P_home'] - data['normalized_P_away']\n",
    "    return data\n",
    "\n",
    "task1_df = task1(match_data)\n",
    "task1_df"
   ]
  },
  {
   "cell_type": "markdown",
   "metadata": {},
   "source": [
    "In this part the difference between probability of home win and probability of away win is obtained, then the probalities divided to bins with 0.1 difference. The mean of draw probabilities assigned by bookmaker in these bins are obtained and compared to actual ratio of the match is resulted with draw. "
   ]
  },
  {
   "cell_type": "code",
   "execution_count": 8,
   "metadata": {},
   "outputs": [],
   "source": [
    "def bins_function(data):\n",
    "    bins_and_probs_first_half = {'bin_average': [],\n",
    "            'avrg_pr_draw_bm': [],\n",
    "            'actual_draw_pr': []\n",
    "            }\n",
    "\n",
    "    bins_and_probs_second_half = {'bin_average': [],\n",
    "            'avrg_pr_draw_bm': [],\n",
    "            'actual_draw_pr': []\n",
    "            }\n",
    "\n",
    "    bins = np.linspace(-1, 1, 21)\n",
    "\n",
    "    for i in range(len(bins[:-1])):\n",
    "        lower_bound = bins[i]\n",
    "        upper_bound = bins[i+1]\n",
    "        bin_average = (lower_bound+upper_bound)/2\n",
    "\n",
    "        #first_half_data\n",
    "        filtered_df_for_first_half = data[(data['normalized_P_home-normalized_P_away'] >= lower_bound) & (data['normalized_P_home-normalized_P_away'] < upper_bound) & (data['halftime']=='1st-half')]\n",
    "        \n",
    "        count_result_draw = (filtered_df_for_first_half['result'] == 'X').sum()\n",
    "        total_rows = len(filtered_df_for_first_half)\n",
    "        average_bookmaker_prob_draw = filtered_df_for_first_half['normalized_P_draw'].mean()\n",
    "        actual_draw_ratio = count_result_draw / total_rows\n",
    "        \n",
    "        bins_and_probs_first_half['bin_average'].append(bin_average)\n",
    "        bins_and_probs_first_half['actual_draw_pr'].append(actual_draw_ratio)\n",
    "        bins_and_probs_first_half['avrg_pr_draw_bm'].append(average_bookmaker_prob_draw)\n",
    "\n",
    "        #second_half_data\n",
    "        filtered_df_for_second_half = data[(data['normalized_P_home-normalized_P_away'] >= lower_bound) & (data['normalized_P_home-normalized_P_away'] < upper_bound) & (data['halftime']=='2nd-half')]\n",
    "        \n",
    "        count_result_draw_2 = (filtered_df_for_second_half['result'] == 'X').sum()\n",
    "        total_rows_2 = len(filtered_df_for_second_half)\n",
    "        average_bookmaker_prob_draw_2 = filtered_df_for_second_half['normalized_P_draw'].mean()\n",
    "        actual_draw_ratio_2 = count_result_draw_2 / total_rows_2\n",
    "\n",
    "        bins_and_probs_second_half['bin_average'].append(bin_average)\n",
    "        bins_and_probs_second_half['actual_draw_pr'].append(actual_draw_ratio_2)\n",
    "        bins_and_probs_second_half['avrg_pr_draw_bm'].append(average_bookmaker_prob_draw_2)\n",
    "            \n",
    "    first_half = pd.DataFrame(bins_and_probs_first_half)\n",
    "    second_half = pd.DataFrame(bins_and_probs_second_half)\n",
    "\n",
    "    return first_half, second_half\n",
    "plotdf1, plotdf2 = bins_function(task1_df)"
   ]
  },
  {
   "cell_type": "code",
   "execution_count": 9,
   "metadata": {},
   "outputs": [
    {
     "data": {
      "application/vnd.plotly.v1+json": {
       "config": {
        "plotlyServerURL": "https://plot.ly"
       },
       "data": [
        {
         "marker": {
          "color": "red"
         },
         "mode": "markers",
         "name": "Average Probabilities for Each Bin",
         "type": "scatter",
         "x": [
          -0.95,
          -0.8500000000000001,
          -0.75,
          -0.6499999999999999,
          -0.55,
          -0.44999999999999996,
          -0.3499999999999999,
          -0.24999999999999994,
          -0.14999999999999997,
          -0.04999999999999999,
          0.050000000000000044,
          0.15000000000000013,
          0.2500000000000001,
          0.3500000000000001,
          0.45000000000000007,
          0.55,
          0.6500000000000001,
          0.7500000000000001,
          0.8500000000000001,
          0.9500000000000001
         ],
         "y": [
          0.035531293533212556,
          0.08529849641040485,
          0.1369386499337936,
          0.1835577782239009,
          0.21519992771857427,
          0.24923856115533846,
          0.2710220469256209,
          0.2880145156579839,
          0.3057154454543444,
          0.31448584419533265,
          0.3208136462395975,
          0.31360152198435115,
          0.2986305115626321,
          0.27263202778953766,
          0.24726807489109134,
          0.21870020004080568,
          0.18155998958899364,
          0.13815419485107863,
          0.0855304862141849,
          0.03602588857990249
         ]
        },
        {
         "marker": {
          "color": "green"
         },
         "mode": "markers",
         "name": "Historical Probabilities for Each Bin",
         "type": "scatter",
         "x": [
          -0.95,
          -0.8500000000000001,
          -0.75,
          -0.6499999999999999,
          -0.55,
          -0.44999999999999996,
          -0.3499999999999999,
          -0.24999999999999994,
          -0.14999999999999997,
          -0.04999999999999999,
          0.050000000000000044,
          0.15000000000000013,
          0.2500000000000001,
          0.3500000000000001,
          0.45000000000000007,
          0.55,
          0.6500000000000001,
          0.7500000000000001,
          0.8500000000000001,
          0.9500000000000001
         ],
         "y": [
          0,
          0.0891304347826087,
          0.09313725490196079,
          0.20875912408759123,
          0.1393939393939394,
          0.3304178814382896,
          0.24849397590361447,
          0.30238095238095236,
          0.2891918208373905,
          0.27215521761929734,
          0.3280780780780781,
          0.40278721957851804,
          0.34486266531027465,
          0.32334461092315125,
          0.2944653412144009,
          0.17825537294563842,
          0.15550092194222495,
          0.10716723549488055,
          0.05344202898550725,
          0.10625
         ]
        }
       ],
       "layout": {
        "height": 600,
        "template": {
         "data": {
          "bar": [
           {
            "error_x": {
             "color": "#2a3f5f"
            },
            "error_y": {
             "color": "#2a3f5f"
            },
            "marker": {
             "line": {
              "color": "#E5ECF6",
              "width": 0.5
             },
             "pattern": {
              "fillmode": "overlay",
              "size": 10,
              "solidity": 0.2
             }
            },
            "type": "bar"
           }
          ],
          "barpolar": [
           {
            "marker": {
             "line": {
              "color": "#E5ECF6",
              "width": 0.5
             },
             "pattern": {
              "fillmode": "overlay",
              "size": 10,
              "solidity": 0.2
             }
            },
            "type": "barpolar"
           }
          ],
          "carpet": [
           {
            "aaxis": {
             "endlinecolor": "#2a3f5f",
             "gridcolor": "white",
             "linecolor": "white",
             "minorgridcolor": "white",
             "startlinecolor": "#2a3f5f"
            },
            "baxis": {
             "endlinecolor": "#2a3f5f",
             "gridcolor": "white",
             "linecolor": "white",
             "minorgridcolor": "white",
             "startlinecolor": "#2a3f5f"
            },
            "type": "carpet"
           }
          ],
          "choropleth": [
           {
            "colorbar": {
             "outlinewidth": 0,
             "ticks": ""
            },
            "type": "choropleth"
           }
          ],
          "contour": [
           {
            "colorbar": {
             "outlinewidth": 0,
             "ticks": ""
            },
            "colorscale": [
             [
              0,
              "#0d0887"
             ],
             [
              0.1111111111111111,
              "#46039f"
             ],
             [
              0.2222222222222222,
              "#7201a8"
             ],
             [
              0.3333333333333333,
              "#9c179e"
             ],
             [
              0.4444444444444444,
              "#bd3786"
             ],
             [
              0.5555555555555556,
              "#d8576b"
             ],
             [
              0.6666666666666666,
              "#ed7953"
             ],
             [
              0.7777777777777778,
              "#fb9f3a"
             ],
             [
              0.8888888888888888,
              "#fdca26"
             ],
             [
              1,
              "#f0f921"
             ]
            ],
            "type": "contour"
           }
          ],
          "contourcarpet": [
           {
            "colorbar": {
             "outlinewidth": 0,
             "ticks": ""
            },
            "type": "contourcarpet"
           }
          ],
          "heatmap": [
           {
            "colorbar": {
             "outlinewidth": 0,
             "ticks": ""
            },
            "colorscale": [
             [
              0,
              "#0d0887"
             ],
             [
              0.1111111111111111,
              "#46039f"
             ],
             [
              0.2222222222222222,
              "#7201a8"
             ],
             [
              0.3333333333333333,
              "#9c179e"
             ],
             [
              0.4444444444444444,
              "#bd3786"
             ],
             [
              0.5555555555555556,
              "#d8576b"
             ],
             [
              0.6666666666666666,
              "#ed7953"
             ],
             [
              0.7777777777777778,
              "#fb9f3a"
             ],
             [
              0.8888888888888888,
              "#fdca26"
             ],
             [
              1,
              "#f0f921"
             ]
            ],
            "type": "heatmap"
           }
          ],
          "heatmapgl": [
           {
            "colorbar": {
             "outlinewidth": 0,
             "ticks": ""
            },
            "colorscale": [
             [
              0,
              "#0d0887"
             ],
             [
              0.1111111111111111,
              "#46039f"
             ],
             [
              0.2222222222222222,
              "#7201a8"
             ],
             [
              0.3333333333333333,
              "#9c179e"
             ],
             [
              0.4444444444444444,
              "#bd3786"
             ],
             [
              0.5555555555555556,
              "#d8576b"
             ],
             [
              0.6666666666666666,
              "#ed7953"
             ],
             [
              0.7777777777777778,
              "#fb9f3a"
             ],
             [
              0.8888888888888888,
              "#fdca26"
             ],
             [
              1,
              "#f0f921"
             ]
            ],
            "type": "heatmapgl"
           }
          ],
          "histogram": [
           {
            "marker": {
             "pattern": {
              "fillmode": "overlay",
              "size": 10,
              "solidity": 0.2
             }
            },
            "type": "histogram"
           }
          ],
          "histogram2d": [
           {
            "colorbar": {
             "outlinewidth": 0,
             "ticks": ""
            },
            "colorscale": [
             [
              0,
              "#0d0887"
             ],
             [
              0.1111111111111111,
              "#46039f"
             ],
             [
              0.2222222222222222,
              "#7201a8"
             ],
             [
              0.3333333333333333,
              "#9c179e"
             ],
             [
              0.4444444444444444,
              "#bd3786"
             ],
             [
              0.5555555555555556,
              "#d8576b"
             ],
             [
              0.6666666666666666,
              "#ed7953"
             ],
             [
              0.7777777777777778,
              "#fb9f3a"
             ],
             [
              0.8888888888888888,
              "#fdca26"
             ],
             [
              1,
              "#f0f921"
             ]
            ],
            "type": "histogram2d"
           }
          ],
          "histogram2dcontour": [
           {
            "colorbar": {
             "outlinewidth": 0,
             "ticks": ""
            },
            "colorscale": [
             [
              0,
              "#0d0887"
             ],
             [
              0.1111111111111111,
              "#46039f"
             ],
             [
              0.2222222222222222,
              "#7201a8"
             ],
             [
              0.3333333333333333,
              "#9c179e"
             ],
             [
              0.4444444444444444,
              "#bd3786"
             ],
             [
              0.5555555555555556,
              "#d8576b"
             ],
             [
              0.6666666666666666,
              "#ed7953"
             ],
             [
              0.7777777777777778,
              "#fb9f3a"
             ],
             [
              0.8888888888888888,
              "#fdca26"
             ],
             [
              1,
              "#f0f921"
             ]
            ],
            "type": "histogram2dcontour"
           }
          ],
          "mesh3d": [
           {
            "colorbar": {
             "outlinewidth": 0,
             "ticks": ""
            },
            "type": "mesh3d"
           }
          ],
          "parcoords": [
           {
            "line": {
             "colorbar": {
              "outlinewidth": 0,
              "ticks": ""
             }
            },
            "type": "parcoords"
           }
          ],
          "pie": [
           {
            "automargin": true,
            "type": "pie"
           }
          ],
          "scatter": [
           {
            "fillpattern": {
             "fillmode": "overlay",
             "size": 10,
             "solidity": 0.2
            },
            "type": "scatter"
           }
          ],
          "scatter3d": [
           {
            "line": {
             "colorbar": {
              "outlinewidth": 0,
              "ticks": ""
             }
            },
            "marker": {
             "colorbar": {
              "outlinewidth": 0,
              "ticks": ""
             }
            },
            "type": "scatter3d"
           }
          ],
          "scattercarpet": [
           {
            "marker": {
             "colorbar": {
              "outlinewidth": 0,
              "ticks": ""
             }
            },
            "type": "scattercarpet"
           }
          ],
          "scattergeo": [
           {
            "marker": {
             "colorbar": {
              "outlinewidth": 0,
              "ticks": ""
             }
            },
            "type": "scattergeo"
           }
          ],
          "scattergl": [
           {
            "marker": {
             "colorbar": {
              "outlinewidth": 0,
              "ticks": ""
             }
            },
            "type": "scattergl"
           }
          ],
          "scattermapbox": [
           {
            "marker": {
             "colorbar": {
              "outlinewidth": 0,
              "ticks": ""
             }
            },
            "type": "scattermapbox"
           }
          ],
          "scatterpolar": [
           {
            "marker": {
             "colorbar": {
              "outlinewidth": 0,
              "ticks": ""
             }
            },
            "type": "scatterpolar"
           }
          ],
          "scatterpolargl": [
           {
            "marker": {
             "colorbar": {
              "outlinewidth": 0,
              "ticks": ""
             }
            },
            "type": "scatterpolargl"
           }
          ],
          "scatterternary": [
           {
            "marker": {
             "colorbar": {
              "outlinewidth": 0,
              "ticks": ""
             }
            },
            "type": "scatterternary"
           }
          ],
          "surface": [
           {
            "colorbar": {
             "outlinewidth": 0,
             "ticks": ""
            },
            "colorscale": [
             [
              0,
              "#0d0887"
             ],
             [
              0.1111111111111111,
              "#46039f"
             ],
             [
              0.2222222222222222,
              "#7201a8"
             ],
             [
              0.3333333333333333,
              "#9c179e"
             ],
             [
              0.4444444444444444,
              "#bd3786"
             ],
             [
              0.5555555555555556,
              "#d8576b"
             ],
             [
              0.6666666666666666,
              "#ed7953"
             ],
             [
              0.7777777777777778,
              "#fb9f3a"
             ],
             [
              0.8888888888888888,
              "#fdca26"
             ],
             [
              1,
              "#f0f921"
             ]
            ],
            "type": "surface"
           }
          ],
          "table": [
           {
            "cells": {
             "fill": {
              "color": "#EBF0F8"
             },
             "line": {
              "color": "white"
             }
            },
            "header": {
             "fill": {
              "color": "#C8D4E3"
             },
             "line": {
              "color": "white"
             }
            },
            "type": "table"
           }
          ]
         },
         "layout": {
          "annotationdefaults": {
           "arrowcolor": "#2a3f5f",
           "arrowhead": 0,
           "arrowwidth": 1
          },
          "autotypenumbers": "strict",
          "coloraxis": {
           "colorbar": {
            "outlinewidth": 0,
            "ticks": ""
           }
          },
          "colorscale": {
           "diverging": [
            [
             0,
             "#8e0152"
            ],
            [
             0.1,
             "#c51b7d"
            ],
            [
             0.2,
             "#de77ae"
            ],
            [
             0.3,
             "#f1b6da"
            ],
            [
             0.4,
             "#fde0ef"
            ],
            [
             0.5,
             "#f7f7f7"
            ],
            [
             0.6,
             "#e6f5d0"
            ],
            [
             0.7,
             "#b8e186"
            ],
            [
             0.8,
             "#7fbc41"
            ],
            [
             0.9,
             "#4d9221"
            ],
            [
             1,
             "#276419"
            ]
           ],
           "sequential": [
            [
             0,
             "#0d0887"
            ],
            [
             0.1111111111111111,
             "#46039f"
            ],
            [
             0.2222222222222222,
             "#7201a8"
            ],
            [
             0.3333333333333333,
             "#9c179e"
            ],
            [
             0.4444444444444444,
             "#bd3786"
            ],
            [
             0.5555555555555556,
             "#d8576b"
            ],
            [
             0.6666666666666666,
             "#ed7953"
            ],
            [
             0.7777777777777778,
             "#fb9f3a"
            ],
            [
             0.8888888888888888,
             "#fdca26"
            ],
            [
             1,
             "#f0f921"
            ]
           ],
           "sequentialminus": [
            [
             0,
             "#0d0887"
            ],
            [
             0.1111111111111111,
             "#46039f"
            ],
            [
             0.2222222222222222,
             "#7201a8"
            ],
            [
             0.3333333333333333,
             "#9c179e"
            ],
            [
             0.4444444444444444,
             "#bd3786"
            ],
            [
             0.5555555555555556,
             "#d8576b"
            ],
            [
             0.6666666666666666,
             "#ed7953"
            ],
            [
             0.7777777777777778,
             "#fb9f3a"
            ],
            [
             0.8888888888888888,
             "#fdca26"
            ],
            [
             1,
             "#f0f921"
            ]
           ]
          },
          "colorway": [
           "#636efa",
           "#EF553B",
           "#00cc96",
           "#ab63fa",
           "#FFA15A",
           "#19d3f3",
           "#FF6692",
           "#B6E880",
           "#FF97FF",
           "#FECB52"
          ],
          "font": {
           "color": "#2a3f5f"
          },
          "geo": {
           "bgcolor": "white",
           "lakecolor": "white",
           "landcolor": "#E5ECF6",
           "showlakes": true,
           "showland": true,
           "subunitcolor": "white"
          },
          "hoverlabel": {
           "align": "left"
          },
          "hovermode": "closest",
          "mapbox": {
           "style": "light"
          },
          "paper_bgcolor": "white",
          "plot_bgcolor": "#E5ECF6",
          "polar": {
           "angularaxis": {
            "gridcolor": "white",
            "linecolor": "white",
            "ticks": ""
           },
           "bgcolor": "#E5ECF6",
           "radialaxis": {
            "gridcolor": "white",
            "linecolor": "white",
            "ticks": ""
           }
          },
          "scene": {
           "xaxis": {
            "backgroundcolor": "#E5ECF6",
            "gridcolor": "white",
            "gridwidth": 2,
            "linecolor": "white",
            "showbackground": true,
            "ticks": "",
            "zerolinecolor": "white"
           },
           "yaxis": {
            "backgroundcolor": "#E5ECF6",
            "gridcolor": "white",
            "gridwidth": 2,
            "linecolor": "white",
            "showbackground": true,
            "ticks": "",
            "zerolinecolor": "white"
           },
           "zaxis": {
            "backgroundcolor": "#E5ECF6",
            "gridcolor": "white",
            "gridwidth": 2,
            "linecolor": "white",
            "showbackground": true,
            "ticks": "",
            "zerolinecolor": "white"
           }
          },
          "shapedefaults": {
           "line": {
            "color": "#2a3f5f"
           }
          },
          "ternary": {
           "aaxis": {
            "gridcolor": "white",
            "linecolor": "white",
            "ticks": ""
           },
           "baxis": {
            "gridcolor": "white",
            "linecolor": "white",
            "ticks": ""
           },
           "bgcolor": "#E5ECF6",
           "caxis": {
            "gridcolor": "white",
            "linecolor": "white",
            "ticks": ""
           }
          },
          "title": {
           "x": 0.05
          },
          "xaxis": {
           "automargin": true,
           "gridcolor": "white",
           "linecolor": "white",
           "ticks": "",
           "title": {
            "standoff": 15
           },
           "zerolinecolor": "white",
           "zerolinewidth": 2
          },
          "yaxis": {
           "automargin": true,
           "gridcolor": "white",
           "linecolor": "white",
           "ticks": "",
           "title": {
            "standoff": 15
           },
           "zerolinecolor": "white",
           "zerolinewidth": 2
          }
         }
        },
        "title": {
         "text": "Bookmaker Probability vs. Historical Probabilities for First Half of Matches"
        },
        "width": 1200,
        "xaxis": {
         "tickangle": 0,
         "tickmode": "array",
         "tickvals": [
          -1,
          -0.9,
          -0.8,
          -0.7,
          -0.6,
          -0.5,
          -0.3999999999999999,
          -0.29999999999999993,
          -0.19999999999999996,
          -0.09999999999999998,
          0,
          0.10000000000000009,
          0.20000000000000018,
          0.30000000000000004,
          0.40000000000000013,
          0.5,
          0.6000000000000001,
          0.7000000000000002,
          0.8,
          0.9000000000000001,
          1
         ],
         "title": {
          "text": "Bin Average"
         }
        },
        "yaxis": {
         "title": {
          "text": "Probabilities"
         }
        }
       }
      }
     },
     "metadata": {},
     "output_type": "display_data"
    },
    {
     "data": {
      "application/vnd.plotly.v1+json": {
       "config": {
        "plotlyServerURL": "https://plot.ly"
       },
       "data": [
        {
         "marker": {
          "color": "red"
         },
         "mode": "markers",
         "name": "Average Probabilities for Each Bin",
         "type": "scatter",
         "x": [
          -0.95,
          -0.8500000000000001,
          -0.75,
          -0.6499999999999999,
          -0.55,
          -0.44999999999999996,
          -0.3499999999999999,
          -0.24999999999999994,
          -0.14999999999999997,
          -0.04999999999999999,
          0.050000000000000044,
          0.15000000000000013,
          0.2500000000000001,
          0.3500000000000001,
          0.45000000000000007,
          0.55,
          0.6500000000000001,
          0.7500000000000001,
          0.8500000000000001,
          0.9500000000000001
         ],
         "y": [
          0.042069255162823255,
          0.10506039975415124,
          0.17804736138352037,
          0.22324372055387176,
          0.2640592521150633,
          0.2954931124601184,
          0.3606815033908006,
          0.42093520778541055,
          0.48643212771880345,
          0.5874696389447864,
          0.6159348137809472,
          0.5146568753056333,
          0.45302462678516714,
          0.3948052208138821,
          0.32350737086610587,
          0.26510223298948854,
          0.22039717306133683,
          0.1754752666357109,
          0.10921015327439225,
          0.04312172637477288
         ]
        },
        {
         "marker": {
          "color": "green"
         },
         "mode": "markers",
         "name": "Historical Probabilities for Each Bin",
         "type": "scatter",
         "x": [
          -0.95,
          -0.8500000000000001,
          -0.75,
          -0.6499999999999999,
          -0.55,
          -0.44999999999999996,
          -0.3499999999999999,
          -0.24999999999999994,
          -0.14999999999999997,
          -0.04999999999999999,
          0.050000000000000044,
          0.15000000000000013,
          0.2500000000000001,
          0.3500000000000001,
          0.45000000000000007,
          0.55,
          0.6500000000000001,
          0.7500000000000001,
          0.8500000000000001,
          0.9500000000000001
         ],
         "y": [
          0.03655793025871766,
          0.12827822120866592,
          0.1783625730994152,
          0.26258205689277897,
          0.3514774494556765,
          0.3696969696969697,
          0.38990825688073394,
          0.4688427299703264,
          0.5320108205590622,
          0.5604095563139931,
          0.6172267284665894,
          0.5745823389021479,
          0.4236168455821635,
          0.3448753462603878,
          0.2350230414746544,
          0.2289156626506024,
          0.23024054982817868,
          0.21890827236916152,
          0.08096280087527352,
          0.041325136612021855
         ]
        }
       ],
       "layout": {
        "height": 600,
        "template": {
         "data": {
          "bar": [
           {
            "error_x": {
             "color": "#2a3f5f"
            },
            "error_y": {
             "color": "#2a3f5f"
            },
            "marker": {
             "line": {
              "color": "#E5ECF6",
              "width": 0.5
             },
             "pattern": {
              "fillmode": "overlay",
              "size": 10,
              "solidity": 0.2
             }
            },
            "type": "bar"
           }
          ],
          "barpolar": [
           {
            "marker": {
             "line": {
              "color": "#E5ECF6",
              "width": 0.5
             },
             "pattern": {
              "fillmode": "overlay",
              "size": 10,
              "solidity": 0.2
             }
            },
            "type": "barpolar"
           }
          ],
          "carpet": [
           {
            "aaxis": {
             "endlinecolor": "#2a3f5f",
             "gridcolor": "white",
             "linecolor": "white",
             "minorgridcolor": "white",
             "startlinecolor": "#2a3f5f"
            },
            "baxis": {
             "endlinecolor": "#2a3f5f",
             "gridcolor": "white",
             "linecolor": "white",
             "minorgridcolor": "white",
             "startlinecolor": "#2a3f5f"
            },
            "type": "carpet"
           }
          ],
          "choropleth": [
           {
            "colorbar": {
             "outlinewidth": 0,
             "ticks": ""
            },
            "type": "choropleth"
           }
          ],
          "contour": [
           {
            "colorbar": {
             "outlinewidth": 0,
             "ticks": ""
            },
            "colorscale": [
             [
              0,
              "#0d0887"
             ],
             [
              0.1111111111111111,
              "#46039f"
             ],
             [
              0.2222222222222222,
              "#7201a8"
             ],
             [
              0.3333333333333333,
              "#9c179e"
             ],
             [
              0.4444444444444444,
              "#bd3786"
             ],
             [
              0.5555555555555556,
              "#d8576b"
             ],
             [
              0.6666666666666666,
              "#ed7953"
             ],
             [
              0.7777777777777778,
              "#fb9f3a"
             ],
             [
              0.8888888888888888,
              "#fdca26"
             ],
             [
              1,
              "#f0f921"
             ]
            ],
            "type": "contour"
           }
          ],
          "contourcarpet": [
           {
            "colorbar": {
             "outlinewidth": 0,
             "ticks": ""
            },
            "type": "contourcarpet"
           }
          ],
          "heatmap": [
           {
            "colorbar": {
             "outlinewidth": 0,
             "ticks": ""
            },
            "colorscale": [
             [
              0,
              "#0d0887"
             ],
             [
              0.1111111111111111,
              "#46039f"
             ],
             [
              0.2222222222222222,
              "#7201a8"
             ],
             [
              0.3333333333333333,
              "#9c179e"
             ],
             [
              0.4444444444444444,
              "#bd3786"
             ],
             [
              0.5555555555555556,
              "#d8576b"
             ],
             [
              0.6666666666666666,
              "#ed7953"
             ],
             [
              0.7777777777777778,
              "#fb9f3a"
             ],
             [
              0.8888888888888888,
              "#fdca26"
             ],
             [
              1,
              "#f0f921"
             ]
            ],
            "type": "heatmap"
           }
          ],
          "heatmapgl": [
           {
            "colorbar": {
             "outlinewidth": 0,
             "ticks": ""
            },
            "colorscale": [
             [
              0,
              "#0d0887"
             ],
             [
              0.1111111111111111,
              "#46039f"
             ],
             [
              0.2222222222222222,
              "#7201a8"
             ],
             [
              0.3333333333333333,
              "#9c179e"
             ],
             [
              0.4444444444444444,
              "#bd3786"
             ],
             [
              0.5555555555555556,
              "#d8576b"
             ],
             [
              0.6666666666666666,
              "#ed7953"
             ],
             [
              0.7777777777777778,
              "#fb9f3a"
             ],
             [
              0.8888888888888888,
              "#fdca26"
             ],
             [
              1,
              "#f0f921"
             ]
            ],
            "type": "heatmapgl"
           }
          ],
          "histogram": [
           {
            "marker": {
             "pattern": {
              "fillmode": "overlay",
              "size": 10,
              "solidity": 0.2
             }
            },
            "type": "histogram"
           }
          ],
          "histogram2d": [
           {
            "colorbar": {
             "outlinewidth": 0,
             "ticks": ""
            },
            "colorscale": [
             [
              0,
              "#0d0887"
             ],
             [
              0.1111111111111111,
              "#46039f"
             ],
             [
              0.2222222222222222,
              "#7201a8"
             ],
             [
              0.3333333333333333,
              "#9c179e"
             ],
             [
              0.4444444444444444,
              "#bd3786"
             ],
             [
              0.5555555555555556,
              "#d8576b"
             ],
             [
              0.6666666666666666,
              "#ed7953"
             ],
             [
              0.7777777777777778,
              "#fb9f3a"
             ],
             [
              0.8888888888888888,
              "#fdca26"
             ],
             [
              1,
              "#f0f921"
             ]
            ],
            "type": "histogram2d"
           }
          ],
          "histogram2dcontour": [
           {
            "colorbar": {
             "outlinewidth": 0,
             "ticks": ""
            },
            "colorscale": [
             [
              0,
              "#0d0887"
             ],
             [
              0.1111111111111111,
              "#46039f"
             ],
             [
              0.2222222222222222,
              "#7201a8"
             ],
             [
              0.3333333333333333,
              "#9c179e"
             ],
             [
              0.4444444444444444,
              "#bd3786"
             ],
             [
              0.5555555555555556,
              "#d8576b"
             ],
             [
              0.6666666666666666,
              "#ed7953"
             ],
             [
              0.7777777777777778,
              "#fb9f3a"
             ],
             [
              0.8888888888888888,
              "#fdca26"
             ],
             [
              1,
              "#f0f921"
             ]
            ],
            "type": "histogram2dcontour"
           }
          ],
          "mesh3d": [
           {
            "colorbar": {
             "outlinewidth": 0,
             "ticks": ""
            },
            "type": "mesh3d"
           }
          ],
          "parcoords": [
           {
            "line": {
             "colorbar": {
              "outlinewidth": 0,
              "ticks": ""
             }
            },
            "type": "parcoords"
           }
          ],
          "pie": [
           {
            "automargin": true,
            "type": "pie"
           }
          ],
          "scatter": [
           {
            "fillpattern": {
             "fillmode": "overlay",
             "size": 10,
             "solidity": 0.2
            },
            "type": "scatter"
           }
          ],
          "scatter3d": [
           {
            "line": {
             "colorbar": {
              "outlinewidth": 0,
              "ticks": ""
             }
            },
            "marker": {
             "colorbar": {
              "outlinewidth": 0,
              "ticks": ""
             }
            },
            "type": "scatter3d"
           }
          ],
          "scattercarpet": [
           {
            "marker": {
             "colorbar": {
              "outlinewidth": 0,
              "ticks": ""
             }
            },
            "type": "scattercarpet"
           }
          ],
          "scattergeo": [
           {
            "marker": {
             "colorbar": {
              "outlinewidth": 0,
              "ticks": ""
             }
            },
            "type": "scattergeo"
           }
          ],
          "scattergl": [
           {
            "marker": {
             "colorbar": {
              "outlinewidth": 0,
              "ticks": ""
             }
            },
            "type": "scattergl"
           }
          ],
          "scattermapbox": [
           {
            "marker": {
             "colorbar": {
              "outlinewidth": 0,
              "ticks": ""
             }
            },
            "type": "scattermapbox"
           }
          ],
          "scatterpolar": [
           {
            "marker": {
             "colorbar": {
              "outlinewidth": 0,
              "ticks": ""
             }
            },
            "type": "scatterpolar"
           }
          ],
          "scatterpolargl": [
           {
            "marker": {
             "colorbar": {
              "outlinewidth": 0,
              "ticks": ""
             }
            },
            "type": "scatterpolargl"
           }
          ],
          "scatterternary": [
           {
            "marker": {
             "colorbar": {
              "outlinewidth": 0,
              "ticks": ""
             }
            },
            "type": "scatterternary"
           }
          ],
          "surface": [
           {
            "colorbar": {
             "outlinewidth": 0,
             "ticks": ""
            },
            "colorscale": [
             [
              0,
              "#0d0887"
             ],
             [
              0.1111111111111111,
              "#46039f"
             ],
             [
              0.2222222222222222,
              "#7201a8"
             ],
             [
              0.3333333333333333,
              "#9c179e"
             ],
             [
              0.4444444444444444,
              "#bd3786"
             ],
             [
              0.5555555555555556,
              "#d8576b"
             ],
             [
              0.6666666666666666,
              "#ed7953"
             ],
             [
              0.7777777777777778,
              "#fb9f3a"
             ],
             [
              0.8888888888888888,
              "#fdca26"
             ],
             [
              1,
              "#f0f921"
             ]
            ],
            "type": "surface"
           }
          ],
          "table": [
           {
            "cells": {
             "fill": {
              "color": "#EBF0F8"
             },
             "line": {
              "color": "white"
             }
            },
            "header": {
             "fill": {
              "color": "#C8D4E3"
             },
             "line": {
              "color": "white"
             }
            },
            "type": "table"
           }
          ]
         },
         "layout": {
          "annotationdefaults": {
           "arrowcolor": "#2a3f5f",
           "arrowhead": 0,
           "arrowwidth": 1
          },
          "autotypenumbers": "strict",
          "coloraxis": {
           "colorbar": {
            "outlinewidth": 0,
            "ticks": ""
           }
          },
          "colorscale": {
           "diverging": [
            [
             0,
             "#8e0152"
            ],
            [
             0.1,
             "#c51b7d"
            ],
            [
             0.2,
             "#de77ae"
            ],
            [
             0.3,
             "#f1b6da"
            ],
            [
             0.4,
             "#fde0ef"
            ],
            [
             0.5,
             "#f7f7f7"
            ],
            [
             0.6,
             "#e6f5d0"
            ],
            [
             0.7,
             "#b8e186"
            ],
            [
             0.8,
             "#7fbc41"
            ],
            [
             0.9,
             "#4d9221"
            ],
            [
             1,
             "#276419"
            ]
           ],
           "sequential": [
            [
             0,
             "#0d0887"
            ],
            [
             0.1111111111111111,
             "#46039f"
            ],
            [
             0.2222222222222222,
             "#7201a8"
            ],
            [
             0.3333333333333333,
             "#9c179e"
            ],
            [
             0.4444444444444444,
             "#bd3786"
            ],
            [
             0.5555555555555556,
             "#d8576b"
            ],
            [
             0.6666666666666666,
             "#ed7953"
            ],
            [
             0.7777777777777778,
             "#fb9f3a"
            ],
            [
             0.8888888888888888,
             "#fdca26"
            ],
            [
             1,
             "#f0f921"
            ]
           ],
           "sequentialminus": [
            [
             0,
             "#0d0887"
            ],
            [
             0.1111111111111111,
             "#46039f"
            ],
            [
             0.2222222222222222,
             "#7201a8"
            ],
            [
             0.3333333333333333,
             "#9c179e"
            ],
            [
             0.4444444444444444,
             "#bd3786"
            ],
            [
             0.5555555555555556,
             "#d8576b"
            ],
            [
             0.6666666666666666,
             "#ed7953"
            ],
            [
             0.7777777777777778,
             "#fb9f3a"
            ],
            [
             0.8888888888888888,
             "#fdca26"
            ],
            [
             1,
             "#f0f921"
            ]
           ]
          },
          "colorway": [
           "#636efa",
           "#EF553B",
           "#00cc96",
           "#ab63fa",
           "#FFA15A",
           "#19d3f3",
           "#FF6692",
           "#B6E880",
           "#FF97FF",
           "#FECB52"
          ],
          "font": {
           "color": "#2a3f5f"
          },
          "geo": {
           "bgcolor": "white",
           "lakecolor": "white",
           "landcolor": "#E5ECF6",
           "showlakes": true,
           "showland": true,
           "subunitcolor": "white"
          },
          "hoverlabel": {
           "align": "left"
          },
          "hovermode": "closest",
          "mapbox": {
           "style": "light"
          },
          "paper_bgcolor": "white",
          "plot_bgcolor": "#E5ECF6",
          "polar": {
           "angularaxis": {
            "gridcolor": "white",
            "linecolor": "white",
            "ticks": ""
           },
           "bgcolor": "#E5ECF6",
           "radialaxis": {
            "gridcolor": "white",
            "linecolor": "white",
            "ticks": ""
           }
          },
          "scene": {
           "xaxis": {
            "backgroundcolor": "#E5ECF6",
            "gridcolor": "white",
            "gridwidth": 2,
            "linecolor": "white",
            "showbackground": true,
            "ticks": "",
            "zerolinecolor": "white"
           },
           "yaxis": {
            "backgroundcolor": "#E5ECF6",
            "gridcolor": "white",
            "gridwidth": 2,
            "linecolor": "white",
            "showbackground": true,
            "ticks": "",
            "zerolinecolor": "white"
           },
           "zaxis": {
            "backgroundcolor": "#E5ECF6",
            "gridcolor": "white",
            "gridwidth": 2,
            "linecolor": "white",
            "showbackground": true,
            "ticks": "",
            "zerolinecolor": "white"
           }
          },
          "shapedefaults": {
           "line": {
            "color": "#2a3f5f"
           }
          },
          "ternary": {
           "aaxis": {
            "gridcolor": "white",
            "linecolor": "white",
            "ticks": ""
           },
           "baxis": {
            "gridcolor": "white",
            "linecolor": "white",
            "ticks": ""
           },
           "bgcolor": "#E5ECF6",
           "caxis": {
            "gridcolor": "white",
            "linecolor": "white",
            "ticks": ""
           }
          },
          "title": {
           "x": 0.05
          },
          "xaxis": {
           "automargin": true,
           "gridcolor": "white",
           "linecolor": "white",
           "ticks": "",
           "title": {
            "standoff": 15
           },
           "zerolinecolor": "white",
           "zerolinewidth": 2
          },
          "yaxis": {
           "automargin": true,
           "gridcolor": "white",
           "linecolor": "white",
           "ticks": "",
           "title": {
            "standoff": 15
           },
           "zerolinecolor": "white",
           "zerolinewidth": 2
          }
         }
        },
        "title": {
         "text": "Bookmaker Probability vs. Historical Probabilities for Second Half of Matches"
        },
        "width": 1200,
        "xaxis": {
         "tickangle": 0,
         "tickmode": "array",
         "tickvals": [
          -1,
          -0.9,
          -0.8,
          -0.7,
          -0.6,
          -0.5,
          -0.3999999999999999,
          -0.29999999999999993,
          -0.19999999999999996,
          -0.09999999999999998,
          0,
          0.10000000000000009,
          0.20000000000000018,
          0.30000000000000004,
          0.40000000000000013,
          0.5,
          0.6000000000000001,
          0.7000000000000002,
          0.8,
          0.9000000000000001,
          1
         ],
         "title": {
          "text": "Bin Average"
         }
        },
        "yaxis": {
         "title": {
          "text": "Probabilities"
         }
        }
       }
      }
     },
     "metadata": {},
     "output_type": "display_data"
    }
   ],
   "source": [
    "def plot(data, half): \n",
    "    fig = go.Figure()\n",
    "    fig.add_trace(go.Scatter(\n",
    "            x=data['bin_average'],\n",
    "            y=data['avrg_pr_draw_bm'],\n",
    "            mode='markers',\n",
    "            marker=dict(\n",
    "                color='red'\n",
    "            ),\n",
    "            name=\"Average Probabilities for Each Bin\",))\n",
    "\n",
    "    fig.add_trace(go.Scatter(\n",
    "            x=data['bin_average'],\n",
    "            y=data['actual_draw_pr'],\n",
    "            mode='markers',\n",
    "            marker=dict(\n",
    "                color='green'\n",
    "            ),\n",
    "            name=\"Historical Probabilities for Each Bin\",))\n",
    "\n",
    "    fig.update_xaxes(\n",
    "        tickmode='array',\n",
    "        tickvals=np.linspace(-1, 1, 21),\n",
    "        title_text='Bin Average'\n",
    "    )\n",
    "\n",
    "    fig.update_layout(\n",
    "        width=1200,\n",
    "        height=600,\n",
    "        title='Bookmaker Probability vs. Historical Probabilities for ' + half + ' Half of Matches',\n",
    "        xaxis=dict(tickangle=0),\n",
    "        yaxis=dict(title_text='Probabilities'),\n",
    "    )\n",
    "    fig.show()\n",
    "\n",
    "plot(plotdf1, 'First')\n",
    "plot(plotdf2, 'Second')"
   ]
  },
  {
   "cell_type": "markdown",
   "metadata": {},
   "source": [
    "There is a bias between historical results and results proposed by the bookmaker. If the home team's chance of winning in the first half is 0.5 more than the other team's, playing for a draw will be profitable in the long run. Other than that, if the away team's chance of winning in the second half is higher than the other team's, playing for a draw will be profitable in the long run."
   ]
  },
  {
   "cell_type": "markdown",
   "metadata": {},
   "source": [
    "## TASK-2"
   ]
  },
  {
   "cell_type": "markdown",
   "metadata": {},
   "source": [
    "Any match that red card is seen is removed because red card changes all dynamics of matches no matter what minute it comes out. There are some cancel red cards in data; therefore, some conditions is applied about these cancels."
   ]
  },
  {
   "cell_type": "code",
   "execution_count": 10,
   "metadata": {},
   "outputs": [],
   "source": [
    "def check_group(group):\n",
    "    if (group['Redcards - home'] == 0).all() and (group['Redcards - away'] == 0).all():\n",
    "        return True\n",
    "    \n",
    "    red_card_seen = group['Redcards - home'].eq(1).cumsum()\n",
    "    after_first_red_card = group.loc[red_card_seen > 0, 'Redcards - home']\n",
    "\n",
    "    red_card_seen_away = group['Redcards - away'].eq(1).cumsum()\n",
    "    after_first_red_card_away = group.loc[red_card_seen_away > 0, 'Redcards - away']\n",
    "    \n",
    "    if (after_first_red_card == 0).any() or (after_first_red_card_away == 0).any():\n",
    "        return True\n",
    "    \n",
    "    return False\n",
    "\n",
    "filtered_match_data = match_data.groupby('fixture_id').filter(check_group)"
   ]
  },
  {
   "cell_type": "markdown",
   "metadata": {},
   "source": [
    "After data elimination, task 1 is applied again and compared to the analysis before data elimination."
   ]
  },
  {
   "cell_type": "code",
   "execution_count": 11,
   "metadata": {},
   "outputs": [
    {
     "data": {
      "application/vnd.plotly.v1+json": {
       "config": {
        "plotlyServerURL": "https://plot.ly"
       },
       "data": [
        {
         "marker": {
          "color": "red"
         },
         "mode": "markers",
         "name": "Average Probabilities for Each Bin",
         "type": "scatter",
         "x": [
          -0.95,
          -0.8500000000000001,
          -0.75,
          -0.6499999999999999,
          -0.55,
          -0.44999999999999996,
          -0.3499999999999999,
          -0.24999999999999994,
          -0.14999999999999997,
          -0.04999999999999999,
          0.050000000000000044,
          0.15000000000000013,
          0.2500000000000001,
          0.3500000000000001,
          0.45000000000000007,
          0.55,
          0.6500000000000001,
          0.7500000000000001,
          0.8500000000000001,
          0.9500000000000001
         ],
         "y": [
          0.03270042586663002,
          0.08460923453441185,
          0.13740588998297124,
          0.18244806742298827,
          0.2112834834738649,
          0.2474995051681221,
          0.2709528057014175,
          0.2911754641115442,
          0.3051091263103672,
          0.3154122075300772,
          0.32032641773856463,
          0.31472634657727633,
          0.3004300144814452,
          0.27113268889823644,
          0.24837075033929837,
          0.21659577242538083,
          0.18194135578850615,
          0.1352438067696703,
          0.08535522363798367,
          0.03508599011409539
         ]
        },
        {
         "marker": {
          "color": "green"
         },
         "mode": "markers",
         "name": "Historical Probabilities for Each Bin",
         "type": "scatter",
         "x": [
          -0.95,
          -0.8500000000000001,
          -0.75,
          -0.6499999999999999,
          -0.55,
          -0.44999999999999996,
          -0.3499999999999999,
          -0.24999999999999994,
          -0.14999999999999997,
          -0.04999999999999999,
          0.050000000000000044,
          0.15000000000000013,
          0.2500000000000001,
          0.3500000000000001,
          0.45000000000000007,
          0.55,
          0.6500000000000001,
          0.7500000000000001,
          0.8500000000000001,
          0.9500000000000001
         ],
         "y": [
          0,
          0.128125,
          0.11538461538461539,
          0.22542372881355932,
          0.1594896331738437,
          0.34134615384615385,
          0.2671353251318102,
          0.303935860058309,
          0.27715355805243447,
          0.26293408929837,
          0.3175709308113489,
          0.4099079351161771,
          0.3209955328653478,
          0.2774327122153209,
          0.2886969042476602,
          0.15638963360142985,
          0.15858668857847166,
          0.047898338220918865,
          0.060335195530726256,
          0.13212435233160622
         ]
        }
       ],
       "layout": {
        "height": 600,
        "template": {
         "data": {
          "bar": [
           {
            "error_x": {
             "color": "#2a3f5f"
            },
            "error_y": {
             "color": "#2a3f5f"
            },
            "marker": {
             "line": {
              "color": "#E5ECF6",
              "width": 0.5
             },
             "pattern": {
              "fillmode": "overlay",
              "size": 10,
              "solidity": 0.2
             }
            },
            "type": "bar"
           }
          ],
          "barpolar": [
           {
            "marker": {
             "line": {
              "color": "#E5ECF6",
              "width": 0.5
             },
             "pattern": {
              "fillmode": "overlay",
              "size": 10,
              "solidity": 0.2
             }
            },
            "type": "barpolar"
           }
          ],
          "carpet": [
           {
            "aaxis": {
             "endlinecolor": "#2a3f5f",
             "gridcolor": "white",
             "linecolor": "white",
             "minorgridcolor": "white",
             "startlinecolor": "#2a3f5f"
            },
            "baxis": {
             "endlinecolor": "#2a3f5f",
             "gridcolor": "white",
             "linecolor": "white",
             "minorgridcolor": "white",
             "startlinecolor": "#2a3f5f"
            },
            "type": "carpet"
           }
          ],
          "choropleth": [
           {
            "colorbar": {
             "outlinewidth": 0,
             "ticks": ""
            },
            "type": "choropleth"
           }
          ],
          "contour": [
           {
            "colorbar": {
             "outlinewidth": 0,
             "ticks": ""
            },
            "colorscale": [
             [
              0,
              "#0d0887"
             ],
             [
              0.1111111111111111,
              "#46039f"
             ],
             [
              0.2222222222222222,
              "#7201a8"
             ],
             [
              0.3333333333333333,
              "#9c179e"
             ],
             [
              0.4444444444444444,
              "#bd3786"
             ],
             [
              0.5555555555555556,
              "#d8576b"
             ],
             [
              0.6666666666666666,
              "#ed7953"
             ],
             [
              0.7777777777777778,
              "#fb9f3a"
             ],
             [
              0.8888888888888888,
              "#fdca26"
             ],
             [
              1,
              "#f0f921"
             ]
            ],
            "type": "contour"
           }
          ],
          "contourcarpet": [
           {
            "colorbar": {
             "outlinewidth": 0,
             "ticks": ""
            },
            "type": "contourcarpet"
           }
          ],
          "heatmap": [
           {
            "colorbar": {
             "outlinewidth": 0,
             "ticks": ""
            },
            "colorscale": [
             [
              0,
              "#0d0887"
             ],
             [
              0.1111111111111111,
              "#46039f"
             ],
             [
              0.2222222222222222,
              "#7201a8"
             ],
             [
              0.3333333333333333,
              "#9c179e"
             ],
             [
              0.4444444444444444,
              "#bd3786"
             ],
             [
              0.5555555555555556,
              "#d8576b"
             ],
             [
              0.6666666666666666,
              "#ed7953"
             ],
             [
              0.7777777777777778,
              "#fb9f3a"
             ],
             [
              0.8888888888888888,
              "#fdca26"
             ],
             [
              1,
              "#f0f921"
             ]
            ],
            "type": "heatmap"
           }
          ],
          "heatmapgl": [
           {
            "colorbar": {
             "outlinewidth": 0,
             "ticks": ""
            },
            "colorscale": [
             [
              0,
              "#0d0887"
             ],
             [
              0.1111111111111111,
              "#46039f"
             ],
             [
              0.2222222222222222,
              "#7201a8"
             ],
             [
              0.3333333333333333,
              "#9c179e"
             ],
             [
              0.4444444444444444,
              "#bd3786"
             ],
             [
              0.5555555555555556,
              "#d8576b"
             ],
             [
              0.6666666666666666,
              "#ed7953"
             ],
             [
              0.7777777777777778,
              "#fb9f3a"
             ],
             [
              0.8888888888888888,
              "#fdca26"
             ],
             [
              1,
              "#f0f921"
             ]
            ],
            "type": "heatmapgl"
           }
          ],
          "histogram": [
           {
            "marker": {
             "pattern": {
              "fillmode": "overlay",
              "size": 10,
              "solidity": 0.2
             }
            },
            "type": "histogram"
           }
          ],
          "histogram2d": [
           {
            "colorbar": {
             "outlinewidth": 0,
             "ticks": ""
            },
            "colorscale": [
             [
              0,
              "#0d0887"
             ],
             [
              0.1111111111111111,
              "#46039f"
             ],
             [
              0.2222222222222222,
              "#7201a8"
             ],
             [
              0.3333333333333333,
              "#9c179e"
             ],
             [
              0.4444444444444444,
              "#bd3786"
             ],
             [
              0.5555555555555556,
              "#d8576b"
             ],
             [
              0.6666666666666666,
              "#ed7953"
             ],
             [
              0.7777777777777778,
              "#fb9f3a"
             ],
             [
              0.8888888888888888,
              "#fdca26"
             ],
             [
              1,
              "#f0f921"
             ]
            ],
            "type": "histogram2d"
           }
          ],
          "histogram2dcontour": [
           {
            "colorbar": {
             "outlinewidth": 0,
             "ticks": ""
            },
            "colorscale": [
             [
              0,
              "#0d0887"
             ],
             [
              0.1111111111111111,
              "#46039f"
             ],
             [
              0.2222222222222222,
              "#7201a8"
             ],
             [
              0.3333333333333333,
              "#9c179e"
             ],
             [
              0.4444444444444444,
              "#bd3786"
             ],
             [
              0.5555555555555556,
              "#d8576b"
             ],
             [
              0.6666666666666666,
              "#ed7953"
             ],
             [
              0.7777777777777778,
              "#fb9f3a"
             ],
             [
              0.8888888888888888,
              "#fdca26"
             ],
             [
              1,
              "#f0f921"
             ]
            ],
            "type": "histogram2dcontour"
           }
          ],
          "mesh3d": [
           {
            "colorbar": {
             "outlinewidth": 0,
             "ticks": ""
            },
            "type": "mesh3d"
           }
          ],
          "parcoords": [
           {
            "line": {
             "colorbar": {
              "outlinewidth": 0,
              "ticks": ""
             }
            },
            "type": "parcoords"
           }
          ],
          "pie": [
           {
            "automargin": true,
            "type": "pie"
           }
          ],
          "scatter": [
           {
            "fillpattern": {
             "fillmode": "overlay",
             "size": 10,
             "solidity": 0.2
            },
            "type": "scatter"
           }
          ],
          "scatter3d": [
           {
            "line": {
             "colorbar": {
              "outlinewidth": 0,
              "ticks": ""
             }
            },
            "marker": {
             "colorbar": {
              "outlinewidth": 0,
              "ticks": ""
             }
            },
            "type": "scatter3d"
           }
          ],
          "scattercarpet": [
           {
            "marker": {
             "colorbar": {
              "outlinewidth": 0,
              "ticks": ""
             }
            },
            "type": "scattercarpet"
           }
          ],
          "scattergeo": [
           {
            "marker": {
             "colorbar": {
              "outlinewidth": 0,
              "ticks": ""
             }
            },
            "type": "scattergeo"
           }
          ],
          "scattergl": [
           {
            "marker": {
             "colorbar": {
              "outlinewidth": 0,
              "ticks": ""
             }
            },
            "type": "scattergl"
           }
          ],
          "scattermapbox": [
           {
            "marker": {
             "colorbar": {
              "outlinewidth": 0,
              "ticks": ""
             }
            },
            "type": "scattermapbox"
           }
          ],
          "scatterpolar": [
           {
            "marker": {
             "colorbar": {
              "outlinewidth": 0,
              "ticks": ""
             }
            },
            "type": "scatterpolar"
           }
          ],
          "scatterpolargl": [
           {
            "marker": {
             "colorbar": {
              "outlinewidth": 0,
              "ticks": ""
             }
            },
            "type": "scatterpolargl"
           }
          ],
          "scatterternary": [
           {
            "marker": {
             "colorbar": {
              "outlinewidth": 0,
              "ticks": ""
             }
            },
            "type": "scatterternary"
           }
          ],
          "surface": [
           {
            "colorbar": {
             "outlinewidth": 0,
             "ticks": ""
            },
            "colorscale": [
             [
              0,
              "#0d0887"
             ],
             [
              0.1111111111111111,
              "#46039f"
             ],
             [
              0.2222222222222222,
              "#7201a8"
             ],
             [
              0.3333333333333333,
              "#9c179e"
             ],
             [
              0.4444444444444444,
              "#bd3786"
             ],
             [
              0.5555555555555556,
              "#d8576b"
             ],
             [
              0.6666666666666666,
              "#ed7953"
             ],
             [
              0.7777777777777778,
              "#fb9f3a"
             ],
             [
              0.8888888888888888,
              "#fdca26"
             ],
             [
              1,
              "#f0f921"
             ]
            ],
            "type": "surface"
           }
          ],
          "table": [
           {
            "cells": {
             "fill": {
              "color": "#EBF0F8"
             },
             "line": {
              "color": "white"
             }
            },
            "header": {
             "fill": {
              "color": "#C8D4E3"
             },
             "line": {
              "color": "white"
             }
            },
            "type": "table"
           }
          ]
         },
         "layout": {
          "annotationdefaults": {
           "arrowcolor": "#2a3f5f",
           "arrowhead": 0,
           "arrowwidth": 1
          },
          "autotypenumbers": "strict",
          "coloraxis": {
           "colorbar": {
            "outlinewidth": 0,
            "ticks": ""
           }
          },
          "colorscale": {
           "diverging": [
            [
             0,
             "#8e0152"
            ],
            [
             0.1,
             "#c51b7d"
            ],
            [
             0.2,
             "#de77ae"
            ],
            [
             0.3,
             "#f1b6da"
            ],
            [
             0.4,
             "#fde0ef"
            ],
            [
             0.5,
             "#f7f7f7"
            ],
            [
             0.6,
             "#e6f5d0"
            ],
            [
             0.7,
             "#b8e186"
            ],
            [
             0.8,
             "#7fbc41"
            ],
            [
             0.9,
             "#4d9221"
            ],
            [
             1,
             "#276419"
            ]
           ],
           "sequential": [
            [
             0,
             "#0d0887"
            ],
            [
             0.1111111111111111,
             "#46039f"
            ],
            [
             0.2222222222222222,
             "#7201a8"
            ],
            [
             0.3333333333333333,
             "#9c179e"
            ],
            [
             0.4444444444444444,
             "#bd3786"
            ],
            [
             0.5555555555555556,
             "#d8576b"
            ],
            [
             0.6666666666666666,
             "#ed7953"
            ],
            [
             0.7777777777777778,
             "#fb9f3a"
            ],
            [
             0.8888888888888888,
             "#fdca26"
            ],
            [
             1,
             "#f0f921"
            ]
           ],
           "sequentialminus": [
            [
             0,
             "#0d0887"
            ],
            [
             0.1111111111111111,
             "#46039f"
            ],
            [
             0.2222222222222222,
             "#7201a8"
            ],
            [
             0.3333333333333333,
             "#9c179e"
            ],
            [
             0.4444444444444444,
             "#bd3786"
            ],
            [
             0.5555555555555556,
             "#d8576b"
            ],
            [
             0.6666666666666666,
             "#ed7953"
            ],
            [
             0.7777777777777778,
             "#fb9f3a"
            ],
            [
             0.8888888888888888,
             "#fdca26"
            ],
            [
             1,
             "#f0f921"
            ]
           ]
          },
          "colorway": [
           "#636efa",
           "#EF553B",
           "#00cc96",
           "#ab63fa",
           "#FFA15A",
           "#19d3f3",
           "#FF6692",
           "#B6E880",
           "#FF97FF",
           "#FECB52"
          ],
          "font": {
           "color": "#2a3f5f"
          },
          "geo": {
           "bgcolor": "white",
           "lakecolor": "white",
           "landcolor": "#E5ECF6",
           "showlakes": true,
           "showland": true,
           "subunitcolor": "white"
          },
          "hoverlabel": {
           "align": "left"
          },
          "hovermode": "closest",
          "mapbox": {
           "style": "light"
          },
          "paper_bgcolor": "white",
          "plot_bgcolor": "#E5ECF6",
          "polar": {
           "angularaxis": {
            "gridcolor": "white",
            "linecolor": "white",
            "ticks": ""
           },
           "bgcolor": "#E5ECF6",
           "radialaxis": {
            "gridcolor": "white",
            "linecolor": "white",
            "ticks": ""
           }
          },
          "scene": {
           "xaxis": {
            "backgroundcolor": "#E5ECF6",
            "gridcolor": "white",
            "gridwidth": 2,
            "linecolor": "white",
            "showbackground": true,
            "ticks": "",
            "zerolinecolor": "white"
           },
           "yaxis": {
            "backgroundcolor": "#E5ECF6",
            "gridcolor": "white",
            "gridwidth": 2,
            "linecolor": "white",
            "showbackground": true,
            "ticks": "",
            "zerolinecolor": "white"
           },
           "zaxis": {
            "backgroundcolor": "#E5ECF6",
            "gridcolor": "white",
            "gridwidth": 2,
            "linecolor": "white",
            "showbackground": true,
            "ticks": "",
            "zerolinecolor": "white"
           }
          },
          "shapedefaults": {
           "line": {
            "color": "#2a3f5f"
           }
          },
          "ternary": {
           "aaxis": {
            "gridcolor": "white",
            "linecolor": "white",
            "ticks": ""
           },
           "baxis": {
            "gridcolor": "white",
            "linecolor": "white",
            "ticks": ""
           },
           "bgcolor": "#E5ECF6",
           "caxis": {
            "gridcolor": "white",
            "linecolor": "white",
            "ticks": ""
           }
          },
          "title": {
           "x": 0.05
          },
          "xaxis": {
           "automargin": true,
           "gridcolor": "white",
           "linecolor": "white",
           "ticks": "",
           "title": {
            "standoff": 15
           },
           "zerolinecolor": "white",
           "zerolinewidth": 2
          },
          "yaxis": {
           "automargin": true,
           "gridcolor": "white",
           "linecolor": "white",
           "ticks": "",
           "title": {
            "standoff": 15
           },
           "zerolinecolor": "white",
           "zerolinewidth": 2
          }
         }
        },
        "title": {
         "text": "Bookmaker Probability vs. Historical Probabilities for First Half of Matches"
        },
        "width": 1200,
        "xaxis": {
         "tickangle": 0,
         "tickmode": "array",
         "tickvals": [
          -1,
          -0.9,
          -0.8,
          -0.7,
          -0.6,
          -0.5,
          -0.3999999999999999,
          -0.29999999999999993,
          -0.19999999999999996,
          -0.09999999999999998,
          0,
          0.10000000000000009,
          0.20000000000000018,
          0.30000000000000004,
          0.40000000000000013,
          0.5,
          0.6000000000000001,
          0.7000000000000002,
          0.8,
          0.9000000000000001,
          1
         ],
         "title": {
          "text": "Bin Average"
         }
        },
        "yaxis": {
         "title": {
          "text": "Probabilities"
         }
        }
       }
      }
     },
     "metadata": {},
     "output_type": "display_data"
    },
    {
     "data": {
      "application/vnd.plotly.v1+json": {
       "config": {
        "plotlyServerURL": "https://plot.ly"
       },
       "data": [
        {
         "marker": {
          "color": "red"
         },
         "mode": "markers",
         "name": "Average Probabilities for Each Bin",
         "type": "scatter",
         "x": [
          -0.95,
          -0.8500000000000001,
          -0.75,
          -0.6499999999999999,
          -0.55,
          -0.44999999999999996,
          -0.3499999999999999,
          -0.24999999999999994,
          -0.14999999999999997,
          -0.04999999999999999,
          0.050000000000000044,
          0.15000000000000013,
          0.2500000000000001,
          0.3500000000000001,
          0.45000000000000007,
          0.55,
          0.6500000000000001,
          0.7500000000000001,
          0.8500000000000001,
          0.9500000000000001
         ],
         "y": [
          0.04166053841286673,
          0.10500125057451053,
          0.17626726039045287,
          0.22122017329718024,
          0.2624787365704952,
          0.29270305804112656,
          0.35640182148306615,
          0.41232628079703854,
          0.4811528308597412,
          0.5936757166618398,
          0.6190106239899552,
          0.5080717231839788,
          0.44266873687443975,
          0.37737821459962834,
          0.30883175301567073,
          0.2614688048228597,
          0.2170058550253727,
          0.17641438920035651,
          0.10945057700474517,
          0.0420572735627532
         ]
        },
        {
         "marker": {
          "color": "green"
         },
         "mode": "markers",
         "name": "Historical Probabilities for Each Bin",
         "type": "scatter",
         "x": [
          -0.95,
          -0.8500000000000001,
          -0.75,
          -0.6499999999999999,
          -0.55,
          -0.44999999999999996,
          -0.3499999999999999,
          -0.24999999999999994,
          -0.14999999999999997,
          -0.04999999999999999,
          0.050000000000000044,
          0.15000000000000013,
          0.2500000000000001,
          0.3500000000000001,
          0.45000000000000007,
          0.55,
          0.6500000000000001,
          0.7500000000000001,
          0.8500000000000001,
          0.9500000000000001
         ],
         "y": [
          0.03867403314917127,
          0.13906810035842293,
          0.1665257819103973,
          0.2554557124518614,
          0.35984095427435386,
          0.40173410404624277,
          0.3855421686746988,
          0.5118110236220472,
          0.5166858457997698,
          0.5841300191204589,
          0.584135717560752,
          0.5718562874251497,
          0.42565947242206237,
          0.31786542923433875,
          0.1595238095238095,
          0.22845691382765532,
          0.23711340206185566,
          0.21077654516640254,
          0.0645822655048693,
          0.03747178329571106
         ]
        }
       ],
       "layout": {
        "height": 600,
        "template": {
         "data": {
          "bar": [
           {
            "error_x": {
             "color": "#2a3f5f"
            },
            "error_y": {
             "color": "#2a3f5f"
            },
            "marker": {
             "line": {
              "color": "#E5ECF6",
              "width": 0.5
             },
             "pattern": {
              "fillmode": "overlay",
              "size": 10,
              "solidity": 0.2
             }
            },
            "type": "bar"
           }
          ],
          "barpolar": [
           {
            "marker": {
             "line": {
              "color": "#E5ECF6",
              "width": 0.5
             },
             "pattern": {
              "fillmode": "overlay",
              "size": 10,
              "solidity": 0.2
             }
            },
            "type": "barpolar"
           }
          ],
          "carpet": [
           {
            "aaxis": {
             "endlinecolor": "#2a3f5f",
             "gridcolor": "white",
             "linecolor": "white",
             "minorgridcolor": "white",
             "startlinecolor": "#2a3f5f"
            },
            "baxis": {
             "endlinecolor": "#2a3f5f",
             "gridcolor": "white",
             "linecolor": "white",
             "minorgridcolor": "white",
             "startlinecolor": "#2a3f5f"
            },
            "type": "carpet"
           }
          ],
          "choropleth": [
           {
            "colorbar": {
             "outlinewidth": 0,
             "ticks": ""
            },
            "type": "choropleth"
           }
          ],
          "contour": [
           {
            "colorbar": {
             "outlinewidth": 0,
             "ticks": ""
            },
            "colorscale": [
             [
              0,
              "#0d0887"
             ],
             [
              0.1111111111111111,
              "#46039f"
             ],
             [
              0.2222222222222222,
              "#7201a8"
             ],
             [
              0.3333333333333333,
              "#9c179e"
             ],
             [
              0.4444444444444444,
              "#bd3786"
             ],
             [
              0.5555555555555556,
              "#d8576b"
             ],
             [
              0.6666666666666666,
              "#ed7953"
             ],
             [
              0.7777777777777778,
              "#fb9f3a"
             ],
             [
              0.8888888888888888,
              "#fdca26"
             ],
             [
              1,
              "#f0f921"
             ]
            ],
            "type": "contour"
           }
          ],
          "contourcarpet": [
           {
            "colorbar": {
             "outlinewidth": 0,
             "ticks": ""
            },
            "type": "contourcarpet"
           }
          ],
          "heatmap": [
           {
            "colorbar": {
             "outlinewidth": 0,
             "ticks": ""
            },
            "colorscale": [
             [
              0,
              "#0d0887"
             ],
             [
              0.1111111111111111,
              "#46039f"
             ],
             [
              0.2222222222222222,
              "#7201a8"
             ],
             [
              0.3333333333333333,
              "#9c179e"
             ],
             [
              0.4444444444444444,
              "#bd3786"
             ],
             [
              0.5555555555555556,
              "#d8576b"
             ],
             [
              0.6666666666666666,
              "#ed7953"
             ],
             [
              0.7777777777777778,
              "#fb9f3a"
             ],
             [
              0.8888888888888888,
              "#fdca26"
             ],
             [
              1,
              "#f0f921"
             ]
            ],
            "type": "heatmap"
           }
          ],
          "heatmapgl": [
           {
            "colorbar": {
             "outlinewidth": 0,
             "ticks": ""
            },
            "colorscale": [
             [
              0,
              "#0d0887"
             ],
             [
              0.1111111111111111,
              "#46039f"
             ],
             [
              0.2222222222222222,
              "#7201a8"
             ],
             [
              0.3333333333333333,
              "#9c179e"
             ],
             [
              0.4444444444444444,
              "#bd3786"
             ],
             [
              0.5555555555555556,
              "#d8576b"
             ],
             [
              0.6666666666666666,
              "#ed7953"
             ],
             [
              0.7777777777777778,
              "#fb9f3a"
             ],
             [
              0.8888888888888888,
              "#fdca26"
             ],
             [
              1,
              "#f0f921"
             ]
            ],
            "type": "heatmapgl"
           }
          ],
          "histogram": [
           {
            "marker": {
             "pattern": {
              "fillmode": "overlay",
              "size": 10,
              "solidity": 0.2
             }
            },
            "type": "histogram"
           }
          ],
          "histogram2d": [
           {
            "colorbar": {
             "outlinewidth": 0,
             "ticks": ""
            },
            "colorscale": [
             [
              0,
              "#0d0887"
             ],
             [
              0.1111111111111111,
              "#46039f"
             ],
             [
              0.2222222222222222,
              "#7201a8"
             ],
             [
              0.3333333333333333,
              "#9c179e"
             ],
             [
              0.4444444444444444,
              "#bd3786"
             ],
             [
              0.5555555555555556,
              "#d8576b"
             ],
             [
              0.6666666666666666,
              "#ed7953"
             ],
             [
              0.7777777777777778,
              "#fb9f3a"
             ],
             [
              0.8888888888888888,
              "#fdca26"
             ],
             [
              1,
              "#f0f921"
             ]
            ],
            "type": "histogram2d"
           }
          ],
          "histogram2dcontour": [
           {
            "colorbar": {
             "outlinewidth": 0,
             "ticks": ""
            },
            "colorscale": [
             [
              0,
              "#0d0887"
             ],
             [
              0.1111111111111111,
              "#46039f"
             ],
             [
              0.2222222222222222,
              "#7201a8"
             ],
             [
              0.3333333333333333,
              "#9c179e"
             ],
             [
              0.4444444444444444,
              "#bd3786"
             ],
             [
              0.5555555555555556,
              "#d8576b"
             ],
             [
              0.6666666666666666,
              "#ed7953"
             ],
             [
              0.7777777777777778,
              "#fb9f3a"
             ],
             [
              0.8888888888888888,
              "#fdca26"
             ],
             [
              1,
              "#f0f921"
             ]
            ],
            "type": "histogram2dcontour"
           }
          ],
          "mesh3d": [
           {
            "colorbar": {
             "outlinewidth": 0,
             "ticks": ""
            },
            "type": "mesh3d"
           }
          ],
          "parcoords": [
           {
            "line": {
             "colorbar": {
              "outlinewidth": 0,
              "ticks": ""
             }
            },
            "type": "parcoords"
           }
          ],
          "pie": [
           {
            "automargin": true,
            "type": "pie"
           }
          ],
          "scatter": [
           {
            "fillpattern": {
             "fillmode": "overlay",
             "size": 10,
             "solidity": 0.2
            },
            "type": "scatter"
           }
          ],
          "scatter3d": [
           {
            "line": {
             "colorbar": {
              "outlinewidth": 0,
              "ticks": ""
             }
            },
            "marker": {
             "colorbar": {
              "outlinewidth": 0,
              "ticks": ""
             }
            },
            "type": "scatter3d"
           }
          ],
          "scattercarpet": [
           {
            "marker": {
             "colorbar": {
              "outlinewidth": 0,
              "ticks": ""
             }
            },
            "type": "scattercarpet"
           }
          ],
          "scattergeo": [
           {
            "marker": {
             "colorbar": {
              "outlinewidth": 0,
              "ticks": ""
             }
            },
            "type": "scattergeo"
           }
          ],
          "scattergl": [
           {
            "marker": {
             "colorbar": {
              "outlinewidth": 0,
              "ticks": ""
             }
            },
            "type": "scattergl"
           }
          ],
          "scattermapbox": [
           {
            "marker": {
             "colorbar": {
              "outlinewidth": 0,
              "ticks": ""
             }
            },
            "type": "scattermapbox"
           }
          ],
          "scatterpolar": [
           {
            "marker": {
             "colorbar": {
              "outlinewidth": 0,
              "ticks": ""
             }
            },
            "type": "scatterpolar"
           }
          ],
          "scatterpolargl": [
           {
            "marker": {
             "colorbar": {
              "outlinewidth": 0,
              "ticks": ""
             }
            },
            "type": "scatterpolargl"
           }
          ],
          "scatterternary": [
           {
            "marker": {
             "colorbar": {
              "outlinewidth": 0,
              "ticks": ""
             }
            },
            "type": "scatterternary"
           }
          ],
          "surface": [
           {
            "colorbar": {
             "outlinewidth": 0,
             "ticks": ""
            },
            "colorscale": [
             [
              0,
              "#0d0887"
             ],
             [
              0.1111111111111111,
              "#46039f"
             ],
             [
              0.2222222222222222,
              "#7201a8"
             ],
             [
              0.3333333333333333,
              "#9c179e"
             ],
             [
              0.4444444444444444,
              "#bd3786"
             ],
             [
              0.5555555555555556,
              "#d8576b"
             ],
             [
              0.6666666666666666,
              "#ed7953"
             ],
             [
              0.7777777777777778,
              "#fb9f3a"
             ],
             [
              0.8888888888888888,
              "#fdca26"
             ],
             [
              1,
              "#f0f921"
             ]
            ],
            "type": "surface"
           }
          ],
          "table": [
           {
            "cells": {
             "fill": {
              "color": "#EBF0F8"
             },
             "line": {
              "color": "white"
             }
            },
            "header": {
             "fill": {
              "color": "#C8D4E3"
             },
             "line": {
              "color": "white"
             }
            },
            "type": "table"
           }
          ]
         },
         "layout": {
          "annotationdefaults": {
           "arrowcolor": "#2a3f5f",
           "arrowhead": 0,
           "arrowwidth": 1
          },
          "autotypenumbers": "strict",
          "coloraxis": {
           "colorbar": {
            "outlinewidth": 0,
            "ticks": ""
           }
          },
          "colorscale": {
           "diverging": [
            [
             0,
             "#8e0152"
            ],
            [
             0.1,
             "#c51b7d"
            ],
            [
             0.2,
             "#de77ae"
            ],
            [
             0.3,
             "#f1b6da"
            ],
            [
             0.4,
             "#fde0ef"
            ],
            [
             0.5,
             "#f7f7f7"
            ],
            [
             0.6,
             "#e6f5d0"
            ],
            [
             0.7,
             "#b8e186"
            ],
            [
             0.8,
             "#7fbc41"
            ],
            [
             0.9,
             "#4d9221"
            ],
            [
             1,
             "#276419"
            ]
           ],
           "sequential": [
            [
             0,
             "#0d0887"
            ],
            [
             0.1111111111111111,
             "#46039f"
            ],
            [
             0.2222222222222222,
             "#7201a8"
            ],
            [
             0.3333333333333333,
             "#9c179e"
            ],
            [
             0.4444444444444444,
             "#bd3786"
            ],
            [
             0.5555555555555556,
             "#d8576b"
            ],
            [
             0.6666666666666666,
             "#ed7953"
            ],
            [
             0.7777777777777778,
             "#fb9f3a"
            ],
            [
             0.8888888888888888,
             "#fdca26"
            ],
            [
             1,
             "#f0f921"
            ]
           ],
           "sequentialminus": [
            [
             0,
             "#0d0887"
            ],
            [
             0.1111111111111111,
             "#46039f"
            ],
            [
             0.2222222222222222,
             "#7201a8"
            ],
            [
             0.3333333333333333,
             "#9c179e"
            ],
            [
             0.4444444444444444,
             "#bd3786"
            ],
            [
             0.5555555555555556,
             "#d8576b"
            ],
            [
             0.6666666666666666,
             "#ed7953"
            ],
            [
             0.7777777777777778,
             "#fb9f3a"
            ],
            [
             0.8888888888888888,
             "#fdca26"
            ],
            [
             1,
             "#f0f921"
            ]
           ]
          },
          "colorway": [
           "#636efa",
           "#EF553B",
           "#00cc96",
           "#ab63fa",
           "#FFA15A",
           "#19d3f3",
           "#FF6692",
           "#B6E880",
           "#FF97FF",
           "#FECB52"
          ],
          "font": {
           "color": "#2a3f5f"
          },
          "geo": {
           "bgcolor": "white",
           "lakecolor": "white",
           "landcolor": "#E5ECF6",
           "showlakes": true,
           "showland": true,
           "subunitcolor": "white"
          },
          "hoverlabel": {
           "align": "left"
          },
          "hovermode": "closest",
          "mapbox": {
           "style": "light"
          },
          "paper_bgcolor": "white",
          "plot_bgcolor": "#E5ECF6",
          "polar": {
           "angularaxis": {
            "gridcolor": "white",
            "linecolor": "white",
            "ticks": ""
           },
           "bgcolor": "#E5ECF6",
           "radialaxis": {
            "gridcolor": "white",
            "linecolor": "white",
            "ticks": ""
           }
          },
          "scene": {
           "xaxis": {
            "backgroundcolor": "#E5ECF6",
            "gridcolor": "white",
            "gridwidth": 2,
            "linecolor": "white",
            "showbackground": true,
            "ticks": "",
            "zerolinecolor": "white"
           },
           "yaxis": {
            "backgroundcolor": "#E5ECF6",
            "gridcolor": "white",
            "gridwidth": 2,
            "linecolor": "white",
            "showbackground": true,
            "ticks": "",
            "zerolinecolor": "white"
           },
           "zaxis": {
            "backgroundcolor": "#E5ECF6",
            "gridcolor": "white",
            "gridwidth": 2,
            "linecolor": "white",
            "showbackground": true,
            "ticks": "",
            "zerolinecolor": "white"
           }
          },
          "shapedefaults": {
           "line": {
            "color": "#2a3f5f"
           }
          },
          "ternary": {
           "aaxis": {
            "gridcolor": "white",
            "linecolor": "white",
            "ticks": ""
           },
           "baxis": {
            "gridcolor": "white",
            "linecolor": "white",
            "ticks": ""
           },
           "bgcolor": "#E5ECF6",
           "caxis": {
            "gridcolor": "white",
            "linecolor": "white",
            "ticks": ""
           }
          },
          "title": {
           "x": 0.05
          },
          "xaxis": {
           "automargin": true,
           "gridcolor": "white",
           "linecolor": "white",
           "ticks": "",
           "title": {
            "standoff": 15
           },
           "zerolinecolor": "white",
           "zerolinewidth": 2
          },
          "yaxis": {
           "automargin": true,
           "gridcolor": "white",
           "linecolor": "white",
           "ticks": "",
           "title": {
            "standoff": 15
           },
           "zerolinecolor": "white",
           "zerolinewidth": 2
          }
         }
        },
        "title": {
         "text": "Bookmaker Probability vs. Historical Probabilities for Second Half of Matches"
        },
        "width": 1200,
        "xaxis": {
         "tickangle": 0,
         "tickmode": "array",
         "tickvals": [
          -1,
          -0.9,
          -0.8,
          -0.7,
          -0.6,
          -0.5,
          -0.3999999999999999,
          -0.29999999999999993,
          -0.19999999999999996,
          -0.09999999999999998,
          0,
          0.10000000000000009,
          0.20000000000000018,
          0.30000000000000004,
          0.40000000000000013,
          0.5,
          0.6000000000000001,
          0.7000000000000002,
          0.8,
          0.9000000000000001,
          1
         ],
         "title": {
          "text": "Bin Average"
         }
        },
        "yaxis": {
         "title": {
          "text": "Probabilities"
         }
        }
       }
      }
     },
     "metadata": {},
     "output_type": "display_data"
    }
   ],
   "source": [
    "task2_df = task1(filtered_match_data)\n",
    "plotdf_task_2_1st, plotdf_task_2_2nd = bins_function(task2_df)\n",
    "plot(plotdf_task_2_1st, 'First')\n",
    "plot(plotdf_task_2_2nd, 'Second')\n"
   ]
  },
  {
   "cell_type": "markdown",
   "metadata": {},
   "source": [
    "When we exclude the matches where red cards are shown, the results we get do not differ much. If a red card is shown in the early minutes, the bettors immediately revise the odds, but if a red card is shown in the late minutes, the result of the match does not change much. The reason why the cards drawn in the early minutes do not affect our results is that the odds in the remaining minutes are more accurate and therefore have a higher weight when analyzing the data."
   ]
  },
  {
   "cell_type": "markdown",
   "metadata": {},
   "source": [
    "## TASK-3"
   ]
  },
  {
   "cell_type": "markdown",
   "metadata": {},
   "source": [
    "Firstly, the features will be used for decision tree model are determined."
   ]
  },
  {
   "cell_type": "code",
   "execution_count": 12,
   "metadata": {},
   "outputs": [
    {
     "data": {
      "text/plain": [
       "['fixture_id',\n",
       " 'halftime',\n",
       " 'current_time',\n",
       " 'half_start_datetime',\n",
       " 'match_start_datetime',\n",
       " 'minute',\n",
       " 'second',\n",
       " 'latest_bookmaker_update',\n",
       " 'suspended',\n",
       " 'stopped',\n",
       " '1',\n",
       " '2',\n",
       " 'X',\n",
       " 'name',\n",
       " 'ticking',\n",
       " 'Accurate Crosses - away',\n",
       " 'Accurate Crosses - home',\n",
       " 'Assists - away',\n",
       " 'Assists - home',\n",
       " 'Attacks - away',\n",
       " 'Attacks - home',\n",
       " 'Ball Possession % - away',\n",
       " 'Ball Possession % - home',\n",
       " 'Ball Safe - away',\n",
       " 'Ball Safe - home',\n",
       " 'Challenges - away',\n",
       " 'Challenges - home',\n",
       " 'Corners - away',\n",
       " 'Corners - home',\n",
       " 'Counter Attacks - away',\n",
       " 'Counter Attacks - home',\n",
       " 'Dangerous Attacks - away',\n",
       " 'Dangerous Attacks - home',\n",
       " 'Dribble Attempts - away',\n",
       " 'Dribble Attempts - home',\n",
       " 'Fouls - away',\n",
       " 'Fouls - home',\n",
       " 'Free Kicks - away',\n",
       " 'Free Kicks - home',\n",
       " 'Goal Attempts - away',\n",
       " 'Goal Attempts - home',\n",
       " 'Goal Kicks - away',\n",
       " 'Goal Kicks - home',\n",
       " 'Goals - away',\n",
       " 'Goals - home',\n",
       " 'Headers - away',\n",
       " 'Headers - home',\n",
       " 'Hit Woodwork - away',\n",
       " 'Hit Woodwork - home',\n",
       " 'Injuries - away',\n",
       " 'Injuries - home',\n",
       " 'Interceptions - away',\n",
       " 'Interceptions - home',\n",
       " 'Key Passes - away',\n",
       " 'Key Passes - home',\n",
       " 'Long Passes - away',\n",
       " 'Long Passes - home',\n",
       " 'Offsides - away',\n",
       " 'Offsides - home',\n",
       " 'Passes - away',\n",
       " 'Passes - home',\n",
       " 'Penalties - away',\n",
       " 'Penalties - home',\n",
       " 'Redcards - away',\n",
       " 'Redcards - home',\n",
       " 'Saves - away',\n",
       " 'Saves - home',\n",
       " 'Score Change - away',\n",
       " 'Score Change - home',\n",
       " 'Shots Blocked - away',\n",
       " 'Shots Blocked - home',\n",
       " 'Shots Insidebox - away',\n",
       " 'Shots Insidebox - home',\n",
       " 'Shots Off Target - away',\n",
       " 'Shots Off Target - home',\n",
       " 'Shots On Target - away',\n",
       " 'Shots On Target - home',\n",
       " 'Shots Outsidebox - away',\n",
       " 'Shots Outsidebox - home',\n",
       " 'Shots Total - away',\n",
       " 'Shots Total - home',\n",
       " 'Substitutions - away',\n",
       " 'Substitutions - home',\n",
       " 'Successful Dribbles - away',\n",
       " 'Successful Dribbles - home',\n",
       " 'Successful Headers - away',\n",
       " 'Successful Headers - home',\n",
       " 'Successful Interceptions - away',\n",
       " 'Successful Interceptions - home',\n",
       " 'Successful Passes - away',\n",
       " 'Successful Passes - home',\n",
       " 'Successful Passes Percentage - away',\n",
       " 'Successful Passes Percentage - home',\n",
       " 'Tackles - away',\n",
       " 'Tackles - home',\n",
       " 'Throwins - away',\n",
       " 'Throwins - home',\n",
       " 'Total Crosses - away',\n",
       " 'Total Crosses - home',\n",
       " 'Yellowcards - away',\n",
       " 'Yellowcards - home',\n",
       " 'Yellowred Cards - away',\n",
       " 'Yellowred Cards - home',\n",
       " 'current_state',\n",
       " 'final_score',\n",
       " 'result']"
      ]
     },
     "execution_count": 12,
     "metadata": {},
     "output_type": "execute_result"
    }
   ],
   "source": [
    "[x for x in match_data.columns]"
   ]
  },
  {
   "cell_type": "markdown",
   "metadata": {},
   "source": [
    "fixture_id, current_time, half_start_datetime, match_start_datetime, latest_bookmaker_update, suspended, stopped, name, ticking, finalscore,  'Score Change - away',\n",
    " 'Score Change - home',"
   ]
  },
  {
   "cell_type": "code",
   "execution_count": 13,
   "metadata": {},
   "outputs": [
    {
     "data": {
      "text/html": [
       "<div>\n",
       "<style scoped>\n",
       "    .dataframe tbody tr th:only-of-type {\n",
       "        vertical-align: middle;\n",
       "    }\n",
       "\n",
       "    .dataframe tbody tr th {\n",
       "        vertical-align: top;\n",
       "    }\n",
       "\n",
       "    .dataframe thead th {\n",
       "        text-align: right;\n",
       "    }\n",
       "</style>\n",
       "<table border=\"1\" class=\"dataframe\">\n",
       "  <thead>\n",
       "    <tr style=\"text-align: right;\">\n",
       "      <th></th>\n",
       "      <th>halftime</th>\n",
       "      <th>minute</th>\n",
       "      <th>second</th>\n",
       "      <th>Accurate Crosses - away</th>\n",
       "      <th>Accurate Crosses - home</th>\n",
       "      <th>Assists - away</th>\n",
       "      <th>Assists - home</th>\n",
       "      <th>Attacks - away</th>\n",
       "      <th>Attacks - home</th>\n",
       "      <th>Ball Possession % - away</th>\n",
       "      <th>...</th>\n",
       "      <th>Throwins - away</th>\n",
       "      <th>Throwins - home</th>\n",
       "      <th>Total Crosses - away</th>\n",
       "      <th>Total Crosses - home</th>\n",
       "      <th>Yellowcards - away</th>\n",
       "      <th>Yellowcards - home</th>\n",
       "      <th>Yellowred Cards - away</th>\n",
       "      <th>Yellowred Cards - home</th>\n",
       "      <th>current_state</th>\n",
       "      <th>result</th>\n",
       "    </tr>\n",
       "  </thead>\n",
       "  <tbody>\n",
       "    <tr>\n",
       "      <th>0</th>\n",
       "      <td>1st-half</td>\n",
       "      <td>9</td>\n",
       "      <td>59</td>\n",
       "      <td>0.0</td>\n",
       "      <td>0.0</td>\n",
       "      <td>0.0</td>\n",
       "      <td>0.0</td>\n",
       "      <td>2.0</td>\n",
       "      <td>18.0</td>\n",
       "      <td>28.0</td>\n",
       "      <td>...</td>\n",
       "      <td>3.0</td>\n",
       "      <td>1.0</td>\n",
       "      <td>0.0</td>\n",
       "      <td>3.0</td>\n",
       "      <td>0.0</td>\n",
       "      <td>0.0</td>\n",
       "      <td>0.0</td>\n",
       "      <td>0.0</td>\n",
       "      <td>X</td>\n",
       "      <td>1</td>\n",
       "    </tr>\n",
       "    <tr>\n",
       "      <th>1</th>\n",
       "      <td>1st-half</td>\n",
       "      <td>25</td>\n",
       "      <td>53</td>\n",
       "      <td>0.0</td>\n",
       "      <td>1.0</td>\n",
       "      <td>0.0</td>\n",
       "      <td>0.0</td>\n",
       "      <td>12.0</td>\n",
       "      <td>40.0</td>\n",
       "      <td>24.0</td>\n",
       "      <td>...</td>\n",
       "      <td>6.0</td>\n",
       "      <td>11.0</td>\n",
       "      <td>1.0</td>\n",
       "      <td>12.0</td>\n",
       "      <td>0.0</td>\n",
       "      <td>0.0</td>\n",
       "      <td>0.0</td>\n",
       "      <td>0.0</td>\n",
       "      <td>X</td>\n",
       "      <td>1</td>\n",
       "    </tr>\n",
       "    <tr>\n",
       "      <th>2</th>\n",
       "      <td>1st-half</td>\n",
       "      <td>26</td>\n",
       "      <td>48</td>\n",
       "      <td>0.0</td>\n",
       "      <td>1.0</td>\n",
       "      <td>0.0</td>\n",
       "      <td>0.0</td>\n",
       "      <td>12.0</td>\n",
       "      <td>40.0</td>\n",
       "      <td>21.0</td>\n",
       "      <td>...</td>\n",
       "      <td>6.0</td>\n",
       "      <td>11.0</td>\n",
       "      <td>1.0</td>\n",
       "      <td>13.0</td>\n",
       "      <td>0.0</td>\n",
       "      <td>0.0</td>\n",
       "      <td>0.0</td>\n",
       "      <td>0.0</td>\n",
       "      <td>X</td>\n",
       "      <td>1</td>\n",
       "    </tr>\n",
       "    <tr>\n",
       "      <th>3</th>\n",
       "      <td>1st-half</td>\n",
       "      <td>27</td>\n",
       "      <td>55</td>\n",
       "      <td>0.0</td>\n",
       "      <td>1.0</td>\n",
       "      <td>0.0</td>\n",
       "      <td>0.0</td>\n",
       "      <td>12.0</td>\n",
       "      <td>42.0</td>\n",
       "      <td>22.0</td>\n",
       "      <td>...</td>\n",
       "      <td>6.0</td>\n",
       "      <td>11.0</td>\n",
       "      <td>1.0</td>\n",
       "      <td>13.0</td>\n",
       "      <td>0.0</td>\n",
       "      <td>0.0</td>\n",
       "      <td>0.0</td>\n",
       "      <td>0.0</td>\n",
       "      <td>X</td>\n",
       "      <td>1</td>\n",
       "    </tr>\n",
       "    <tr>\n",
       "      <th>4</th>\n",
       "      <td>1st-half</td>\n",
       "      <td>32</td>\n",
       "      <td>41</td>\n",
       "      <td>0.0</td>\n",
       "      <td>1.0</td>\n",
       "      <td>0.0</td>\n",
       "      <td>0.0</td>\n",
       "      <td>15.0</td>\n",
       "      <td>46.0</td>\n",
       "      <td>21.0</td>\n",
       "      <td>...</td>\n",
       "      <td>7.0</td>\n",
       "      <td>11.0</td>\n",
       "      <td>1.0</td>\n",
       "      <td>14.0</td>\n",
       "      <td>0.0</td>\n",
       "      <td>0.0</td>\n",
       "      <td>0.0</td>\n",
       "      <td>0.0</td>\n",
       "      <td>X</td>\n",
       "      <td>1</td>\n",
       "    </tr>\n",
       "    <tr>\n",
       "      <th>...</th>\n",
       "      <td>...</td>\n",
       "      <td>...</td>\n",
       "      <td>...</td>\n",
       "      <td>...</td>\n",
       "      <td>...</td>\n",
       "      <td>...</td>\n",
       "      <td>...</td>\n",
       "      <td>...</td>\n",
       "      <td>...</td>\n",
       "      <td>...</td>\n",
       "      <td>...</td>\n",
       "      <td>...</td>\n",
       "      <td>...</td>\n",
       "      <td>...</td>\n",
       "      <td>...</td>\n",
       "      <td>...</td>\n",
       "      <td>...</td>\n",
       "      <td>...</td>\n",
       "      <td>...</td>\n",
       "      <td>...</td>\n",
       "      <td>...</td>\n",
       "    </tr>\n",
       "    <tr>\n",
       "      <th>55838</th>\n",
       "      <td>2nd-half</td>\n",
       "      <td>44</td>\n",
       "      <td>42</td>\n",
       "      <td>4.0</td>\n",
       "      <td>3.0</td>\n",
       "      <td>0.0</td>\n",
       "      <td>1.0</td>\n",
       "      <td>107.0</td>\n",
       "      <td>73.0</td>\n",
       "      <td>68.0</td>\n",
       "      <td>...</td>\n",
       "      <td>0.0</td>\n",
       "      <td>0.0</td>\n",
       "      <td>19.0</td>\n",
       "      <td>10.0</td>\n",
       "      <td>1.0</td>\n",
       "      <td>3.0</td>\n",
       "      <td>0.0</td>\n",
       "      <td>0.0</td>\n",
       "      <td>1</td>\n",
       "      <td>1</td>\n",
       "    </tr>\n",
       "    <tr>\n",
       "      <th>55839</th>\n",
       "      <td>2nd-half</td>\n",
       "      <td>45</td>\n",
       "      <td>42</td>\n",
       "      <td>4.0</td>\n",
       "      <td>3.0</td>\n",
       "      <td>0.0</td>\n",
       "      <td>1.0</td>\n",
       "      <td>109.0</td>\n",
       "      <td>73.0</td>\n",
       "      <td>68.0</td>\n",
       "      <td>...</td>\n",
       "      <td>0.0</td>\n",
       "      <td>0.0</td>\n",
       "      <td>19.0</td>\n",
       "      <td>10.0</td>\n",
       "      <td>1.0</td>\n",
       "      <td>3.0</td>\n",
       "      <td>0.0</td>\n",
       "      <td>0.0</td>\n",
       "      <td>1</td>\n",
       "      <td>1</td>\n",
       "    </tr>\n",
       "    <tr>\n",
       "      <th>55840</th>\n",
       "      <td>2nd-half</td>\n",
       "      <td>46</td>\n",
       "      <td>42</td>\n",
       "      <td>4.0</td>\n",
       "      <td>3.0</td>\n",
       "      <td>0.0</td>\n",
       "      <td>1.0</td>\n",
       "      <td>112.0</td>\n",
       "      <td>73.0</td>\n",
       "      <td>68.0</td>\n",
       "      <td>...</td>\n",
       "      <td>0.0</td>\n",
       "      <td>0.0</td>\n",
       "      <td>19.0</td>\n",
       "      <td>10.0</td>\n",
       "      <td>1.0</td>\n",
       "      <td>3.0</td>\n",
       "      <td>0.0</td>\n",
       "      <td>0.0</td>\n",
       "      <td>1</td>\n",
       "      <td>1</td>\n",
       "    </tr>\n",
       "    <tr>\n",
       "      <th>55841</th>\n",
       "      <td>2nd-half</td>\n",
       "      <td>47</td>\n",
       "      <td>42</td>\n",
       "      <td>4.0</td>\n",
       "      <td>3.0</td>\n",
       "      <td>0.0</td>\n",
       "      <td>1.0</td>\n",
       "      <td>118.0</td>\n",
       "      <td>73.0</td>\n",
       "      <td>68.0</td>\n",
       "      <td>...</td>\n",
       "      <td>0.0</td>\n",
       "      <td>0.0</td>\n",
       "      <td>19.0</td>\n",
       "      <td>10.0</td>\n",
       "      <td>1.0</td>\n",
       "      <td>3.0</td>\n",
       "      <td>0.0</td>\n",
       "      <td>0.0</td>\n",
       "      <td>1</td>\n",
       "      <td>1</td>\n",
       "    </tr>\n",
       "    <tr>\n",
       "      <th>55842</th>\n",
       "      <td>2nd-half</td>\n",
       "      <td>48</td>\n",
       "      <td>42</td>\n",
       "      <td>4.0</td>\n",
       "      <td>3.0</td>\n",
       "      <td>0.0</td>\n",
       "      <td>1.0</td>\n",
       "      <td>122.0</td>\n",
       "      <td>73.0</td>\n",
       "      <td>68.0</td>\n",
       "      <td>...</td>\n",
       "      <td>0.0</td>\n",
       "      <td>0.0</td>\n",
       "      <td>21.0</td>\n",
       "      <td>10.0</td>\n",
       "      <td>1.0</td>\n",
       "      <td>3.0</td>\n",
       "      <td>0.0</td>\n",
       "      <td>0.0</td>\n",
       "      <td>1</td>\n",
       "      <td>1</td>\n",
       "    </tr>\n",
       "  </tbody>\n",
       "</table>\n",
       "<p>55376 rows × 93 columns</p>\n",
       "</div>"
      ],
      "text/plain": [
       "       halftime  minute  second  Accurate Crosses - away  \\\n",
       "0      1st-half       9      59                      0.0   \n",
       "1      1st-half      25      53                      0.0   \n",
       "2      1st-half      26      48                      0.0   \n",
       "3      1st-half      27      55                      0.0   \n",
       "4      1st-half      32      41                      0.0   \n",
       "...         ...     ...     ...                      ...   \n",
       "55838  2nd-half      44      42                      4.0   \n",
       "55839  2nd-half      45      42                      4.0   \n",
       "55840  2nd-half      46      42                      4.0   \n",
       "55841  2nd-half      47      42                      4.0   \n",
       "55842  2nd-half      48      42                      4.0   \n",
       "\n",
       "       Accurate Crosses - home  Assists - away  Assists - home  \\\n",
       "0                          0.0             0.0             0.0   \n",
       "1                          1.0             0.0             0.0   \n",
       "2                          1.0             0.0             0.0   \n",
       "3                          1.0             0.0             0.0   \n",
       "4                          1.0             0.0             0.0   \n",
       "...                        ...             ...             ...   \n",
       "55838                      3.0             0.0             1.0   \n",
       "55839                      3.0             0.0             1.0   \n",
       "55840                      3.0             0.0             1.0   \n",
       "55841                      3.0             0.0             1.0   \n",
       "55842                      3.0             0.0             1.0   \n",
       "\n",
       "       Attacks - away  Attacks - home  Ball Possession % - away  ...  \\\n",
       "0                 2.0            18.0                      28.0  ...   \n",
       "1                12.0            40.0                      24.0  ...   \n",
       "2                12.0            40.0                      21.0  ...   \n",
       "3                12.0            42.0                      22.0  ...   \n",
       "4                15.0            46.0                      21.0  ...   \n",
       "...               ...             ...                       ...  ...   \n",
       "55838           107.0            73.0                      68.0  ...   \n",
       "55839           109.0            73.0                      68.0  ...   \n",
       "55840           112.0            73.0                      68.0  ...   \n",
       "55841           118.0            73.0                      68.0  ...   \n",
       "55842           122.0            73.0                      68.0  ...   \n",
       "\n",
       "       Throwins - away  Throwins - home  Total Crosses - away  \\\n",
       "0                  3.0              1.0                   0.0   \n",
       "1                  6.0             11.0                   1.0   \n",
       "2                  6.0             11.0                   1.0   \n",
       "3                  6.0             11.0                   1.0   \n",
       "4                  7.0             11.0                   1.0   \n",
       "...                ...              ...                   ...   \n",
       "55838              0.0              0.0                  19.0   \n",
       "55839              0.0              0.0                  19.0   \n",
       "55840              0.0              0.0                  19.0   \n",
       "55841              0.0              0.0                  19.0   \n",
       "55842              0.0              0.0                  21.0   \n",
       "\n",
       "       Total Crosses - home  Yellowcards - away  Yellowcards - home  \\\n",
       "0                       3.0                 0.0                 0.0   \n",
       "1                      12.0                 0.0                 0.0   \n",
       "2                      13.0                 0.0                 0.0   \n",
       "3                      13.0                 0.0                 0.0   \n",
       "4                      14.0                 0.0                 0.0   \n",
       "...                     ...                 ...                 ...   \n",
       "55838                  10.0                 1.0                 3.0   \n",
       "55839                  10.0                 1.0                 3.0   \n",
       "55840                  10.0                 1.0                 3.0   \n",
       "55841                  10.0                 1.0                 3.0   \n",
       "55842                  10.0                 1.0                 3.0   \n",
       "\n",
       "       Yellowred Cards - away  Yellowred Cards - home  current_state  result  \n",
       "0                         0.0                     0.0              X       1  \n",
       "1                         0.0                     0.0              X       1  \n",
       "2                         0.0                     0.0              X       1  \n",
       "3                         0.0                     0.0              X       1  \n",
       "4                         0.0                     0.0              X       1  \n",
       "...                       ...                     ...            ...     ...  \n",
       "55838                     0.0                     0.0              1       1  \n",
       "55839                     0.0                     0.0              1       1  \n",
       "55840                     0.0                     0.0              1       1  \n",
       "55841                     0.0                     0.0              1       1  \n",
       "55842                     0.0                     0.0              1       1  \n",
       "\n",
       "[55376 rows x 93 columns]"
      ]
     },
     "execution_count": 13,
     "metadata": {},
     "output_type": "execute_result"
    }
   ],
   "source": [
    "tree_match_data = match_data.drop(['fixture_id', 'current_time', 'half_start_datetime', 'match_start_datetime', 'latest_bookmaker_update', 'suspended', 'stopped', '1', '2', 'X', 'name', 'ticking', 'final_score'], axis=1)\n",
    "tree_match_data = tree_match_data.fillna(0)\n",
    "tree_match_data\n"
   ]
  },
  {
   "cell_type": "code",
   "execution_count": 14,
   "metadata": {},
   "outputs": [],
   "source": [
    "from sklearn.model_selection import train_test_split\n",
    "from sklearn.tree import DecisionTreeClassifier, plot_tree\n",
    "from sklearn.compose import ColumnTransformer\n",
    "from sklearn.preprocessing import OneHotEncoder\n",
    "from sklearn.metrics import accuracy_score"
   ]
  },
  {
   "cell_type": "code",
   "execution_count": 19,
   "metadata": {},
   "outputs": [
    {
     "name": "stdout",
     "output_type": "stream",
     "text": [
      "Accuracy: 0.629378837125316\n"
     ]
    }
   ],
   "source": [
    "X = tree_match_data.drop(['result'], axis=1)\n",
    "Y = tree_match_data['result']\n",
    "\n",
    "\n",
    "categorical_features = ['current_state', 'Score Change - away', 'Score Change - home', 'halftime']\n",
    "numerical_features = [col for col in X.columns if col not in categorical_features]\n",
    "\n",
    "for col in categorical_features:\n",
    "    X[col] = X[col].astype(str)\n",
    "\n",
    "preprocessor = ColumnTransformer(\n",
    "    transformers=[\n",
    "        ('num', 'passthrough', numerical_features),\n",
    "        ('cat', OneHotEncoder(handle_unknown='ignore'), categorical_features)\n",
    "    ])\n",
    "\n",
    "X_transformed = preprocessor.fit_transform(X)\n",
    "\n",
    "X_train, X_test, y_train, y_test = train_test_split(X_transformed, Y, test_size=0.2, random_state=42)\n",
    "\n",
    "clf = DecisionTreeClassifier(criterion='gini', max_depth=5, random_state=42)\n",
    "clf.fit(X_train, y_train)\n",
    "\n",
    "# Test verisiyle tahmin yap\n",
    "y_pred = clf.predict(X_test)\n",
    "\n",
    "# Modelin performansını değerlendir\n",
    "print(\"Accuracy:\", accuracy_score(y_test, y_pred))\n",
    "\n"
   ]
  },
  {
   "cell_type": "markdown",
   "metadata": {},
   "source": [
    "Without bet data, the model has 0.62 accuracy but I think it is very bad accuracy."
   ]
  },
  {
   "cell_type": "code",
   "execution_count": 23,
   "metadata": {},
   "outputs": [
    {
     "name": "stdout",
     "output_type": "stream",
     "text": [
      "Accuracy: 0.6456301914048392\n"
     ]
    }
   ],
   "source": [
    "second_tree_match_data = task1(match_data)\n",
    "second_tree_match_data = second_tree_match_data[['halftime', 'minute', 'second', 'normalized_P_home', 'normalized_P_draw', 'normalized_P_away', 'result']]\n",
    "X_2 = second_tree_match_data.drop(['result'], axis=1)\n",
    "Y_2 = second_tree_match_data[['result']]\n",
    "\n",
    "categorical_features = ['halftime']\n",
    "numerical_features = [col for col in X_2.columns if col not in categorical_features]\n",
    "\n",
    "for col in categorical_features:\n",
    "    X_2[col] = X_2[col].astype(str)\n",
    "\n",
    "preprocessor = ColumnTransformer(\n",
    "    transformers=[\n",
    "        ('num', 'passthrough', numerical_features),\n",
    "        ('cat', OneHotEncoder(handle_unknown='ignore'), categorical_features)\n",
    "    ])\n",
    "\n",
    "X_transformed = preprocessor.fit_transform(X_2)\n",
    "\n",
    "X_train, X_test, y_train, y_test = train_test_split(X_transformed, Y_2, test_size=0.2, random_state=42)\n",
    "\n",
    "clf = DecisionTreeClassifier(criterion='gini', max_depth=5, random_state=42)\n",
    "clf.fit(X_train, y_train)\n",
    "\n",
    "# Test verisiyle tahmin yap\n",
    "y_pred = clf.predict(X_test)\n",
    "\n",
    "# Modelin performansını değerlendir\n",
    "print(\"Accuracy:\", accuracy_score(y_test, y_pred))\n"
   ]
  },
  {
   "cell_type": "markdown",
   "metadata": {},
   "source": [
    "The second decision tree model is created with normalized bet data and its accuracy is also low. I could not make a model to compare implied probabilities by bookmaker and decision tree results but the second decision tree model includes implied probabilites. These results show the implied probabilities by bookmaker are meaningless. "
   ]
  }
 ],
 "metadata": {
  "kernelspec": {
   "display_name": "Python 3",
   "language": "python",
   "name": "python3"
  },
  "language_info": {
   "codemirror_mode": {
    "name": "ipython",
    "version": 3
   },
   "file_extension": ".py",
   "mimetype": "text/x-python",
   "name": "python",
   "nbconvert_exporter": "python",
   "pygments_lexer": "ipython3",
   "version": "3.10.11"
  }
 },
 "nbformat": 4,
 "nbformat_minor": 2
}
