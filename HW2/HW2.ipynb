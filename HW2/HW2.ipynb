{
 "cells": [
  {
   "cell_type": "markdown",
   "metadata": {},
   "source": [
    "## HW2"
   ]
  },
  {
   "cell_type": "markdown",
   "metadata": {},
   "source": [
    "## Data and Library Part"
   ]
  },
  {
   "cell_type": "code",
   "execution_count": 156,
   "metadata": {},
   "outputs": [],
   "source": [
    "import numpy as np\n",
    "import pandas as pd\n",
    "import plotly.graph_objects as go"
   ]
  },
  {
   "cell_type": "code",
   "execution_count": 168,
   "metadata": {},
   "outputs": [],
   "source": [
    "match_data = pd.read_excel(\"match_data.xlsx\")"
   ]
  },
  {
   "cell_type": "code",
   "execution_count": 169,
   "metadata": {},
   "outputs": [
    {
     "data": {
      "text/html": [
       "<div>\n",
       "<style scoped>\n",
       "    .dataframe tbody tr th:only-of-type {\n",
       "        vertical-align: middle;\n",
       "    }\n",
       "\n",
       "    .dataframe tbody tr th {\n",
       "        vertical-align: top;\n",
       "    }\n",
       "\n",
       "    .dataframe thead th {\n",
       "        text-align: right;\n",
       "    }\n",
       "</style>\n",
       "<table border=\"1\" class=\"dataframe\">\n",
       "  <thead>\n",
       "    <tr style=\"text-align: right;\">\n",
       "      <th></th>\n",
       "      <th>fixture_id</th>\n",
       "      <th>halftime</th>\n",
       "      <th>current_time</th>\n",
       "      <th>half_start_datetime</th>\n",
       "      <th>match_start_datetime</th>\n",
       "      <th>minute</th>\n",
       "      <th>second</th>\n",
       "      <th>latest_bookmaker_update</th>\n",
       "      <th>suspended</th>\n",
       "      <th>stopped</th>\n",
       "      <th>...</th>\n",
       "      <th>Throwins - home</th>\n",
       "      <th>Total Crosses - away</th>\n",
       "      <th>Total Crosses - home</th>\n",
       "      <th>Yellowcards - away</th>\n",
       "      <th>Yellowcards - home</th>\n",
       "      <th>Yellowred Cards - away</th>\n",
       "      <th>Yellowred Cards - home</th>\n",
       "      <th>current_state</th>\n",
       "      <th>final_score</th>\n",
       "      <th>result</th>\n",
       "    </tr>\n",
       "  </thead>\n",
       "  <tbody>\n",
       "    <tr>\n",
       "      <th>0</th>\n",
       "      <td>19172016.0</td>\n",
       "      <td>1st-half</td>\n",
       "      <td>2024-08-09 18:11:36</td>\n",
       "      <td>2024-08-09 18:01:37</td>\n",
       "      <td>2024-08-09 18:01:37</td>\n",
       "      <td>9</td>\n",
       "      <td>59</td>\n",
       "      <td>2024-08-09 18:11:28</td>\n",
       "      <td>False</td>\n",
       "      <td>False</td>\n",
       "      <td>...</td>\n",
       "      <td>1.0</td>\n",
       "      <td>0.0</td>\n",
       "      <td>3.0</td>\n",
       "      <td>0.0</td>\n",
       "      <td>0.0</td>\n",
       "      <td>0.0</td>\n",
       "      <td>0.0</td>\n",
       "      <td>X</td>\n",
       "      <td>2-1</td>\n",
       "      <td>1</td>\n",
       "    </tr>\n",
       "    <tr>\n",
       "      <th>1</th>\n",
       "      <td>19172016.0</td>\n",
       "      <td>1st-half</td>\n",
       "      <td>2024-08-09 18:27:30</td>\n",
       "      <td>2024-08-09 18:01:37</td>\n",
       "      <td>2024-08-09 18:01:37</td>\n",
       "      <td>25</td>\n",
       "      <td>53</td>\n",
       "      <td>2024-08-09 18:27:24</td>\n",
       "      <td>False</td>\n",
       "      <td>False</td>\n",
       "      <td>...</td>\n",
       "      <td>11.0</td>\n",
       "      <td>1.0</td>\n",
       "      <td>12.0</td>\n",
       "      <td>0.0</td>\n",
       "      <td>0.0</td>\n",
       "      <td>0.0</td>\n",
       "      <td>0.0</td>\n",
       "      <td>X</td>\n",
       "      <td>2-1</td>\n",
       "      <td>1</td>\n",
       "    </tr>\n",
       "    <tr>\n",
       "      <th>2</th>\n",
       "      <td>19172016.0</td>\n",
       "      <td>1st-half</td>\n",
       "      <td>2024-08-09 18:28:25</td>\n",
       "      <td>2024-08-09 18:01:37</td>\n",
       "      <td>2024-08-09 18:01:37</td>\n",
       "      <td>26</td>\n",
       "      <td>48</td>\n",
       "      <td>2024-08-09 18:28:20</td>\n",
       "      <td>False</td>\n",
       "      <td>False</td>\n",
       "      <td>...</td>\n",
       "      <td>11.0</td>\n",
       "      <td>1.0</td>\n",
       "      <td>13.0</td>\n",
       "      <td>0.0</td>\n",
       "      <td>0.0</td>\n",
       "      <td>0.0</td>\n",
       "      <td>0.0</td>\n",
       "      <td>X</td>\n",
       "      <td>2-1</td>\n",
       "      <td>1</td>\n",
       "    </tr>\n",
       "    <tr>\n",
       "      <th>3</th>\n",
       "      <td>19172016.0</td>\n",
       "      <td>1st-half</td>\n",
       "      <td>2024-08-09 18:29:32</td>\n",
       "      <td>2024-08-09 18:01:37</td>\n",
       "      <td>2024-08-09 18:01:37</td>\n",
       "      <td>27</td>\n",
       "      <td>55</td>\n",
       "      <td>2024-08-09 18:29:28</td>\n",
       "      <td>False</td>\n",
       "      <td>False</td>\n",
       "      <td>...</td>\n",
       "      <td>11.0</td>\n",
       "      <td>1.0</td>\n",
       "      <td>13.0</td>\n",
       "      <td>0.0</td>\n",
       "      <td>0.0</td>\n",
       "      <td>0.0</td>\n",
       "      <td>0.0</td>\n",
       "      <td>X</td>\n",
       "      <td>2-1</td>\n",
       "      <td>1</td>\n",
       "    </tr>\n",
       "    <tr>\n",
       "      <th>4</th>\n",
       "      <td>19172016.0</td>\n",
       "      <td>1st-half</td>\n",
       "      <td>2024-08-09 18:30:37</td>\n",
       "      <td>2024-08-09 18:01:37</td>\n",
       "      <td>2024-08-09 18:01:37</td>\n",
       "      <td>29</td>\n",
       "      <td>0</td>\n",
       "      <td>2024-08-09 18:30:32</td>\n",
       "      <td>True</td>\n",
       "      <td>False</td>\n",
       "      <td>...</td>\n",
       "      <td>11.0</td>\n",
       "      <td>1.0</td>\n",
       "      <td>14.0</td>\n",
       "      <td>0.0</td>\n",
       "      <td>0.0</td>\n",
       "      <td>0.0</td>\n",
       "      <td>0.0</td>\n",
       "      <td>X</td>\n",
       "      <td>2-1</td>\n",
       "      <td>1</td>\n",
       "    </tr>\n",
       "  </tbody>\n",
       "</table>\n",
       "<p>5 rows × 106 columns</p>\n",
       "</div>"
      ],
      "text/plain": [
       "   fixture_id  halftime         current_time  half_start_datetime  \\\n",
       "0  19172016.0  1st-half  2024-08-09 18:11:36  2024-08-09 18:01:37   \n",
       "1  19172016.0  1st-half  2024-08-09 18:27:30  2024-08-09 18:01:37   \n",
       "2  19172016.0  1st-half  2024-08-09 18:28:25  2024-08-09 18:01:37   \n",
       "3  19172016.0  1st-half  2024-08-09 18:29:32  2024-08-09 18:01:37   \n",
       "4  19172016.0  1st-half  2024-08-09 18:30:37  2024-08-09 18:01:37   \n",
       "\n",
       "  match_start_datetime  minute  second latest_bookmaker_update  suspended  \\\n",
       "0  2024-08-09 18:01:37       9      59     2024-08-09 18:11:28      False   \n",
       "1  2024-08-09 18:01:37      25      53     2024-08-09 18:27:24      False   \n",
       "2  2024-08-09 18:01:37      26      48     2024-08-09 18:28:20      False   \n",
       "3  2024-08-09 18:01:37      27      55     2024-08-09 18:29:28      False   \n",
       "4  2024-08-09 18:01:37      29       0     2024-08-09 18:30:32       True   \n",
       "\n",
       "   stopped  ...  Throwins - home  Total Crosses - away  Total Crosses - home  \\\n",
       "0    False  ...              1.0                   0.0                   3.0   \n",
       "1    False  ...             11.0                   1.0                  12.0   \n",
       "2    False  ...             11.0                   1.0                  13.0   \n",
       "3    False  ...             11.0                   1.0                  13.0   \n",
       "4    False  ...             11.0                   1.0                  14.0   \n",
       "\n",
       "  Yellowcards - away  Yellowcards - home  Yellowred Cards - away  \\\n",
       "0                0.0                 0.0                     0.0   \n",
       "1                0.0                 0.0                     0.0   \n",
       "2                0.0                 0.0                     0.0   \n",
       "3                0.0                 0.0                     0.0   \n",
       "4                0.0                 0.0                     0.0   \n",
       "\n",
       "   Yellowred Cards - home  current_state  final_score  result  \n",
       "0                     0.0              X          2-1       1  \n",
       "1                     0.0              X          2-1       1  \n",
       "2                     0.0              X          2-1       1  \n",
       "3                     0.0              X          2-1       1  \n",
       "4                     0.0              X          2-1       1  \n",
       "\n",
       "[5 rows x 106 columns]"
      ]
     },
     "execution_count": 169,
     "metadata": {},
     "output_type": "execute_result"
    }
   ],
   "source": [
    "match_data.head()"
   ]
  },
  {
   "cell_type": "markdown",
   "metadata": {},
   "source": [
    "Suspended and stopped data are eliminated from data and some goal cancels and previous data of these cancels are eliminated because these affect results."
   ]
  },
  {
   "cell_type": "code",
   "execution_count": 180,
   "metadata": {},
   "outputs": [
    {
     "data": {
      "text/html": [
       "<div>\n",
       "<style scoped>\n",
       "    .dataframe tbody tr th:only-of-type {\n",
       "        vertical-align: middle;\n",
       "    }\n",
       "\n",
       "    .dataframe tbody tr th {\n",
       "        vertical-align: top;\n",
       "    }\n",
       "\n",
       "    .dataframe thead th {\n",
       "        text-align: right;\n",
       "    }\n",
       "</style>\n",
       "<table border=\"1\" class=\"dataframe\">\n",
       "  <thead>\n",
       "    <tr style=\"text-align: right;\">\n",
       "      <th></th>\n",
       "      <th>fixture_id</th>\n",
       "      <th>halftime</th>\n",
       "      <th>current_time</th>\n",
       "      <th>half_start_datetime</th>\n",
       "      <th>match_start_datetime</th>\n",
       "      <th>minute</th>\n",
       "      <th>second</th>\n",
       "      <th>latest_bookmaker_update</th>\n",
       "      <th>suspended</th>\n",
       "      <th>stopped</th>\n",
       "      <th>...</th>\n",
       "      <th>Throwins - home</th>\n",
       "      <th>Total Crosses - away</th>\n",
       "      <th>Total Crosses - home</th>\n",
       "      <th>Yellowcards - away</th>\n",
       "      <th>Yellowcards - home</th>\n",
       "      <th>Yellowred Cards - away</th>\n",
       "      <th>Yellowred Cards - home</th>\n",
       "      <th>current_state</th>\n",
       "      <th>final_score</th>\n",
       "      <th>result</th>\n",
       "    </tr>\n",
       "  </thead>\n",
       "  <tbody>\n",
       "    <tr>\n",
       "      <th>0</th>\n",
       "      <td>19172016.0</td>\n",
       "      <td>1st-half</td>\n",
       "      <td>2024-08-09 18:11:36</td>\n",
       "      <td>2024-08-09 18:01:37</td>\n",
       "      <td>2024-08-09 18:01:37</td>\n",
       "      <td>9</td>\n",
       "      <td>59</td>\n",
       "      <td>2024-08-09 18:11:28</td>\n",
       "      <td>False</td>\n",
       "      <td>False</td>\n",
       "      <td>...</td>\n",
       "      <td>1.0</td>\n",
       "      <td>0.0</td>\n",
       "      <td>3.0</td>\n",
       "      <td>0.0</td>\n",
       "      <td>0.0</td>\n",
       "      <td>0.0</td>\n",
       "      <td>0.0</td>\n",
       "      <td>X</td>\n",
       "      <td>2-1</td>\n",
       "      <td>1</td>\n",
       "    </tr>\n",
       "    <tr>\n",
       "      <th>1</th>\n",
       "      <td>19172016.0</td>\n",
       "      <td>1st-half</td>\n",
       "      <td>2024-08-09 18:27:30</td>\n",
       "      <td>2024-08-09 18:01:37</td>\n",
       "      <td>2024-08-09 18:01:37</td>\n",
       "      <td>25</td>\n",
       "      <td>53</td>\n",
       "      <td>2024-08-09 18:27:24</td>\n",
       "      <td>False</td>\n",
       "      <td>False</td>\n",
       "      <td>...</td>\n",
       "      <td>11.0</td>\n",
       "      <td>1.0</td>\n",
       "      <td>12.0</td>\n",
       "      <td>0.0</td>\n",
       "      <td>0.0</td>\n",
       "      <td>0.0</td>\n",
       "      <td>0.0</td>\n",
       "      <td>X</td>\n",
       "      <td>2-1</td>\n",
       "      <td>1</td>\n",
       "    </tr>\n",
       "    <tr>\n",
       "      <th>2</th>\n",
       "      <td>19172016.0</td>\n",
       "      <td>1st-half</td>\n",
       "      <td>2024-08-09 18:28:25</td>\n",
       "      <td>2024-08-09 18:01:37</td>\n",
       "      <td>2024-08-09 18:01:37</td>\n",
       "      <td>26</td>\n",
       "      <td>48</td>\n",
       "      <td>2024-08-09 18:28:20</td>\n",
       "      <td>False</td>\n",
       "      <td>False</td>\n",
       "      <td>...</td>\n",
       "      <td>11.0</td>\n",
       "      <td>1.0</td>\n",
       "      <td>13.0</td>\n",
       "      <td>0.0</td>\n",
       "      <td>0.0</td>\n",
       "      <td>0.0</td>\n",
       "      <td>0.0</td>\n",
       "      <td>X</td>\n",
       "      <td>2-1</td>\n",
       "      <td>1</td>\n",
       "    </tr>\n",
       "    <tr>\n",
       "      <th>3</th>\n",
       "      <td>19172016.0</td>\n",
       "      <td>1st-half</td>\n",
       "      <td>2024-08-09 18:29:32</td>\n",
       "      <td>2024-08-09 18:01:37</td>\n",
       "      <td>2024-08-09 18:01:37</td>\n",
       "      <td>27</td>\n",
       "      <td>55</td>\n",
       "      <td>2024-08-09 18:29:28</td>\n",
       "      <td>False</td>\n",
       "      <td>False</td>\n",
       "      <td>...</td>\n",
       "      <td>11.0</td>\n",
       "      <td>1.0</td>\n",
       "      <td>13.0</td>\n",
       "      <td>0.0</td>\n",
       "      <td>0.0</td>\n",
       "      <td>0.0</td>\n",
       "      <td>0.0</td>\n",
       "      <td>X</td>\n",
       "      <td>2-1</td>\n",
       "      <td>1</td>\n",
       "    </tr>\n",
       "    <tr>\n",
       "      <th>4</th>\n",
       "      <td>19172016.0</td>\n",
       "      <td>1st-half</td>\n",
       "      <td>2024-08-09 18:34:18</td>\n",
       "      <td>2024-08-09 18:01:37</td>\n",
       "      <td>2024-08-09 18:01:37</td>\n",
       "      <td>32</td>\n",
       "      <td>41</td>\n",
       "      <td>2024-08-09 18:34:12</td>\n",
       "      <td>False</td>\n",
       "      <td>False</td>\n",
       "      <td>...</td>\n",
       "      <td>11.0</td>\n",
       "      <td>1.0</td>\n",
       "      <td>14.0</td>\n",
       "      <td>0.0</td>\n",
       "      <td>0.0</td>\n",
       "      <td>0.0</td>\n",
       "      <td>0.0</td>\n",
       "      <td>X</td>\n",
       "      <td>2-1</td>\n",
       "      <td>1</td>\n",
       "    </tr>\n",
       "    <tr>\n",
       "      <th>...</th>\n",
       "      <td>...</td>\n",
       "      <td>...</td>\n",
       "      <td>...</td>\n",
       "      <td>...</td>\n",
       "      <td>...</td>\n",
       "      <td>...</td>\n",
       "      <td>...</td>\n",
       "      <td>...</td>\n",
       "      <td>...</td>\n",
       "      <td>...</td>\n",
       "      <td>...</td>\n",
       "      <td>...</td>\n",
       "      <td>...</td>\n",
       "      <td>...</td>\n",
       "      <td>...</td>\n",
       "      <td>...</td>\n",
       "      <td>...</td>\n",
       "      <td>...</td>\n",
       "      <td>...</td>\n",
       "      <td>...</td>\n",
       "      <td>...</td>\n",
       "    </tr>\n",
       "    <tr>\n",
       "      <th>55371</th>\n",
       "      <td>19135376.0</td>\n",
       "      <td>2nd-half</td>\n",
       "      <td>2024-11-10 21:51:41</td>\n",
       "      <td>2024-11-10 21:06:59</td>\n",
       "      <td>2024-11-10 20:02:05</td>\n",
       "      <td>44</td>\n",
       "      <td>42</td>\n",
       "      <td>2024-11-10 21:51:37</td>\n",
       "      <td>False</td>\n",
       "      <td>False</td>\n",
       "      <td>...</td>\n",
       "      <td>0.0</td>\n",
       "      <td>19.0</td>\n",
       "      <td>10.0</td>\n",
       "      <td>1.0</td>\n",
       "      <td>3.0</td>\n",
       "      <td>0.0</td>\n",
       "      <td>0.0</td>\n",
       "      <td>1</td>\n",
       "      <td>1-0</td>\n",
       "      <td>1</td>\n",
       "    </tr>\n",
       "    <tr>\n",
       "      <th>55372</th>\n",
       "      <td>19135376.0</td>\n",
       "      <td>2nd-half</td>\n",
       "      <td>2024-11-10 21:52:41</td>\n",
       "      <td>2024-11-10 21:06:59</td>\n",
       "      <td>2024-11-10 20:02:05</td>\n",
       "      <td>45</td>\n",
       "      <td>42</td>\n",
       "      <td>2024-11-10 21:52:37</td>\n",
       "      <td>False</td>\n",
       "      <td>False</td>\n",
       "      <td>...</td>\n",
       "      <td>0.0</td>\n",
       "      <td>19.0</td>\n",
       "      <td>10.0</td>\n",
       "      <td>1.0</td>\n",
       "      <td>3.0</td>\n",
       "      <td>0.0</td>\n",
       "      <td>0.0</td>\n",
       "      <td>1</td>\n",
       "      <td>1-0</td>\n",
       "      <td>1</td>\n",
       "    </tr>\n",
       "    <tr>\n",
       "      <th>55373</th>\n",
       "      <td>19135376.0</td>\n",
       "      <td>2nd-half</td>\n",
       "      <td>2024-11-10 21:53:41</td>\n",
       "      <td>2024-11-10 21:06:59</td>\n",
       "      <td>2024-11-10 20:02:05</td>\n",
       "      <td>46</td>\n",
       "      <td>42</td>\n",
       "      <td>2024-11-10 21:53:35</td>\n",
       "      <td>False</td>\n",
       "      <td>False</td>\n",
       "      <td>...</td>\n",
       "      <td>0.0</td>\n",
       "      <td>19.0</td>\n",
       "      <td>10.0</td>\n",
       "      <td>1.0</td>\n",
       "      <td>3.0</td>\n",
       "      <td>0.0</td>\n",
       "      <td>0.0</td>\n",
       "      <td>1</td>\n",
       "      <td>1-0</td>\n",
       "      <td>1</td>\n",
       "    </tr>\n",
       "    <tr>\n",
       "      <th>55374</th>\n",
       "      <td>19135376.0</td>\n",
       "      <td>2nd-half</td>\n",
       "      <td>2024-11-10 21:54:41</td>\n",
       "      <td>2024-11-10 21:06:59</td>\n",
       "      <td>2024-11-10 20:02:05</td>\n",
       "      <td>47</td>\n",
       "      <td>42</td>\n",
       "      <td>2024-11-10 21:54:36</td>\n",
       "      <td>False</td>\n",
       "      <td>False</td>\n",
       "      <td>...</td>\n",
       "      <td>0.0</td>\n",
       "      <td>19.0</td>\n",
       "      <td>10.0</td>\n",
       "      <td>1.0</td>\n",
       "      <td>3.0</td>\n",
       "      <td>0.0</td>\n",
       "      <td>0.0</td>\n",
       "      <td>1</td>\n",
       "      <td>1-0</td>\n",
       "      <td>1</td>\n",
       "    </tr>\n",
       "    <tr>\n",
       "      <th>55375</th>\n",
       "      <td>19135376.0</td>\n",
       "      <td>2nd-half</td>\n",
       "      <td>2024-11-10 21:55:41</td>\n",
       "      <td>2024-11-10 21:06:59</td>\n",
       "      <td>2024-11-10 20:02:05</td>\n",
       "      <td>48</td>\n",
       "      <td>42</td>\n",
       "      <td>2024-11-10 21:55:36</td>\n",
       "      <td>False</td>\n",
       "      <td>False</td>\n",
       "      <td>...</td>\n",
       "      <td>0.0</td>\n",
       "      <td>21.0</td>\n",
       "      <td>10.0</td>\n",
       "      <td>1.0</td>\n",
       "      <td>3.0</td>\n",
       "      <td>0.0</td>\n",
       "      <td>0.0</td>\n",
       "      <td>1</td>\n",
       "      <td>1-0</td>\n",
       "      <td>1</td>\n",
       "    </tr>\n",
       "  </tbody>\n",
       "</table>\n",
       "<p>55376 rows × 106 columns</p>\n",
       "</div>"
      ],
      "text/plain": [
       "       fixture_id  halftime         current_time  half_start_datetime  \\\n",
       "0      19172016.0  1st-half  2024-08-09 18:11:36  2024-08-09 18:01:37   \n",
       "1      19172016.0  1st-half  2024-08-09 18:27:30  2024-08-09 18:01:37   \n",
       "2      19172016.0  1st-half  2024-08-09 18:28:25  2024-08-09 18:01:37   \n",
       "3      19172016.0  1st-half  2024-08-09 18:29:32  2024-08-09 18:01:37   \n",
       "4      19172016.0  1st-half  2024-08-09 18:34:18  2024-08-09 18:01:37   \n",
       "...           ...       ...                  ...                  ...   \n",
       "55371  19135376.0  2nd-half  2024-11-10 21:51:41  2024-11-10 21:06:59   \n",
       "55372  19135376.0  2nd-half  2024-11-10 21:52:41  2024-11-10 21:06:59   \n",
       "55373  19135376.0  2nd-half  2024-11-10 21:53:41  2024-11-10 21:06:59   \n",
       "55374  19135376.0  2nd-half  2024-11-10 21:54:41  2024-11-10 21:06:59   \n",
       "55375  19135376.0  2nd-half  2024-11-10 21:55:41  2024-11-10 21:06:59   \n",
       "\n",
       "      match_start_datetime  minute  second latest_bookmaker_update  suspended  \\\n",
       "0      2024-08-09 18:01:37       9      59     2024-08-09 18:11:28      False   \n",
       "1      2024-08-09 18:01:37      25      53     2024-08-09 18:27:24      False   \n",
       "2      2024-08-09 18:01:37      26      48     2024-08-09 18:28:20      False   \n",
       "3      2024-08-09 18:01:37      27      55     2024-08-09 18:29:28      False   \n",
       "4      2024-08-09 18:01:37      32      41     2024-08-09 18:34:12      False   \n",
       "...                    ...     ...     ...                     ...        ...   \n",
       "55371  2024-11-10 20:02:05      44      42     2024-11-10 21:51:37      False   \n",
       "55372  2024-11-10 20:02:05      45      42     2024-11-10 21:52:37      False   \n",
       "55373  2024-11-10 20:02:05      46      42     2024-11-10 21:53:35      False   \n",
       "55374  2024-11-10 20:02:05      47      42     2024-11-10 21:54:36      False   \n",
       "55375  2024-11-10 20:02:05      48      42     2024-11-10 21:55:36      False   \n",
       "\n",
       "       stopped  ...  Throwins - home  Total Crosses - away  \\\n",
       "0        False  ...              1.0                   0.0   \n",
       "1        False  ...             11.0                   1.0   \n",
       "2        False  ...             11.0                   1.0   \n",
       "3        False  ...             11.0                   1.0   \n",
       "4        False  ...             11.0                   1.0   \n",
       "...        ...  ...              ...                   ...   \n",
       "55371    False  ...              0.0                  19.0   \n",
       "55372    False  ...              0.0                  19.0   \n",
       "55373    False  ...              0.0                  19.0   \n",
       "55374    False  ...              0.0                  19.0   \n",
       "55375    False  ...              0.0                  21.0   \n",
       "\n",
       "       Total Crosses - home Yellowcards - away  Yellowcards - home  \\\n",
       "0                       3.0                0.0                 0.0   \n",
       "1                      12.0                0.0                 0.0   \n",
       "2                      13.0                0.0                 0.0   \n",
       "3                      13.0                0.0                 0.0   \n",
       "4                      14.0                0.0                 0.0   \n",
       "...                     ...                ...                 ...   \n",
       "55371                  10.0                1.0                 3.0   \n",
       "55372                  10.0                1.0                 3.0   \n",
       "55373                  10.0                1.0                 3.0   \n",
       "55374                  10.0                1.0                 3.0   \n",
       "55375                  10.0                1.0                 3.0   \n",
       "\n",
       "       Yellowred Cards - away  Yellowred Cards - home  current_state  \\\n",
       "0                         0.0                     0.0              X   \n",
       "1                         0.0                     0.0              X   \n",
       "2                         0.0                     0.0              X   \n",
       "3                         0.0                     0.0              X   \n",
       "4                         0.0                     0.0              X   \n",
       "...                       ...                     ...            ...   \n",
       "55371                     0.0                     0.0              1   \n",
       "55372                     0.0                     0.0              1   \n",
       "55373                     0.0                     0.0              1   \n",
       "55374                     0.0                     0.0              1   \n",
       "55375                     0.0                     0.0              1   \n",
       "\n",
       "       final_score  result  \n",
       "0              2-1       1  \n",
       "1              2-1       1  \n",
       "2              2-1       1  \n",
       "3              2-1       1  \n",
       "4              2-1       1  \n",
       "...            ...     ...  \n",
       "55371          1-0       1  \n",
       "55372          1-0       1  \n",
       "55373          1-0       1  \n",
       "55374          1-0       1  \n",
       "55375          1-0       1  \n",
       "\n",
       "[55376 rows x 106 columns]"
      ]
     },
     "execution_count": 180,
     "metadata": {},
     "output_type": "execute_result"
    }
   ],
   "source": [
    "match_data = match_data[~(match_data['suspended'] | match_data['stopped'])]\n",
    "match_data.reset_index(inplace=True, drop= True)\n",
    "indices = match_data.index[(match_data['Score Change - away'] == -1) | (match_data['Score Change - home'] == -1)]\n",
    "rows_to_drop = set(indices) | set(indices - 1)\n",
    "rows_to_drop = [i for i in rows_to_drop if i >= 0]\n",
    "match_data = match_data.drop(index=rows_to_drop)\n",
    "match_data.reset_index(inplace=True, drop= True)\n",
    "match_data"
   ]
  },
  {
   "cell_type": "markdown",
   "metadata": {},
   "source": [
    "If there are two data for the same minute and second, the last one is dropped."
   ]
  },
  {
   "cell_type": "code",
   "execution_count": 174,
   "metadata": {},
   "outputs": [],
   "source": [
    "match_data = match_data.drop_duplicates(subset=['fixture_id', 'minute', 'second'], keep='last')"
   ]
  },
  {
   "cell_type": "markdown",
   "metadata": {},
   "source": [
    "Checked whether any missing value in results and odd columns"
   ]
  },
  {
   "cell_type": "code",
   "execution_count": 175,
   "metadata": {},
   "outputs": [
    {
     "name": "stdout",
     "output_type": "stream",
     "text": [
      "There is no missing value in bet columns\n"
     ]
    },
    {
     "name": "stderr",
     "output_type": "stream",
     "text": [
      "C:\\Users\\Yusuf\\AppData\\Local\\Temp\\ipykernel_4304\\535838494.py:1: SettingWithCopyWarning:\n",
      "\n",
      "\n",
      "A value is trying to be set on a copy of a slice from a DataFrame\n",
      "\n",
      "See the caveats in the documentation: https://pandas.pydata.org/pandas-docs/stable/user_guide/indexing.html#returning-a-view-versus-a-copy\n",
      "\n"
     ]
    }
   ],
   "source": [
    "match_data.rename(columns={1:'1', 2:'2'}, inplace=True)\n",
    "task1_df = match_data[['fixture_id','halftime', '1','2','X','result']]\n",
    "task1_df_na = task1_df.dropna()\n",
    "if len(task1_df_na) == len(task1_df):\n",
    "    print('There is no missing value in bet columns')"
   ]
  },
  {
   "cell_type": "markdown",
   "metadata": {},
   "source": [
    "## TASK-1"
   ]
  },
  {
   "cell_type": "markdown",
   "metadata": {},
   "source": [
    "### Formula for normalization of probabilities\n",
    "![alt text](image.png)"
   ]
  },
  {
   "cell_type": "markdown",
   "metadata": {},
   "source": [
    "### Comparing Historical Results and Assigned Probabilities by Bookmaker of Draw Matches "
   ]
  },
  {
   "cell_type": "code",
   "execution_count": 179,
   "metadata": {},
   "outputs": [
    {
     "data": {
      "text/html": [
       "<div>\n",
       "<style scoped>\n",
       "    .dataframe tbody tr th:only-of-type {\n",
       "        vertical-align: middle;\n",
       "    }\n",
       "\n",
       "    .dataframe tbody tr th {\n",
       "        vertical-align: top;\n",
       "    }\n",
       "\n",
       "    .dataframe thead th {\n",
       "        text-align: right;\n",
       "    }\n",
       "</style>\n",
       "<table border=\"1\" class=\"dataframe\">\n",
       "  <thead>\n",
       "    <tr style=\"text-align: right;\">\n",
       "      <th></th>\n",
       "      <th>fixture_id</th>\n",
       "      <th>halftime</th>\n",
       "      <th>minute</th>\n",
       "      <th>second</th>\n",
       "      <th>1</th>\n",
       "      <th>2</th>\n",
       "      <th>X</th>\n",
       "      <th>result</th>\n",
       "      <th>P_home</th>\n",
       "      <th>P_draw</th>\n",
       "      <th>P_away</th>\n",
       "      <th>P_sum</th>\n",
       "      <th>normalized_P_home</th>\n",
       "      <th>normalized_P_draw</th>\n",
       "      <th>normalized_P_away</th>\n",
       "      <th>normalized_P_home-normalized_P_away</th>\n",
       "    </tr>\n",
       "  </thead>\n",
       "  <tbody>\n",
       "    <tr>\n",
       "      <th>0</th>\n",
       "      <td>19172016.0</td>\n",
       "      <td>1st-half</td>\n",
       "      <td>9</td>\n",
       "      <td>59</td>\n",
       "      <td>1.22</td>\n",
       "      <td>10.0</td>\n",
       "      <td>6.5</td>\n",
       "      <td>1</td>\n",
       "      <td>0.819672</td>\n",
       "      <td>0.153846</td>\n",
       "      <td>0.100000</td>\n",
       "      <td>1.073518</td>\n",
       "      <td>0.763538</td>\n",
       "      <td>0.143310</td>\n",
       "      <td>0.093152</td>\n",
       "      <td>0.670386</td>\n",
       "    </tr>\n",
       "    <tr>\n",
       "      <th>1</th>\n",
       "      <td>19172016.0</td>\n",
       "      <td>1st-half</td>\n",
       "      <td>25</td>\n",
       "      <td>53</td>\n",
       "      <td>1.20</td>\n",
       "      <td>13.0</td>\n",
       "      <td>6.0</td>\n",
       "      <td>1</td>\n",
       "      <td>0.833333</td>\n",
       "      <td>0.166667</td>\n",
       "      <td>0.076923</td>\n",
       "      <td>1.076923</td>\n",
       "      <td>0.773810</td>\n",
       "      <td>0.154762</td>\n",
       "      <td>0.071429</td>\n",
       "      <td>0.702381</td>\n",
       "    </tr>\n",
       "    <tr>\n",
       "      <th>2</th>\n",
       "      <td>19172016.0</td>\n",
       "      <td>1st-half</td>\n",
       "      <td>26</td>\n",
       "      <td>48</td>\n",
       "      <td>1.20</td>\n",
       "      <td>13.0</td>\n",
       "      <td>6.0</td>\n",
       "      <td>1</td>\n",
       "      <td>0.833333</td>\n",
       "      <td>0.166667</td>\n",
       "      <td>0.076923</td>\n",
       "      <td>1.076923</td>\n",
       "      <td>0.773810</td>\n",
       "      <td>0.154762</td>\n",
       "      <td>0.071429</td>\n",
       "      <td>0.702381</td>\n",
       "    </tr>\n",
       "    <tr>\n",
       "      <th>3</th>\n",
       "      <td>19172016.0</td>\n",
       "      <td>1st-half</td>\n",
       "      <td>27</td>\n",
       "      <td>55</td>\n",
       "      <td>1.20</td>\n",
       "      <td>13.0</td>\n",
       "      <td>6.0</td>\n",
       "      <td>1</td>\n",
       "      <td>0.833333</td>\n",
       "      <td>0.166667</td>\n",
       "      <td>0.076923</td>\n",
       "      <td>1.076923</td>\n",
       "      <td>0.773810</td>\n",
       "      <td>0.154762</td>\n",
       "      <td>0.071429</td>\n",
       "      <td>0.702381</td>\n",
       "    </tr>\n",
       "    <tr>\n",
       "      <th>4</th>\n",
       "      <td>19172016.0</td>\n",
       "      <td>1st-half</td>\n",
       "      <td>32</td>\n",
       "      <td>41</td>\n",
       "      <td>1.20</td>\n",
       "      <td>15.0</td>\n",
       "      <td>6.0</td>\n",
       "      <td>1</td>\n",
       "      <td>0.833333</td>\n",
       "      <td>0.166667</td>\n",
       "      <td>0.066667</td>\n",
       "      <td>1.066667</td>\n",
       "      <td>0.781250</td>\n",
       "      <td>0.156250</td>\n",
       "      <td>0.062500</td>\n",
       "      <td>0.718750</td>\n",
       "    </tr>\n",
       "    <tr>\n",
       "      <th>...</th>\n",
       "      <td>...</td>\n",
       "      <td>...</td>\n",
       "      <td>...</td>\n",
       "      <td>...</td>\n",
       "      <td>...</td>\n",
       "      <td>...</td>\n",
       "      <td>...</td>\n",
       "      <td>...</td>\n",
       "      <td>...</td>\n",
       "      <td>...</td>\n",
       "      <td>...</td>\n",
       "      <td>...</td>\n",
       "      <td>...</td>\n",
       "      <td>...</td>\n",
       "      <td>...</td>\n",
       "      <td>...</td>\n",
       "    </tr>\n",
       "    <tr>\n",
       "      <th>55838</th>\n",
       "      <td>19135376.0</td>\n",
       "      <td>2nd-half</td>\n",
       "      <td>44</td>\n",
       "      <td>42</td>\n",
       "      <td>1.08</td>\n",
       "      <td>126.0</td>\n",
       "      <td>7.5</td>\n",
       "      <td>1</td>\n",
       "      <td>0.925926</td>\n",
       "      <td>0.133333</td>\n",
       "      <td>0.007937</td>\n",
       "      <td>1.067196</td>\n",
       "      <td>0.867625</td>\n",
       "      <td>0.124938</td>\n",
       "      <td>0.007437</td>\n",
       "      <td>0.860188</td>\n",
       "    </tr>\n",
       "    <tr>\n",
       "      <th>55839</th>\n",
       "      <td>19135376.0</td>\n",
       "      <td>2nd-half</td>\n",
       "      <td>45</td>\n",
       "      <td>42</td>\n",
       "      <td>1.05</td>\n",
       "      <td>251.0</td>\n",
       "      <td>11.0</td>\n",
       "      <td>1</td>\n",
       "      <td>0.952381</td>\n",
       "      <td>0.090909</td>\n",
       "      <td>0.003984</td>\n",
       "      <td>1.047274</td>\n",
       "      <td>0.909390</td>\n",
       "      <td>0.086805</td>\n",
       "      <td>0.003804</td>\n",
       "      <td>0.905586</td>\n",
       "    </tr>\n",
       "    <tr>\n",
       "      <th>55840</th>\n",
       "      <td>19135376.0</td>\n",
       "      <td>2nd-half</td>\n",
       "      <td>46</td>\n",
       "      <td>42</td>\n",
       "      <td>1.05</td>\n",
       "      <td>201.0</td>\n",
       "      <td>11.0</td>\n",
       "      <td>1</td>\n",
       "      <td>0.952381</td>\n",
       "      <td>0.090909</td>\n",
       "      <td>0.004975</td>\n",
       "      <td>1.048265</td>\n",
       "      <td>0.908531</td>\n",
       "      <td>0.086723</td>\n",
       "      <td>0.004746</td>\n",
       "      <td>0.903785</td>\n",
       "    </tr>\n",
       "    <tr>\n",
       "      <th>55841</th>\n",
       "      <td>19135376.0</td>\n",
       "      <td>2nd-half</td>\n",
       "      <td>47</td>\n",
       "      <td>42</td>\n",
       "      <td>1.04</td>\n",
       "      <td>351.0</td>\n",
       "      <td>13.0</td>\n",
       "      <td>1</td>\n",
       "      <td>0.961538</td>\n",
       "      <td>0.076923</td>\n",
       "      <td>0.002849</td>\n",
       "      <td>1.041311</td>\n",
       "      <td>0.923393</td>\n",
       "      <td>0.073871</td>\n",
       "      <td>0.002736</td>\n",
       "      <td>0.920657</td>\n",
       "    </tr>\n",
       "    <tr>\n",
       "      <th>55842</th>\n",
       "      <td>19135376.0</td>\n",
       "      <td>2nd-half</td>\n",
       "      <td>48</td>\n",
       "      <td>42</td>\n",
       "      <td>1.02</td>\n",
       "      <td>501.0</td>\n",
       "      <td>17.0</td>\n",
       "      <td>1</td>\n",
       "      <td>0.980392</td>\n",
       "      <td>0.058824</td>\n",
       "      <td>0.001996</td>\n",
       "      <td>1.041212</td>\n",
       "      <td>0.941588</td>\n",
       "      <td>0.056495</td>\n",
       "      <td>0.001917</td>\n",
       "      <td>0.939671</td>\n",
       "    </tr>\n",
       "  </tbody>\n",
       "</table>\n",
       "<p>55376 rows × 16 columns</p>\n",
       "</div>"
      ],
      "text/plain": [
       "       fixture_id  halftime  minute  second     1      2     X result  \\\n",
       "0      19172016.0  1st-half       9      59  1.22   10.0   6.5      1   \n",
       "1      19172016.0  1st-half      25      53  1.20   13.0   6.0      1   \n",
       "2      19172016.0  1st-half      26      48  1.20   13.0   6.0      1   \n",
       "3      19172016.0  1st-half      27      55  1.20   13.0   6.0      1   \n",
       "4      19172016.0  1st-half      32      41  1.20   15.0   6.0      1   \n",
       "...           ...       ...     ...     ...   ...    ...   ...    ...   \n",
       "55838  19135376.0  2nd-half      44      42  1.08  126.0   7.5      1   \n",
       "55839  19135376.0  2nd-half      45      42  1.05  251.0  11.0      1   \n",
       "55840  19135376.0  2nd-half      46      42  1.05  201.0  11.0      1   \n",
       "55841  19135376.0  2nd-half      47      42  1.04  351.0  13.0      1   \n",
       "55842  19135376.0  2nd-half      48      42  1.02  501.0  17.0      1   \n",
       "\n",
       "         P_home    P_draw    P_away     P_sum  normalized_P_home  \\\n",
       "0      0.819672  0.153846  0.100000  1.073518           0.763538   \n",
       "1      0.833333  0.166667  0.076923  1.076923           0.773810   \n",
       "2      0.833333  0.166667  0.076923  1.076923           0.773810   \n",
       "3      0.833333  0.166667  0.076923  1.076923           0.773810   \n",
       "4      0.833333  0.166667  0.066667  1.066667           0.781250   \n",
       "...         ...       ...       ...       ...                ...   \n",
       "55838  0.925926  0.133333  0.007937  1.067196           0.867625   \n",
       "55839  0.952381  0.090909  0.003984  1.047274           0.909390   \n",
       "55840  0.952381  0.090909  0.004975  1.048265           0.908531   \n",
       "55841  0.961538  0.076923  0.002849  1.041311           0.923393   \n",
       "55842  0.980392  0.058824  0.001996  1.041212           0.941588   \n",
       "\n",
       "       normalized_P_draw  normalized_P_away  \\\n",
       "0               0.143310           0.093152   \n",
       "1               0.154762           0.071429   \n",
       "2               0.154762           0.071429   \n",
       "3               0.154762           0.071429   \n",
       "4               0.156250           0.062500   \n",
       "...                  ...                ...   \n",
       "55838           0.124938           0.007437   \n",
       "55839           0.086805           0.003804   \n",
       "55840           0.086723           0.004746   \n",
       "55841           0.073871           0.002736   \n",
       "55842           0.056495           0.001917   \n",
       "\n",
       "       normalized_P_home-normalized_P_away  \n",
       "0                                 0.670386  \n",
       "1                                 0.702381  \n",
       "2                                 0.702381  \n",
       "3                                 0.702381  \n",
       "4                                 0.718750  \n",
       "...                                    ...  \n",
       "55838                             0.860188  \n",
       "55839                             0.905586  \n",
       "55840                             0.903785  \n",
       "55841                             0.920657  \n",
       "55842                             0.939671  \n",
       "\n",
       "[55376 rows x 16 columns]"
      ]
     },
     "execution_count": 179,
     "metadata": {},
     "output_type": "execute_result"
    }
   ],
   "source": [
    "def task1(data):    \n",
    "    data = data[['fixture_id','halftime', 'minute', 'second','1','2','X','result']]\n",
    "    data = data.copy()\n",
    "    data['P_home'] = 1 / data['1']\n",
    "    data['P_draw'] = 1 / data['X']\n",
    "    data['P_away'] = 1 / data['2']\n",
    "\n",
    "    data['P_sum'] = data['P_home'] + data['P_draw'] + data['P_away']\n",
    "    data['normalized_P_home'] = data['P_home'] / data['P_sum']\n",
    "    data['normalized_P_draw'] = data['P_draw'] / data['P_sum']\n",
    "    data['normalized_P_away'] = data['P_away'] / data['P_sum']\n",
    "\n",
    "    data['normalized_P_home-normalized_P_away'] = data['normalized_P_home'] - data['normalized_P_away']\n",
    "    return data\n",
    "\n",
    "task1_df = task1(match_data)\n",
    "task1_df"
   ]
  },
  {
   "cell_type": "markdown",
   "metadata": {},
   "source": [
    "In this part the difference between probability of home win and probability of away win is obtained, then the probalities divided to bins with 0.1 difference. The mean of draw probabilities assigned by bookmaker in these bins are obtained and compared to actual ratio of the match is resulted with draw. "
   ]
  },
  {
   "cell_type": "code",
   "execution_count": 177,
   "metadata": {},
   "outputs": [],
   "source": [
    "def bins_function(data):\n",
    "    bins_and_probs_first_half = {'bin_average': [],\n",
    "            'avrg_pr_draw_bm': [],\n",
    "            'actual_draw_pr': []\n",
    "            }\n",
    "\n",
    "    bins_and_probs_second_half = {'bin_average': [],\n",
    "            'avrg_pr_draw_bm': [],\n",
    "            'actual_draw_pr': []\n",
    "            }\n",
    "\n",
    "    bins = np.linspace(-1, 1, 21)\n",
    "\n",
    "    for i in range(len(bins[:-1])):\n",
    "        lower_bound = bins[i]\n",
    "        upper_bound = bins[i+1]\n",
    "        bin_average = (lower_bound+upper_bound)/2\n",
    "\n",
    "        #first_half_data\n",
    "        filtered_df_for_first_half = data[(data['normalized_P_home-normalized_P_away'] >= lower_bound) & (data['normalized_P_home-normalized_P_away'] < upper_bound) & (data['halftime']=='1st-half')]\n",
    "        \n",
    "        count_result_draw = (filtered_df_for_first_half['result'] == 'X').sum()\n",
    "        total_rows = len(filtered_df_for_first_half)\n",
    "        average_bookmaker_prob_draw = filtered_df_for_first_half['normalized_P_draw'].mean()\n",
    "        actual_draw_ratio = count_result_draw / total_rows\n",
    "        \n",
    "        bins_and_probs_first_half['bin_average'].append(bin_average)\n",
    "        bins_and_probs_first_half['actual_draw_pr'].append(actual_draw_ratio)\n",
    "        bins_and_probs_first_half['avrg_pr_draw_bm'].append(average_bookmaker_prob_draw)\n",
    "\n",
    "        #second_half_data\n",
    "        filtered_df_for_second_half = data[(data['normalized_P_home-normalized_P_away'] >= lower_bound) & (data['normalized_P_home-normalized_P_away'] < upper_bound) & (data['halftime']=='2nd-half')]\n",
    "        \n",
    "        count_result_draw_2 = (filtered_df_for_second_half['result'] == 'X').sum()\n",
    "        total_rows_2 = len(filtered_df_for_second_half)\n",
    "        average_bookmaker_prob_draw_2 = filtered_df_for_second_half['normalized_P_draw'].mean()\n",
    "        actual_draw_ratio_2 = count_result_draw_2 / total_rows_2\n",
    "\n",
    "        bins_and_probs_second_half['bin_average'].append(bin_average)\n",
    "        bins_and_probs_second_half['actual_draw_pr'].append(actual_draw_ratio_2)\n",
    "        bins_and_probs_second_half['avrg_pr_draw_bm'].append(average_bookmaker_prob_draw_2)\n",
    "            \n",
    "    first_half = pd.DataFrame(bins_and_probs_first_half)\n",
    "    second_half = pd.DataFrame(bins_and_probs_second_half)\n",
    "\n",
    "    return first_half, second_half\n",
    "plotdf1, plotdf2 = bins_function(task1_df)"
   ]
  },
  {
   "cell_type": "code",
   "execution_count": null,
   "metadata": {},
   "outputs": [
    {
     "data": {
      "application/vnd.plotly.v1+json": {
       "config": {
        "plotlyServerURL": "https://plot.ly"
       },
       "data": [
        {
         "marker": {
          "color": "red"
         },
         "mode": "markers",
         "name": "Average Probabilities for Each Bin",
         "type": "scatter",
         "x": [
          -0.95,
          -0.8500000000000001,
          -0.75,
          -0.6499999999999999,
          -0.55,
          -0.44999999999999996,
          -0.3499999999999999,
          -0.24999999999999994,
          -0.14999999999999997,
          -0.04999999999999999,
          0.050000000000000044,
          0.15000000000000013,
          0.2500000000000001,
          0.3500000000000001,
          0.45000000000000007,
          0.55,
          0.6500000000000001,
          0.7500000000000001,
          0.8500000000000001,
          0.9500000000000001
         ],
         "y": [
          0.035505572210274346,
          0.08538144285317512,
          0.13700088557554257,
          0.18344740388943548,
          0.21529800725441842,
          0.2493152894329278,
          0.27110265527326094,
          0.28798204410418177,
          0.30565285785742,
          0.3144578081878874,
          0.3208438565217983,
          0.3136360702640992,
          0.2985901837752191,
          0.272693392723566,
          0.24733138805891755,
          0.21872024296653347,
          0.1815340155221215,
          0.13813013457035453,
          0.08553856294522381,
          0.035974252534679105
         ]
        },
        {
         "marker": {
          "color": "green"
         },
         "mode": "markers",
         "name": "Historical Probabilities for Each Bin",
         "type": "scatter",
         "x": [
          -0.95,
          -0.8500000000000001,
          -0.75,
          -0.6499999999999999,
          -0.55,
          -0.44999999999999996,
          -0.3499999999999999,
          -0.24999999999999994,
          -0.14999999999999997,
          -0.04999999999999999,
          0.050000000000000044,
          0.15000000000000013,
          0.2500000000000001,
          0.3500000000000001,
          0.45000000000000007,
          0.55,
          0.6500000000000001,
          0.7500000000000001,
          0.8500000000000001,
          0.9500000000000001
         ],
         "y": [
          0,
          0.08874458874458875,
          0.0943089430894309,
          0.2132564841498559,
          0.13838748495788206,
          0.3269230769230769,
          0.250187265917603,
          0.30213270142180093,
          0.28730082085948816,
          0.2727272727272727,
          0.3278443113772455,
          0.4035206499661476,
          0.3443204868154158,
          0.32388274867851996,
          0.2946859903381642,
          0.178168130489335,
          0.15492957746478872,
          0.10680272108843537,
          0.05315315315315315,
          0.10995850622406639
         ]
        }
       ],
       "layout": {
        "height": 600,
        "template": {
         "data": {
          "bar": [
           {
            "error_x": {
             "color": "#2a3f5f"
            },
            "error_y": {
             "color": "#2a3f5f"
            },
            "marker": {
             "line": {
              "color": "#E5ECF6",
              "width": 0.5
             },
             "pattern": {
              "fillmode": "overlay",
              "size": 10,
              "solidity": 0.2
             }
            },
            "type": "bar"
           }
          ],
          "barpolar": [
           {
            "marker": {
             "line": {
              "color": "#E5ECF6",
              "width": 0.5
             },
             "pattern": {
              "fillmode": "overlay",
              "size": 10,
              "solidity": 0.2
             }
            },
            "type": "barpolar"
           }
          ],
          "carpet": [
           {
            "aaxis": {
             "endlinecolor": "#2a3f5f",
             "gridcolor": "white",
             "linecolor": "white",
             "minorgridcolor": "white",
             "startlinecolor": "#2a3f5f"
            },
            "baxis": {
             "endlinecolor": "#2a3f5f",
             "gridcolor": "white",
             "linecolor": "white",
             "minorgridcolor": "white",
             "startlinecolor": "#2a3f5f"
            },
            "type": "carpet"
           }
          ],
          "choropleth": [
           {
            "colorbar": {
             "outlinewidth": 0,
             "ticks": ""
            },
            "type": "choropleth"
           }
          ],
          "contour": [
           {
            "colorbar": {
             "outlinewidth": 0,
             "ticks": ""
            },
            "colorscale": [
             [
              0,
              "#0d0887"
             ],
             [
              0.1111111111111111,
              "#46039f"
             ],
             [
              0.2222222222222222,
              "#7201a8"
             ],
             [
              0.3333333333333333,
              "#9c179e"
             ],
             [
              0.4444444444444444,
              "#bd3786"
             ],
             [
              0.5555555555555556,
              "#d8576b"
             ],
             [
              0.6666666666666666,
              "#ed7953"
             ],
             [
              0.7777777777777778,
              "#fb9f3a"
             ],
             [
              0.8888888888888888,
              "#fdca26"
             ],
             [
              1,
              "#f0f921"
             ]
            ],
            "type": "contour"
           }
          ],
          "contourcarpet": [
           {
            "colorbar": {
             "outlinewidth": 0,
             "ticks": ""
            },
            "type": "contourcarpet"
           }
          ],
          "heatmap": [
           {
            "colorbar": {
             "outlinewidth": 0,
             "ticks": ""
            },
            "colorscale": [
             [
              0,
              "#0d0887"
             ],
             [
              0.1111111111111111,
              "#46039f"
             ],
             [
              0.2222222222222222,
              "#7201a8"
             ],
             [
              0.3333333333333333,
              "#9c179e"
             ],
             [
              0.4444444444444444,
              "#bd3786"
             ],
             [
              0.5555555555555556,
              "#d8576b"
             ],
             [
              0.6666666666666666,
              "#ed7953"
             ],
             [
              0.7777777777777778,
              "#fb9f3a"
             ],
             [
              0.8888888888888888,
              "#fdca26"
             ],
             [
              1,
              "#f0f921"
             ]
            ],
            "type": "heatmap"
           }
          ],
          "heatmapgl": [
           {
            "colorbar": {
             "outlinewidth": 0,
             "ticks": ""
            },
            "colorscale": [
             [
              0,
              "#0d0887"
             ],
             [
              0.1111111111111111,
              "#46039f"
             ],
             [
              0.2222222222222222,
              "#7201a8"
             ],
             [
              0.3333333333333333,
              "#9c179e"
             ],
             [
              0.4444444444444444,
              "#bd3786"
             ],
             [
              0.5555555555555556,
              "#d8576b"
             ],
             [
              0.6666666666666666,
              "#ed7953"
             ],
             [
              0.7777777777777778,
              "#fb9f3a"
             ],
             [
              0.8888888888888888,
              "#fdca26"
             ],
             [
              1,
              "#f0f921"
             ]
            ],
            "type": "heatmapgl"
           }
          ],
          "histogram": [
           {
            "marker": {
             "pattern": {
              "fillmode": "overlay",
              "size": 10,
              "solidity": 0.2
             }
            },
            "type": "histogram"
           }
          ],
          "histogram2d": [
           {
            "colorbar": {
             "outlinewidth": 0,
             "ticks": ""
            },
            "colorscale": [
             [
              0,
              "#0d0887"
             ],
             [
              0.1111111111111111,
              "#46039f"
             ],
             [
              0.2222222222222222,
              "#7201a8"
             ],
             [
              0.3333333333333333,
              "#9c179e"
             ],
             [
              0.4444444444444444,
              "#bd3786"
             ],
             [
              0.5555555555555556,
              "#d8576b"
             ],
             [
              0.6666666666666666,
              "#ed7953"
             ],
             [
              0.7777777777777778,
              "#fb9f3a"
             ],
             [
              0.8888888888888888,
              "#fdca26"
             ],
             [
              1,
              "#f0f921"
             ]
            ],
            "type": "histogram2d"
           }
          ],
          "histogram2dcontour": [
           {
            "colorbar": {
             "outlinewidth": 0,
             "ticks": ""
            },
            "colorscale": [
             [
              0,
              "#0d0887"
             ],
             [
              0.1111111111111111,
              "#46039f"
             ],
             [
              0.2222222222222222,
              "#7201a8"
             ],
             [
              0.3333333333333333,
              "#9c179e"
             ],
             [
              0.4444444444444444,
              "#bd3786"
             ],
             [
              0.5555555555555556,
              "#d8576b"
             ],
             [
              0.6666666666666666,
              "#ed7953"
             ],
             [
              0.7777777777777778,
              "#fb9f3a"
             ],
             [
              0.8888888888888888,
              "#fdca26"
             ],
             [
              1,
              "#f0f921"
             ]
            ],
            "type": "histogram2dcontour"
           }
          ],
          "mesh3d": [
           {
            "colorbar": {
             "outlinewidth": 0,
             "ticks": ""
            },
            "type": "mesh3d"
           }
          ],
          "parcoords": [
           {
            "line": {
             "colorbar": {
              "outlinewidth": 0,
              "ticks": ""
             }
            },
            "type": "parcoords"
           }
          ],
          "pie": [
           {
            "automargin": true,
            "type": "pie"
           }
          ],
          "scatter": [
           {
            "fillpattern": {
             "fillmode": "overlay",
             "size": 10,
             "solidity": 0.2
            },
            "type": "scatter"
           }
          ],
          "scatter3d": [
           {
            "line": {
             "colorbar": {
              "outlinewidth": 0,
              "ticks": ""
             }
            },
            "marker": {
             "colorbar": {
              "outlinewidth": 0,
              "ticks": ""
             }
            },
            "type": "scatter3d"
           }
          ],
          "scattercarpet": [
           {
            "marker": {
             "colorbar": {
              "outlinewidth": 0,
              "ticks": ""
             }
            },
            "type": "scattercarpet"
           }
          ],
          "scattergeo": [
           {
            "marker": {
             "colorbar": {
              "outlinewidth": 0,
              "ticks": ""
             }
            },
            "type": "scattergeo"
           }
          ],
          "scattergl": [
           {
            "marker": {
             "colorbar": {
              "outlinewidth": 0,
              "ticks": ""
             }
            },
            "type": "scattergl"
           }
          ],
          "scattermapbox": [
           {
            "marker": {
             "colorbar": {
              "outlinewidth": 0,
              "ticks": ""
             }
            },
            "type": "scattermapbox"
           }
          ],
          "scatterpolar": [
           {
            "marker": {
             "colorbar": {
              "outlinewidth": 0,
              "ticks": ""
             }
            },
            "type": "scatterpolar"
           }
          ],
          "scatterpolargl": [
           {
            "marker": {
             "colorbar": {
              "outlinewidth": 0,
              "ticks": ""
             }
            },
            "type": "scatterpolargl"
           }
          ],
          "scatterternary": [
           {
            "marker": {
             "colorbar": {
              "outlinewidth": 0,
              "ticks": ""
             }
            },
            "type": "scatterternary"
           }
          ],
          "surface": [
           {
            "colorbar": {
             "outlinewidth": 0,
             "ticks": ""
            },
            "colorscale": [
             [
              0,
              "#0d0887"
             ],
             [
              0.1111111111111111,
              "#46039f"
             ],
             [
              0.2222222222222222,
              "#7201a8"
             ],
             [
              0.3333333333333333,
              "#9c179e"
             ],
             [
              0.4444444444444444,
              "#bd3786"
             ],
             [
              0.5555555555555556,
              "#d8576b"
             ],
             [
              0.6666666666666666,
              "#ed7953"
             ],
             [
              0.7777777777777778,
              "#fb9f3a"
             ],
             [
              0.8888888888888888,
              "#fdca26"
             ],
             [
              1,
              "#f0f921"
             ]
            ],
            "type": "surface"
           }
          ],
          "table": [
           {
            "cells": {
             "fill": {
              "color": "#EBF0F8"
             },
             "line": {
              "color": "white"
             }
            },
            "header": {
             "fill": {
              "color": "#C8D4E3"
             },
             "line": {
              "color": "white"
             }
            },
            "type": "table"
           }
          ]
         },
         "layout": {
          "annotationdefaults": {
           "arrowcolor": "#2a3f5f",
           "arrowhead": 0,
           "arrowwidth": 1
          },
          "autotypenumbers": "strict",
          "coloraxis": {
           "colorbar": {
            "outlinewidth": 0,
            "ticks": ""
           }
          },
          "colorscale": {
           "diverging": [
            [
             0,
             "#8e0152"
            ],
            [
             0.1,
             "#c51b7d"
            ],
            [
             0.2,
             "#de77ae"
            ],
            [
             0.3,
             "#f1b6da"
            ],
            [
             0.4,
             "#fde0ef"
            ],
            [
             0.5,
             "#f7f7f7"
            ],
            [
             0.6,
             "#e6f5d0"
            ],
            [
             0.7,
             "#b8e186"
            ],
            [
             0.8,
             "#7fbc41"
            ],
            [
             0.9,
             "#4d9221"
            ],
            [
             1,
             "#276419"
            ]
           ],
           "sequential": [
            [
             0,
             "#0d0887"
            ],
            [
             0.1111111111111111,
             "#46039f"
            ],
            [
             0.2222222222222222,
             "#7201a8"
            ],
            [
             0.3333333333333333,
             "#9c179e"
            ],
            [
             0.4444444444444444,
             "#bd3786"
            ],
            [
             0.5555555555555556,
             "#d8576b"
            ],
            [
             0.6666666666666666,
             "#ed7953"
            ],
            [
             0.7777777777777778,
             "#fb9f3a"
            ],
            [
             0.8888888888888888,
             "#fdca26"
            ],
            [
             1,
             "#f0f921"
            ]
           ],
           "sequentialminus": [
            [
             0,
             "#0d0887"
            ],
            [
             0.1111111111111111,
             "#46039f"
            ],
            [
             0.2222222222222222,
             "#7201a8"
            ],
            [
             0.3333333333333333,
             "#9c179e"
            ],
            [
             0.4444444444444444,
             "#bd3786"
            ],
            [
             0.5555555555555556,
             "#d8576b"
            ],
            [
             0.6666666666666666,
             "#ed7953"
            ],
            [
             0.7777777777777778,
             "#fb9f3a"
            ],
            [
             0.8888888888888888,
             "#fdca26"
            ],
            [
             1,
             "#f0f921"
            ]
           ]
          },
          "colorway": [
           "#636efa",
           "#EF553B",
           "#00cc96",
           "#ab63fa",
           "#FFA15A",
           "#19d3f3",
           "#FF6692",
           "#B6E880",
           "#FF97FF",
           "#FECB52"
          ],
          "font": {
           "color": "#2a3f5f"
          },
          "geo": {
           "bgcolor": "white",
           "lakecolor": "white",
           "landcolor": "#E5ECF6",
           "showlakes": true,
           "showland": true,
           "subunitcolor": "white"
          },
          "hoverlabel": {
           "align": "left"
          },
          "hovermode": "closest",
          "mapbox": {
           "style": "light"
          },
          "paper_bgcolor": "white",
          "plot_bgcolor": "#E5ECF6",
          "polar": {
           "angularaxis": {
            "gridcolor": "white",
            "linecolor": "white",
            "ticks": ""
           },
           "bgcolor": "#E5ECF6",
           "radialaxis": {
            "gridcolor": "white",
            "linecolor": "white",
            "ticks": ""
           }
          },
          "scene": {
           "xaxis": {
            "backgroundcolor": "#E5ECF6",
            "gridcolor": "white",
            "gridwidth": 2,
            "linecolor": "white",
            "showbackground": true,
            "ticks": "",
            "zerolinecolor": "white"
           },
           "yaxis": {
            "backgroundcolor": "#E5ECF6",
            "gridcolor": "white",
            "gridwidth": 2,
            "linecolor": "white",
            "showbackground": true,
            "ticks": "",
            "zerolinecolor": "white"
           },
           "zaxis": {
            "backgroundcolor": "#E5ECF6",
            "gridcolor": "white",
            "gridwidth": 2,
            "linecolor": "white",
            "showbackground": true,
            "ticks": "",
            "zerolinecolor": "white"
           }
          },
          "shapedefaults": {
           "line": {
            "color": "#2a3f5f"
           }
          },
          "ternary": {
           "aaxis": {
            "gridcolor": "white",
            "linecolor": "white",
            "ticks": ""
           },
           "baxis": {
            "gridcolor": "white",
            "linecolor": "white",
            "ticks": ""
           },
           "bgcolor": "#E5ECF6",
           "caxis": {
            "gridcolor": "white",
            "linecolor": "white",
            "ticks": ""
           }
          },
          "title": {
           "x": 0.05
          },
          "xaxis": {
           "automargin": true,
           "gridcolor": "white",
           "linecolor": "white",
           "ticks": "",
           "title": {
            "standoff": 15
           },
           "zerolinecolor": "white",
           "zerolinewidth": 2
          },
          "yaxis": {
           "automargin": true,
           "gridcolor": "white",
           "linecolor": "white",
           "ticks": "",
           "title": {
            "standoff": 15
           },
           "zerolinecolor": "white",
           "zerolinewidth": 2
          }
         }
        },
        "title": {
         "text": "Bookmaker Probability vs. Historical Probabilities for First Half of Matches"
        },
        "width": 1200,
        "xaxis": {
         "tickangle": 0,
         "tickmode": "array",
         "tickvals": [
          -1,
          -0.9,
          -0.8,
          -0.7,
          -0.6,
          -0.5,
          -0.3999999999999999,
          -0.29999999999999993,
          -0.19999999999999996,
          -0.09999999999999998,
          0,
          0.10000000000000009,
          0.20000000000000018,
          0.30000000000000004,
          0.40000000000000013,
          0.5,
          0.6000000000000001,
          0.7000000000000002,
          0.8,
          0.9000000000000001,
          1
         ],
         "title": {
          "text": "Bin Average"
         }
        },
        "yaxis": {
         "title": {
          "text": "Probabilities"
         }
        }
       }
      }
     },
     "metadata": {},
     "output_type": "display_data"
    },
    {
     "data": {
      "application/vnd.plotly.v1+json": {
       "config": {
        "plotlyServerURL": "https://plot.ly"
       },
       "data": [
        {
         "marker": {
          "color": "red"
         },
         "mode": "markers",
         "name": "Average Probabilities for Each Bin",
         "type": "scatter",
         "x": [
          -0.95,
          -0.8500000000000001,
          -0.75,
          -0.6499999999999999,
          -0.55,
          -0.44999999999999996,
          -0.3499999999999999,
          -0.24999999999999994,
          -0.14999999999999997,
          -0.04999999999999999,
          0.050000000000000044,
          0.15000000000000013,
          0.2500000000000001,
          0.3500000000000001,
          0.45000000000000007,
          0.55,
          0.6500000000000001,
          0.7500000000000001,
          0.8500000000000001,
          0.9500000000000001
         ],
         "y": [
          0.04207683599497206,
          0.10501542563645254,
          0.17799740735812444,
          0.22335163931771193,
          0.26407107918380124,
          0.2957111440314832,
          0.36011869327064,
          0.421449548711854,
          0.48687923964702384,
          0.5873675687026738,
          0.6160606365127765,
          0.5147324469782901,
          0.45289372001476547,
          0.39436493036299136,
          0.3234390767612467,
          0.26521646591195175,
          0.22039476067194394,
          0.1753911220752376,
          0.1092225070040247,
          0.04310634683370048
         ]
        },
        {
         "marker": {
          "color": "green"
         },
         "mode": "markers",
         "name": "Historical Probabilities for Each Bin",
         "type": "scatter",
         "x": [
          -0.95,
          -0.8500000000000001,
          -0.75,
          -0.6499999999999999,
          -0.55,
          -0.44999999999999996,
          -0.3499999999999999,
          -0.24999999999999994,
          -0.14999999999999997,
          -0.04999999999999999,
          0.050000000000000044,
          0.15000000000000013,
          0.2500000000000001,
          0.3500000000000001,
          0.45000000000000007,
          0.55,
          0.6500000000000001,
          0.7500000000000001,
          0.8500000000000001,
          0.9500000000000001
         ],
         "y": [
          0.03653738055087127,
          0.1308516638465877,
          0.1798980335032775,
          0.26200873362445415,
          0.35038759689922483,
          0.3714859437751004,
          0.38636363636363635,
          0.4676470588235294,
          0.531895777178796,
          0.561439239646979,
          0.617217524980784,
          0.5737217598097503,
          0.4246913580246914,
          0.34332425068119893,
          0.2343032159264931,
          0.2303595206391478,
          0.2307032590051458,
          0.21955307262569831,
          0.08081543502002184,
          0.04136995591726009
         ]
        }
       ],
       "layout": {
        "height": 600,
        "template": {
         "data": {
          "bar": [
           {
            "error_x": {
             "color": "#2a3f5f"
            },
            "error_y": {
             "color": "#2a3f5f"
            },
            "marker": {
             "line": {
              "color": "#E5ECF6",
              "width": 0.5
             },
             "pattern": {
              "fillmode": "overlay",
              "size": 10,
              "solidity": 0.2
             }
            },
            "type": "bar"
           }
          ],
          "barpolar": [
           {
            "marker": {
             "line": {
              "color": "#E5ECF6",
              "width": 0.5
             },
             "pattern": {
              "fillmode": "overlay",
              "size": 10,
              "solidity": 0.2
             }
            },
            "type": "barpolar"
           }
          ],
          "carpet": [
           {
            "aaxis": {
             "endlinecolor": "#2a3f5f",
             "gridcolor": "white",
             "linecolor": "white",
             "minorgridcolor": "white",
             "startlinecolor": "#2a3f5f"
            },
            "baxis": {
             "endlinecolor": "#2a3f5f",
             "gridcolor": "white",
             "linecolor": "white",
             "minorgridcolor": "white",
             "startlinecolor": "#2a3f5f"
            },
            "type": "carpet"
           }
          ],
          "choropleth": [
           {
            "colorbar": {
             "outlinewidth": 0,
             "ticks": ""
            },
            "type": "choropleth"
           }
          ],
          "contour": [
           {
            "colorbar": {
             "outlinewidth": 0,
             "ticks": ""
            },
            "colorscale": [
             [
              0,
              "#0d0887"
             ],
             [
              0.1111111111111111,
              "#46039f"
             ],
             [
              0.2222222222222222,
              "#7201a8"
             ],
             [
              0.3333333333333333,
              "#9c179e"
             ],
             [
              0.4444444444444444,
              "#bd3786"
             ],
             [
              0.5555555555555556,
              "#d8576b"
             ],
             [
              0.6666666666666666,
              "#ed7953"
             ],
             [
              0.7777777777777778,
              "#fb9f3a"
             ],
             [
              0.8888888888888888,
              "#fdca26"
             ],
             [
              1,
              "#f0f921"
             ]
            ],
            "type": "contour"
           }
          ],
          "contourcarpet": [
           {
            "colorbar": {
             "outlinewidth": 0,
             "ticks": ""
            },
            "type": "contourcarpet"
           }
          ],
          "heatmap": [
           {
            "colorbar": {
             "outlinewidth": 0,
             "ticks": ""
            },
            "colorscale": [
             [
              0,
              "#0d0887"
             ],
             [
              0.1111111111111111,
              "#46039f"
             ],
             [
              0.2222222222222222,
              "#7201a8"
             ],
             [
              0.3333333333333333,
              "#9c179e"
             ],
             [
              0.4444444444444444,
              "#bd3786"
             ],
             [
              0.5555555555555556,
              "#d8576b"
             ],
             [
              0.6666666666666666,
              "#ed7953"
             ],
             [
              0.7777777777777778,
              "#fb9f3a"
             ],
             [
              0.8888888888888888,
              "#fdca26"
             ],
             [
              1,
              "#f0f921"
             ]
            ],
            "type": "heatmap"
           }
          ],
          "heatmapgl": [
           {
            "colorbar": {
             "outlinewidth": 0,
             "ticks": ""
            },
            "colorscale": [
             [
              0,
              "#0d0887"
             ],
             [
              0.1111111111111111,
              "#46039f"
             ],
             [
              0.2222222222222222,
              "#7201a8"
             ],
             [
              0.3333333333333333,
              "#9c179e"
             ],
             [
              0.4444444444444444,
              "#bd3786"
             ],
             [
              0.5555555555555556,
              "#d8576b"
             ],
             [
              0.6666666666666666,
              "#ed7953"
             ],
             [
              0.7777777777777778,
              "#fb9f3a"
             ],
             [
              0.8888888888888888,
              "#fdca26"
             ],
             [
              1,
              "#f0f921"
             ]
            ],
            "type": "heatmapgl"
           }
          ],
          "histogram": [
           {
            "marker": {
             "pattern": {
              "fillmode": "overlay",
              "size": 10,
              "solidity": 0.2
             }
            },
            "type": "histogram"
           }
          ],
          "histogram2d": [
           {
            "colorbar": {
             "outlinewidth": 0,
             "ticks": ""
            },
            "colorscale": [
             [
              0,
              "#0d0887"
             ],
             [
              0.1111111111111111,
              "#46039f"
             ],
             [
              0.2222222222222222,
              "#7201a8"
             ],
             [
              0.3333333333333333,
              "#9c179e"
             ],
             [
              0.4444444444444444,
              "#bd3786"
             ],
             [
              0.5555555555555556,
              "#d8576b"
             ],
             [
              0.6666666666666666,
              "#ed7953"
             ],
             [
              0.7777777777777778,
              "#fb9f3a"
             ],
             [
              0.8888888888888888,
              "#fdca26"
             ],
             [
              1,
              "#f0f921"
             ]
            ],
            "type": "histogram2d"
           }
          ],
          "histogram2dcontour": [
           {
            "colorbar": {
             "outlinewidth": 0,
             "ticks": ""
            },
            "colorscale": [
             [
              0,
              "#0d0887"
             ],
             [
              0.1111111111111111,
              "#46039f"
             ],
             [
              0.2222222222222222,
              "#7201a8"
             ],
             [
              0.3333333333333333,
              "#9c179e"
             ],
             [
              0.4444444444444444,
              "#bd3786"
             ],
             [
              0.5555555555555556,
              "#d8576b"
             ],
             [
              0.6666666666666666,
              "#ed7953"
             ],
             [
              0.7777777777777778,
              "#fb9f3a"
             ],
             [
              0.8888888888888888,
              "#fdca26"
             ],
             [
              1,
              "#f0f921"
             ]
            ],
            "type": "histogram2dcontour"
           }
          ],
          "mesh3d": [
           {
            "colorbar": {
             "outlinewidth": 0,
             "ticks": ""
            },
            "type": "mesh3d"
           }
          ],
          "parcoords": [
           {
            "line": {
             "colorbar": {
              "outlinewidth": 0,
              "ticks": ""
             }
            },
            "type": "parcoords"
           }
          ],
          "pie": [
           {
            "automargin": true,
            "type": "pie"
           }
          ],
          "scatter": [
           {
            "fillpattern": {
             "fillmode": "overlay",
             "size": 10,
             "solidity": 0.2
            },
            "type": "scatter"
           }
          ],
          "scatter3d": [
           {
            "line": {
             "colorbar": {
              "outlinewidth": 0,
              "ticks": ""
             }
            },
            "marker": {
             "colorbar": {
              "outlinewidth": 0,
              "ticks": ""
             }
            },
            "type": "scatter3d"
           }
          ],
          "scattercarpet": [
           {
            "marker": {
             "colorbar": {
              "outlinewidth": 0,
              "ticks": ""
             }
            },
            "type": "scattercarpet"
           }
          ],
          "scattergeo": [
           {
            "marker": {
             "colorbar": {
              "outlinewidth": 0,
              "ticks": ""
             }
            },
            "type": "scattergeo"
           }
          ],
          "scattergl": [
           {
            "marker": {
             "colorbar": {
              "outlinewidth": 0,
              "ticks": ""
             }
            },
            "type": "scattergl"
           }
          ],
          "scattermapbox": [
           {
            "marker": {
             "colorbar": {
              "outlinewidth": 0,
              "ticks": ""
             }
            },
            "type": "scattermapbox"
           }
          ],
          "scatterpolar": [
           {
            "marker": {
             "colorbar": {
              "outlinewidth": 0,
              "ticks": ""
             }
            },
            "type": "scatterpolar"
           }
          ],
          "scatterpolargl": [
           {
            "marker": {
             "colorbar": {
              "outlinewidth": 0,
              "ticks": ""
             }
            },
            "type": "scatterpolargl"
           }
          ],
          "scatterternary": [
           {
            "marker": {
             "colorbar": {
              "outlinewidth": 0,
              "ticks": ""
             }
            },
            "type": "scatterternary"
           }
          ],
          "surface": [
           {
            "colorbar": {
             "outlinewidth": 0,
             "ticks": ""
            },
            "colorscale": [
             [
              0,
              "#0d0887"
             ],
             [
              0.1111111111111111,
              "#46039f"
             ],
             [
              0.2222222222222222,
              "#7201a8"
             ],
             [
              0.3333333333333333,
              "#9c179e"
             ],
             [
              0.4444444444444444,
              "#bd3786"
             ],
             [
              0.5555555555555556,
              "#d8576b"
             ],
             [
              0.6666666666666666,
              "#ed7953"
             ],
             [
              0.7777777777777778,
              "#fb9f3a"
             ],
             [
              0.8888888888888888,
              "#fdca26"
             ],
             [
              1,
              "#f0f921"
             ]
            ],
            "type": "surface"
           }
          ],
          "table": [
           {
            "cells": {
             "fill": {
              "color": "#EBF0F8"
             },
             "line": {
              "color": "white"
             }
            },
            "header": {
             "fill": {
              "color": "#C8D4E3"
             },
             "line": {
              "color": "white"
             }
            },
            "type": "table"
           }
          ]
         },
         "layout": {
          "annotationdefaults": {
           "arrowcolor": "#2a3f5f",
           "arrowhead": 0,
           "arrowwidth": 1
          },
          "autotypenumbers": "strict",
          "coloraxis": {
           "colorbar": {
            "outlinewidth": 0,
            "ticks": ""
           }
          },
          "colorscale": {
           "diverging": [
            [
             0,
             "#8e0152"
            ],
            [
             0.1,
             "#c51b7d"
            ],
            [
             0.2,
             "#de77ae"
            ],
            [
             0.3,
             "#f1b6da"
            ],
            [
             0.4,
             "#fde0ef"
            ],
            [
             0.5,
             "#f7f7f7"
            ],
            [
             0.6,
             "#e6f5d0"
            ],
            [
             0.7,
             "#b8e186"
            ],
            [
             0.8,
             "#7fbc41"
            ],
            [
             0.9,
             "#4d9221"
            ],
            [
             1,
             "#276419"
            ]
           ],
           "sequential": [
            [
             0,
             "#0d0887"
            ],
            [
             0.1111111111111111,
             "#46039f"
            ],
            [
             0.2222222222222222,
             "#7201a8"
            ],
            [
             0.3333333333333333,
             "#9c179e"
            ],
            [
             0.4444444444444444,
             "#bd3786"
            ],
            [
             0.5555555555555556,
             "#d8576b"
            ],
            [
             0.6666666666666666,
             "#ed7953"
            ],
            [
             0.7777777777777778,
             "#fb9f3a"
            ],
            [
             0.8888888888888888,
             "#fdca26"
            ],
            [
             1,
             "#f0f921"
            ]
           ],
           "sequentialminus": [
            [
             0,
             "#0d0887"
            ],
            [
             0.1111111111111111,
             "#46039f"
            ],
            [
             0.2222222222222222,
             "#7201a8"
            ],
            [
             0.3333333333333333,
             "#9c179e"
            ],
            [
             0.4444444444444444,
             "#bd3786"
            ],
            [
             0.5555555555555556,
             "#d8576b"
            ],
            [
             0.6666666666666666,
             "#ed7953"
            ],
            [
             0.7777777777777778,
             "#fb9f3a"
            ],
            [
             0.8888888888888888,
             "#fdca26"
            ],
            [
             1,
             "#f0f921"
            ]
           ]
          },
          "colorway": [
           "#636efa",
           "#EF553B",
           "#00cc96",
           "#ab63fa",
           "#FFA15A",
           "#19d3f3",
           "#FF6692",
           "#B6E880",
           "#FF97FF",
           "#FECB52"
          ],
          "font": {
           "color": "#2a3f5f"
          },
          "geo": {
           "bgcolor": "white",
           "lakecolor": "white",
           "landcolor": "#E5ECF6",
           "showlakes": true,
           "showland": true,
           "subunitcolor": "white"
          },
          "hoverlabel": {
           "align": "left"
          },
          "hovermode": "closest",
          "mapbox": {
           "style": "light"
          },
          "paper_bgcolor": "white",
          "plot_bgcolor": "#E5ECF6",
          "polar": {
           "angularaxis": {
            "gridcolor": "white",
            "linecolor": "white",
            "ticks": ""
           },
           "bgcolor": "#E5ECF6",
           "radialaxis": {
            "gridcolor": "white",
            "linecolor": "white",
            "ticks": ""
           }
          },
          "scene": {
           "xaxis": {
            "backgroundcolor": "#E5ECF6",
            "gridcolor": "white",
            "gridwidth": 2,
            "linecolor": "white",
            "showbackground": true,
            "ticks": "",
            "zerolinecolor": "white"
           },
           "yaxis": {
            "backgroundcolor": "#E5ECF6",
            "gridcolor": "white",
            "gridwidth": 2,
            "linecolor": "white",
            "showbackground": true,
            "ticks": "",
            "zerolinecolor": "white"
           },
           "zaxis": {
            "backgroundcolor": "#E5ECF6",
            "gridcolor": "white",
            "gridwidth": 2,
            "linecolor": "white",
            "showbackground": true,
            "ticks": "",
            "zerolinecolor": "white"
           }
          },
          "shapedefaults": {
           "line": {
            "color": "#2a3f5f"
           }
          },
          "ternary": {
           "aaxis": {
            "gridcolor": "white",
            "linecolor": "white",
            "ticks": ""
           },
           "baxis": {
            "gridcolor": "white",
            "linecolor": "white",
            "ticks": ""
           },
           "bgcolor": "#E5ECF6",
           "caxis": {
            "gridcolor": "white",
            "linecolor": "white",
            "ticks": ""
           }
          },
          "title": {
           "x": 0.05
          },
          "xaxis": {
           "automargin": true,
           "gridcolor": "white",
           "linecolor": "white",
           "ticks": "",
           "title": {
            "standoff": 15
           },
           "zerolinecolor": "white",
           "zerolinewidth": 2
          },
          "yaxis": {
           "automargin": true,
           "gridcolor": "white",
           "linecolor": "white",
           "ticks": "",
           "title": {
            "standoff": 15
           },
           "zerolinecolor": "white",
           "zerolinewidth": 2
          }
         }
        },
        "title": {
         "text": "Bookmaker Probability vs. Historical Probabilities for Second Half of Matches"
        },
        "width": 1200,
        "xaxis": {
         "tickangle": 0,
         "tickmode": "array",
         "tickvals": [
          -1,
          -0.9,
          -0.8,
          -0.7,
          -0.6,
          -0.5,
          -0.3999999999999999,
          -0.29999999999999993,
          -0.19999999999999996,
          -0.09999999999999998,
          0,
          0.10000000000000009,
          0.20000000000000018,
          0.30000000000000004,
          0.40000000000000013,
          0.5,
          0.6000000000000001,
          0.7000000000000002,
          0.8,
          0.9000000000000001,
          1
         ],
         "title": {
          "text": "Bin Average"
         }
        },
        "yaxis": {
         "title": {
          "text": "Probabilities"
         }
        }
       }
      }
     },
     "metadata": {},
     "output_type": "display_data"
    }
   ],
   "source": [
    "def plot(data, half): \n",
    "    fig = go.Figure()\n",
    "    fig.add_trace(go.Scatter(\n",
    "            x=data['bin_average'],\n",
    "            y=data['avrg_pr_draw_bm'],\n",
    "            mode='markers',\n",
    "            marker=dict(\n",
    "                color='red'\n",
    "            ),\n",
    "            name=\"Average Probabilities for Each Bin\",))\n",
    "\n",
    "    fig.add_trace(go.Scatter(\n",
    "            x=data['bin_average'],\n",
    "            y=data['actual_draw_pr'],\n",
    "            mode='markers',\n",
    "            marker=dict(\n",
    "                color='green'\n",
    "            ),\n",
    "            name=\"Historical Probabilities for Each Bin\",))\n",
    "\n",
    "    fig.update_xaxes(\n",
    "        tickmode='array',\n",
    "        tickvals=np.linspace(-1, 1, 21),\n",
    "        title_text='Bin Average'\n",
    "    )\n",
    "\n",
    "    fig.update_layout(\n",
    "        width=1200,\n",
    "        height=600,\n",
    "        title='Bookmaker Probability vs. Historical Probabilities for ' + half + ' Half of Matches',\n",
    "        xaxis=dict(tickangle=0),\n",
    "        yaxis=dict(title_text='Probabilities'),\n",
    "    )\n",
    "    fig.show()\n",
    "\n",
    "plot(plotdf1, 'First')\n",
    "plot(plotdf2, 'Second')"
   ]
  },
  {
   "cell_type": "markdown",
   "metadata": {},
   "source": [
    "There is a bias between historical results and results proposed by the bookmaker. If the home team's chance of winning in the first half is 0.5 more than the other team's, playing for a draw will be profitable in the long run. Other than that, if the away team's chance of winning in the second half is higher than the other team's, playing for a draw will be profitable in the long run."
   ]
  },
  {
   "cell_type": "markdown",
   "metadata": {},
   "source": [
    "## TASK-2"
   ]
  },
  {
   "cell_type": "markdown",
   "metadata": {},
   "source": [
    "Any match that red card is seen is removed because red card changes all dynamics of matches no matter what minute it comes out. There are some cancel red cards in data; therefore, some conditions is applied about these cancels."
   ]
  },
  {
   "cell_type": "code",
   "execution_count": 149,
   "metadata": {},
   "outputs": [],
   "source": [
    "def check_group(group):\n",
    "    if (group['Redcards - home'] == 0).all() and (group['Redcards - away'] == 0).all():\n",
    "        return True\n",
    "    \n",
    "    red_card_seen = group['Redcards - home'].eq(1).cumsum()\n",
    "    after_first_red_card = group.loc[red_card_seen > 0, 'Redcards - home']\n",
    "\n",
    "    red_card_seen_away = group['Redcards - away'].eq(1).cumsum()\n",
    "    after_first_red_card_away = group.loc[red_card_seen_away > 0, 'Redcards - away']\n",
    "    \n",
    "    if (after_first_red_card == 0).any() or (after_first_red_card_away == 0).any():\n",
    "        return True\n",
    "    \n",
    "    return False\n",
    "\n",
    "filtered_match_data = match_data.groupby('fixture_id').filter(check_group)"
   ]
  },
  {
   "cell_type": "markdown",
   "metadata": {},
   "source": [
    "After data elimination, task 1 is applied again and compared to the analysis before data elimination."
   ]
  },
  {
   "cell_type": "code",
   "execution_count": 150,
   "metadata": {},
   "outputs": [
    {
     "data": {
      "application/vnd.plotly.v1+json": {
       "config": {
        "plotlyServerURL": "https://plot.ly"
       },
       "data": [
        {
         "marker": {
          "color": "red"
         },
         "mode": "markers",
         "name": "Average Probabilities for Each Bin",
         "type": "scatter",
         "x": [
          -0.95,
          -0.8500000000000001,
          -0.75,
          -0.6499999999999999,
          -0.55,
          -0.44999999999999996,
          -0.3499999999999999,
          -0.24999999999999994,
          -0.14999999999999997,
          -0.04999999999999999,
          0.050000000000000044,
          0.15000000000000013,
          0.2500000000000001,
          0.3500000000000001,
          0.45000000000000007,
          0.55,
          0.6500000000000001,
          0.7500000000000001,
          0.8500000000000001,
          0.9500000000000001
         ],
         "y": [
          0.03270504070491726,
          0.08434528792328463,
          0.1367876925179749,
          0.18256605723879768,
          0.21108107888268907,
          0.24777562320629143,
          0.2711286870307692,
          0.2897363435191132,
          0.3055788892566307,
          0.31596929228422305,
          0.3196254368159145,
          0.3144777342400491,
          0.3000936644286372,
          0.2724152556474559,
          0.2475906357621093,
          0.2190434998794332,
          0.18187336729381343,
          0.1359521304367639,
          0.08622227364693928,
          0.03589788593691078
         ]
        },
        {
         "marker": {
          "color": "green"
         },
         "mode": "markers",
         "name": "Historical Probabilities for Each Bin",
         "type": "scatter",
         "x": [
          -0.95,
          -0.8500000000000001,
          -0.75,
          -0.6499999999999999,
          -0.55,
          -0.44999999999999996,
          -0.3499999999999999,
          -0.24999999999999994,
          -0.14999999999999997,
          -0.04999999999999999,
          0.050000000000000044,
          0.15000000000000013,
          0.2500000000000001,
          0.3500000000000001,
          0.45000000000000007,
          0.55,
          0.6500000000000001,
          0.7500000000000001,
          0.8500000000000001,
          0.9500000000000001
         ],
         "y": [
          0,
          0.11849710982658959,
          0.11218568665377177,
          0.22402597402597402,
          0.15313935681470137,
          0.32984901277584205,
          0.2594142259414226,
          0.32872200263504614,
          0.2815366972477064,
          0.25781748564135293,
          0.31065759637188206,
          0.40086206896551724,
          0.3163087637840975,
          0.29605263157894735,
          0.2867268041237113,
          0.1550561797752809,
          0.15223665223665223,
          0.04206008583690987,
          0.05549845837615622,
          0.12183908045977011
         ]
        }
       ],
       "layout": {
        "height": 600,
        "template": {
         "data": {
          "bar": [
           {
            "error_x": {
             "color": "#2a3f5f"
            },
            "error_y": {
             "color": "#2a3f5f"
            },
            "marker": {
             "line": {
              "color": "#E5ECF6",
              "width": 0.5
             },
             "pattern": {
              "fillmode": "overlay",
              "size": 10,
              "solidity": 0.2
             }
            },
            "type": "bar"
           }
          ],
          "barpolar": [
           {
            "marker": {
             "line": {
              "color": "#E5ECF6",
              "width": 0.5
             },
             "pattern": {
              "fillmode": "overlay",
              "size": 10,
              "solidity": 0.2
             }
            },
            "type": "barpolar"
           }
          ],
          "carpet": [
           {
            "aaxis": {
             "endlinecolor": "#2a3f5f",
             "gridcolor": "white",
             "linecolor": "white",
             "minorgridcolor": "white",
             "startlinecolor": "#2a3f5f"
            },
            "baxis": {
             "endlinecolor": "#2a3f5f",
             "gridcolor": "white",
             "linecolor": "white",
             "minorgridcolor": "white",
             "startlinecolor": "#2a3f5f"
            },
            "type": "carpet"
           }
          ],
          "choropleth": [
           {
            "colorbar": {
             "outlinewidth": 0,
             "ticks": ""
            },
            "type": "choropleth"
           }
          ],
          "contour": [
           {
            "colorbar": {
             "outlinewidth": 0,
             "ticks": ""
            },
            "colorscale": [
             [
              0,
              "#0d0887"
             ],
             [
              0.1111111111111111,
              "#46039f"
             ],
             [
              0.2222222222222222,
              "#7201a8"
             ],
             [
              0.3333333333333333,
              "#9c179e"
             ],
             [
              0.4444444444444444,
              "#bd3786"
             ],
             [
              0.5555555555555556,
              "#d8576b"
             ],
             [
              0.6666666666666666,
              "#ed7953"
             ],
             [
              0.7777777777777778,
              "#fb9f3a"
             ],
             [
              0.8888888888888888,
              "#fdca26"
             ],
             [
              1,
              "#f0f921"
             ]
            ],
            "type": "contour"
           }
          ],
          "contourcarpet": [
           {
            "colorbar": {
             "outlinewidth": 0,
             "ticks": ""
            },
            "type": "contourcarpet"
           }
          ],
          "heatmap": [
           {
            "colorbar": {
             "outlinewidth": 0,
             "ticks": ""
            },
            "colorscale": [
             [
              0,
              "#0d0887"
             ],
             [
              0.1111111111111111,
              "#46039f"
             ],
             [
              0.2222222222222222,
              "#7201a8"
             ],
             [
              0.3333333333333333,
              "#9c179e"
             ],
             [
              0.4444444444444444,
              "#bd3786"
             ],
             [
              0.5555555555555556,
              "#d8576b"
             ],
             [
              0.6666666666666666,
              "#ed7953"
             ],
             [
              0.7777777777777778,
              "#fb9f3a"
             ],
             [
              0.8888888888888888,
              "#fdca26"
             ],
             [
              1,
              "#f0f921"
             ]
            ],
            "type": "heatmap"
           }
          ],
          "heatmapgl": [
           {
            "colorbar": {
             "outlinewidth": 0,
             "ticks": ""
            },
            "colorscale": [
             [
              0,
              "#0d0887"
             ],
             [
              0.1111111111111111,
              "#46039f"
             ],
             [
              0.2222222222222222,
              "#7201a8"
             ],
             [
              0.3333333333333333,
              "#9c179e"
             ],
             [
              0.4444444444444444,
              "#bd3786"
             ],
             [
              0.5555555555555556,
              "#d8576b"
             ],
             [
              0.6666666666666666,
              "#ed7953"
             ],
             [
              0.7777777777777778,
              "#fb9f3a"
             ],
             [
              0.8888888888888888,
              "#fdca26"
             ],
             [
              1,
              "#f0f921"
             ]
            ],
            "type": "heatmapgl"
           }
          ],
          "histogram": [
           {
            "marker": {
             "pattern": {
              "fillmode": "overlay",
              "size": 10,
              "solidity": 0.2
             }
            },
            "type": "histogram"
           }
          ],
          "histogram2d": [
           {
            "colorbar": {
             "outlinewidth": 0,
             "ticks": ""
            },
            "colorscale": [
             [
              0,
              "#0d0887"
             ],
             [
              0.1111111111111111,
              "#46039f"
             ],
             [
              0.2222222222222222,
              "#7201a8"
             ],
             [
              0.3333333333333333,
              "#9c179e"
             ],
             [
              0.4444444444444444,
              "#bd3786"
             ],
             [
              0.5555555555555556,
              "#d8576b"
             ],
             [
              0.6666666666666666,
              "#ed7953"
             ],
             [
              0.7777777777777778,
              "#fb9f3a"
             ],
             [
              0.8888888888888888,
              "#fdca26"
             ],
             [
              1,
              "#f0f921"
             ]
            ],
            "type": "histogram2d"
           }
          ],
          "histogram2dcontour": [
           {
            "colorbar": {
             "outlinewidth": 0,
             "ticks": ""
            },
            "colorscale": [
             [
              0,
              "#0d0887"
             ],
             [
              0.1111111111111111,
              "#46039f"
             ],
             [
              0.2222222222222222,
              "#7201a8"
             ],
             [
              0.3333333333333333,
              "#9c179e"
             ],
             [
              0.4444444444444444,
              "#bd3786"
             ],
             [
              0.5555555555555556,
              "#d8576b"
             ],
             [
              0.6666666666666666,
              "#ed7953"
             ],
             [
              0.7777777777777778,
              "#fb9f3a"
             ],
             [
              0.8888888888888888,
              "#fdca26"
             ],
             [
              1,
              "#f0f921"
             ]
            ],
            "type": "histogram2dcontour"
           }
          ],
          "mesh3d": [
           {
            "colorbar": {
             "outlinewidth": 0,
             "ticks": ""
            },
            "type": "mesh3d"
           }
          ],
          "parcoords": [
           {
            "line": {
             "colorbar": {
              "outlinewidth": 0,
              "ticks": ""
             }
            },
            "type": "parcoords"
           }
          ],
          "pie": [
           {
            "automargin": true,
            "type": "pie"
           }
          ],
          "scatter": [
           {
            "fillpattern": {
             "fillmode": "overlay",
             "size": 10,
             "solidity": 0.2
            },
            "type": "scatter"
           }
          ],
          "scatter3d": [
           {
            "line": {
             "colorbar": {
              "outlinewidth": 0,
              "ticks": ""
             }
            },
            "marker": {
             "colorbar": {
              "outlinewidth": 0,
              "ticks": ""
             }
            },
            "type": "scatter3d"
           }
          ],
          "scattercarpet": [
           {
            "marker": {
             "colorbar": {
              "outlinewidth": 0,
              "ticks": ""
             }
            },
            "type": "scattercarpet"
           }
          ],
          "scattergeo": [
           {
            "marker": {
             "colorbar": {
              "outlinewidth": 0,
              "ticks": ""
             }
            },
            "type": "scattergeo"
           }
          ],
          "scattergl": [
           {
            "marker": {
             "colorbar": {
              "outlinewidth": 0,
              "ticks": ""
             }
            },
            "type": "scattergl"
           }
          ],
          "scattermapbox": [
           {
            "marker": {
             "colorbar": {
              "outlinewidth": 0,
              "ticks": ""
             }
            },
            "type": "scattermapbox"
           }
          ],
          "scatterpolar": [
           {
            "marker": {
             "colorbar": {
              "outlinewidth": 0,
              "ticks": ""
             }
            },
            "type": "scatterpolar"
           }
          ],
          "scatterpolargl": [
           {
            "marker": {
             "colorbar": {
              "outlinewidth": 0,
              "ticks": ""
             }
            },
            "type": "scatterpolargl"
           }
          ],
          "scatterternary": [
           {
            "marker": {
             "colorbar": {
              "outlinewidth": 0,
              "ticks": ""
             }
            },
            "type": "scatterternary"
           }
          ],
          "surface": [
           {
            "colorbar": {
             "outlinewidth": 0,
             "ticks": ""
            },
            "colorscale": [
             [
              0,
              "#0d0887"
             ],
             [
              0.1111111111111111,
              "#46039f"
             ],
             [
              0.2222222222222222,
              "#7201a8"
             ],
             [
              0.3333333333333333,
              "#9c179e"
             ],
             [
              0.4444444444444444,
              "#bd3786"
             ],
             [
              0.5555555555555556,
              "#d8576b"
             ],
             [
              0.6666666666666666,
              "#ed7953"
             ],
             [
              0.7777777777777778,
              "#fb9f3a"
             ],
             [
              0.8888888888888888,
              "#fdca26"
             ],
             [
              1,
              "#f0f921"
             ]
            ],
            "type": "surface"
           }
          ],
          "table": [
           {
            "cells": {
             "fill": {
              "color": "#EBF0F8"
             },
             "line": {
              "color": "white"
             }
            },
            "header": {
             "fill": {
              "color": "#C8D4E3"
             },
             "line": {
              "color": "white"
             }
            },
            "type": "table"
           }
          ]
         },
         "layout": {
          "annotationdefaults": {
           "arrowcolor": "#2a3f5f",
           "arrowhead": 0,
           "arrowwidth": 1
          },
          "autotypenumbers": "strict",
          "coloraxis": {
           "colorbar": {
            "outlinewidth": 0,
            "ticks": ""
           }
          },
          "colorscale": {
           "diverging": [
            [
             0,
             "#8e0152"
            ],
            [
             0.1,
             "#c51b7d"
            ],
            [
             0.2,
             "#de77ae"
            ],
            [
             0.3,
             "#f1b6da"
            ],
            [
             0.4,
             "#fde0ef"
            ],
            [
             0.5,
             "#f7f7f7"
            ],
            [
             0.6,
             "#e6f5d0"
            ],
            [
             0.7,
             "#b8e186"
            ],
            [
             0.8,
             "#7fbc41"
            ],
            [
             0.9,
             "#4d9221"
            ],
            [
             1,
             "#276419"
            ]
           ],
           "sequential": [
            [
             0,
             "#0d0887"
            ],
            [
             0.1111111111111111,
             "#46039f"
            ],
            [
             0.2222222222222222,
             "#7201a8"
            ],
            [
             0.3333333333333333,
             "#9c179e"
            ],
            [
             0.4444444444444444,
             "#bd3786"
            ],
            [
             0.5555555555555556,
             "#d8576b"
            ],
            [
             0.6666666666666666,
             "#ed7953"
            ],
            [
             0.7777777777777778,
             "#fb9f3a"
            ],
            [
             0.8888888888888888,
             "#fdca26"
            ],
            [
             1,
             "#f0f921"
            ]
           ],
           "sequentialminus": [
            [
             0,
             "#0d0887"
            ],
            [
             0.1111111111111111,
             "#46039f"
            ],
            [
             0.2222222222222222,
             "#7201a8"
            ],
            [
             0.3333333333333333,
             "#9c179e"
            ],
            [
             0.4444444444444444,
             "#bd3786"
            ],
            [
             0.5555555555555556,
             "#d8576b"
            ],
            [
             0.6666666666666666,
             "#ed7953"
            ],
            [
             0.7777777777777778,
             "#fb9f3a"
            ],
            [
             0.8888888888888888,
             "#fdca26"
            ],
            [
             1,
             "#f0f921"
            ]
           ]
          },
          "colorway": [
           "#636efa",
           "#EF553B",
           "#00cc96",
           "#ab63fa",
           "#FFA15A",
           "#19d3f3",
           "#FF6692",
           "#B6E880",
           "#FF97FF",
           "#FECB52"
          ],
          "font": {
           "color": "#2a3f5f"
          },
          "geo": {
           "bgcolor": "white",
           "lakecolor": "white",
           "landcolor": "#E5ECF6",
           "showlakes": true,
           "showland": true,
           "subunitcolor": "white"
          },
          "hoverlabel": {
           "align": "left"
          },
          "hovermode": "closest",
          "mapbox": {
           "style": "light"
          },
          "paper_bgcolor": "white",
          "plot_bgcolor": "#E5ECF6",
          "polar": {
           "angularaxis": {
            "gridcolor": "white",
            "linecolor": "white",
            "ticks": ""
           },
           "bgcolor": "#E5ECF6",
           "radialaxis": {
            "gridcolor": "white",
            "linecolor": "white",
            "ticks": ""
           }
          },
          "scene": {
           "xaxis": {
            "backgroundcolor": "#E5ECF6",
            "gridcolor": "white",
            "gridwidth": 2,
            "linecolor": "white",
            "showbackground": true,
            "ticks": "",
            "zerolinecolor": "white"
           },
           "yaxis": {
            "backgroundcolor": "#E5ECF6",
            "gridcolor": "white",
            "gridwidth": 2,
            "linecolor": "white",
            "showbackground": true,
            "ticks": "",
            "zerolinecolor": "white"
           },
           "zaxis": {
            "backgroundcolor": "#E5ECF6",
            "gridcolor": "white",
            "gridwidth": 2,
            "linecolor": "white",
            "showbackground": true,
            "ticks": "",
            "zerolinecolor": "white"
           }
          },
          "shapedefaults": {
           "line": {
            "color": "#2a3f5f"
           }
          },
          "ternary": {
           "aaxis": {
            "gridcolor": "white",
            "linecolor": "white",
            "ticks": ""
           },
           "baxis": {
            "gridcolor": "white",
            "linecolor": "white",
            "ticks": ""
           },
           "bgcolor": "#E5ECF6",
           "caxis": {
            "gridcolor": "white",
            "linecolor": "white",
            "ticks": ""
           }
          },
          "title": {
           "x": 0.05
          },
          "xaxis": {
           "automargin": true,
           "gridcolor": "white",
           "linecolor": "white",
           "ticks": "",
           "title": {
            "standoff": 15
           },
           "zerolinecolor": "white",
           "zerolinewidth": 2
          },
          "yaxis": {
           "automargin": true,
           "gridcolor": "white",
           "linecolor": "white",
           "ticks": "",
           "title": {
            "standoff": 15
           },
           "zerolinecolor": "white",
           "zerolinewidth": 2
          }
         }
        },
        "title": {
         "text": "Bookmaker Probability vs. Historical Probabilities for First Half of Matches"
        },
        "width": 1200,
        "xaxis": {
         "tickangle": 0,
         "tickmode": "array",
         "tickvals": [
          -1,
          -0.9,
          -0.8,
          -0.7,
          -0.6,
          -0.5,
          -0.3999999999999999,
          -0.29999999999999993,
          -0.19999999999999996,
          -0.09999999999999998,
          0,
          0.10000000000000009,
          0.20000000000000018,
          0.30000000000000004,
          0.40000000000000013,
          0.5,
          0.6000000000000001,
          0.7000000000000002,
          0.8,
          0.9000000000000001,
          1
         ],
         "title": {
          "text": "Bin Average"
         }
        },
        "yaxis": {
         "title": {
          "text": "Probabilities"
         }
        }
       }
      }
     },
     "metadata": {},
     "output_type": "display_data"
    },
    {
     "data": {
      "application/vnd.plotly.v1+json": {
       "config": {
        "plotlyServerURL": "https://plot.ly"
       },
       "data": [
        {
         "marker": {
          "color": "red"
         },
         "mode": "markers",
         "name": "Average Probabilities for Each Bin",
         "type": "scatter",
         "x": [
          -0.95,
          -0.8500000000000001,
          -0.75,
          -0.6499999999999999,
          -0.55,
          -0.44999999999999996,
          -0.3499999999999999,
          -0.24999999999999994,
          -0.14999999999999997,
          -0.04999999999999999,
          0.050000000000000044,
          0.15000000000000013,
          0.2500000000000001,
          0.3500000000000001,
          0.45000000000000007,
          0.55,
          0.6500000000000001,
          0.7500000000000001,
          0.8500000000000001,
          0.9500000000000001
         ],
         "y": [
          0.04190929547998276,
          0.10502461426698856,
          0.17680764914760008,
          0.22275841218404088,
          0.2640325153804923,
          0.292695855447137,
          0.35412886953418804,
          0.4075133510607478,
          0.47505591770433264,
          0.5834595094344728,
          0.6182362083657087,
          0.5135314259932001,
          0.4579852987179938,
          0.39878840522117653,
          0.32389579652621103,
          0.26600581614862057,
          0.217573190338876,
          0.1756656225878053,
          0.10908269332455608,
          0.04246183474110703
         ]
        },
        {
         "marker": {
          "color": "green"
         },
         "mode": "markers",
         "name": "Historical Probabilities for Each Bin",
         "type": "scatter",
         "x": [
          -0.95,
          -0.8500000000000001,
          -0.75,
          -0.6499999999999999,
          -0.55,
          -0.44999999999999996,
          -0.3499999999999999,
          -0.24999999999999994,
          -0.14999999999999997,
          -0.04999999999999999,
          0.050000000000000044,
          0.15000000000000013,
          0.2500000000000001,
          0.3500000000000001,
          0.45000000000000007,
          0.55,
          0.6500000000000001,
          0.7500000000000001,
          0.8500000000000001,
          0.9500000000000001
         ],
         "y": [
          0.04149659863945578,
          0.14860259032038173,
          0.1742671009771987,
          0.2490842490842491,
          0.33093525179856115,
          0.3673469387755102,
          0.37464788732394366,
          0.5127272727272727,
          0.5396145610278372,
          0.551038062283737,
          0.6019836136265632,
          0.5564681724845996,
          0.39065606361829025,
          0.3022151898734177,
          0.21660649819494585,
          0.23927392739273928,
          0.23225806451612904,
          0.21089879688605803,
          0.06104523495827844,
          0.03374354902739182
         ]
        }
       ],
       "layout": {
        "height": 600,
        "template": {
         "data": {
          "bar": [
           {
            "error_x": {
             "color": "#2a3f5f"
            },
            "error_y": {
             "color": "#2a3f5f"
            },
            "marker": {
             "line": {
              "color": "#E5ECF6",
              "width": 0.5
             },
             "pattern": {
              "fillmode": "overlay",
              "size": 10,
              "solidity": 0.2
             }
            },
            "type": "bar"
           }
          ],
          "barpolar": [
           {
            "marker": {
             "line": {
              "color": "#E5ECF6",
              "width": 0.5
             },
             "pattern": {
              "fillmode": "overlay",
              "size": 10,
              "solidity": 0.2
             }
            },
            "type": "barpolar"
           }
          ],
          "carpet": [
           {
            "aaxis": {
             "endlinecolor": "#2a3f5f",
             "gridcolor": "white",
             "linecolor": "white",
             "minorgridcolor": "white",
             "startlinecolor": "#2a3f5f"
            },
            "baxis": {
             "endlinecolor": "#2a3f5f",
             "gridcolor": "white",
             "linecolor": "white",
             "minorgridcolor": "white",
             "startlinecolor": "#2a3f5f"
            },
            "type": "carpet"
           }
          ],
          "choropleth": [
           {
            "colorbar": {
             "outlinewidth": 0,
             "ticks": ""
            },
            "type": "choropleth"
           }
          ],
          "contour": [
           {
            "colorbar": {
             "outlinewidth": 0,
             "ticks": ""
            },
            "colorscale": [
             [
              0,
              "#0d0887"
             ],
             [
              0.1111111111111111,
              "#46039f"
             ],
             [
              0.2222222222222222,
              "#7201a8"
             ],
             [
              0.3333333333333333,
              "#9c179e"
             ],
             [
              0.4444444444444444,
              "#bd3786"
             ],
             [
              0.5555555555555556,
              "#d8576b"
             ],
             [
              0.6666666666666666,
              "#ed7953"
             ],
             [
              0.7777777777777778,
              "#fb9f3a"
             ],
             [
              0.8888888888888888,
              "#fdca26"
             ],
             [
              1,
              "#f0f921"
             ]
            ],
            "type": "contour"
           }
          ],
          "contourcarpet": [
           {
            "colorbar": {
             "outlinewidth": 0,
             "ticks": ""
            },
            "type": "contourcarpet"
           }
          ],
          "heatmap": [
           {
            "colorbar": {
             "outlinewidth": 0,
             "ticks": ""
            },
            "colorscale": [
             [
              0,
              "#0d0887"
             ],
             [
              0.1111111111111111,
              "#46039f"
             ],
             [
              0.2222222222222222,
              "#7201a8"
             ],
             [
              0.3333333333333333,
              "#9c179e"
             ],
             [
              0.4444444444444444,
              "#bd3786"
             ],
             [
              0.5555555555555556,
              "#d8576b"
             ],
             [
              0.6666666666666666,
              "#ed7953"
             ],
             [
              0.7777777777777778,
              "#fb9f3a"
             ],
             [
              0.8888888888888888,
              "#fdca26"
             ],
             [
              1,
              "#f0f921"
             ]
            ],
            "type": "heatmap"
           }
          ],
          "heatmapgl": [
           {
            "colorbar": {
             "outlinewidth": 0,
             "ticks": ""
            },
            "colorscale": [
             [
              0,
              "#0d0887"
             ],
             [
              0.1111111111111111,
              "#46039f"
             ],
             [
              0.2222222222222222,
              "#7201a8"
             ],
             [
              0.3333333333333333,
              "#9c179e"
             ],
             [
              0.4444444444444444,
              "#bd3786"
             ],
             [
              0.5555555555555556,
              "#d8576b"
             ],
             [
              0.6666666666666666,
              "#ed7953"
             ],
             [
              0.7777777777777778,
              "#fb9f3a"
             ],
             [
              0.8888888888888888,
              "#fdca26"
             ],
             [
              1,
              "#f0f921"
             ]
            ],
            "type": "heatmapgl"
           }
          ],
          "histogram": [
           {
            "marker": {
             "pattern": {
              "fillmode": "overlay",
              "size": 10,
              "solidity": 0.2
             }
            },
            "type": "histogram"
           }
          ],
          "histogram2d": [
           {
            "colorbar": {
             "outlinewidth": 0,
             "ticks": ""
            },
            "colorscale": [
             [
              0,
              "#0d0887"
             ],
             [
              0.1111111111111111,
              "#46039f"
             ],
             [
              0.2222222222222222,
              "#7201a8"
             ],
             [
              0.3333333333333333,
              "#9c179e"
             ],
             [
              0.4444444444444444,
              "#bd3786"
             ],
             [
              0.5555555555555556,
              "#d8576b"
             ],
             [
              0.6666666666666666,
              "#ed7953"
             ],
             [
              0.7777777777777778,
              "#fb9f3a"
             ],
             [
              0.8888888888888888,
              "#fdca26"
             ],
             [
              1,
              "#f0f921"
             ]
            ],
            "type": "histogram2d"
           }
          ],
          "histogram2dcontour": [
           {
            "colorbar": {
             "outlinewidth": 0,
             "ticks": ""
            },
            "colorscale": [
             [
              0,
              "#0d0887"
             ],
             [
              0.1111111111111111,
              "#46039f"
             ],
             [
              0.2222222222222222,
              "#7201a8"
             ],
             [
              0.3333333333333333,
              "#9c179e"
             ],
             [
              0.4444444444444444,
              "#bd3786"
             ],
             [
              0.5555555555555556,
              "#d8576b"
             ],
             [
              0.6666666666666666,
              "#ed7953"
             ],
             [
              0.7777777777777778,
              "#fb9f3a"
             ],
             [
              0.8888888888888888,
              "#fdca26"
             ],
             [
              1,
              "#f0f921"
             ]
            ],
            "type": "histogram2dcontour"
           }
          ],
          "mesh3d": [
           {
            "colorbar": {
             "outlinewidth": 0,
             "ticks": ""
            },
            "type": "mesh3d"
           }
          ],
          "parcoords": [
           {
            "line": {
             "colorbar": {
              "outlinewidth": 0,
              "ticks": ""
             }
            },
            "type": "parcoords"
           }
          ],
          "pie": [
           {
            "automargin": true,
            "type": "pie"
           }
          ],
          "scatter": [
           {
            "fillpattern": {
             "fillmode": "overlay",
             "size": 10,
             "solidity": 0.2
            },
            "type": "scatter"
           }
          ],
          "scatter3d": [
           {
            "line": {
             "colorbar": {
              "outlinewidth": 0,
              "ticks": ""
             }
            },
            "marker": {
             "colorbar": {
              "outlinewidth": 0,
              "ticks": ""
             }
            },
            "type": "scatter3d"
           }
          ],
          "scattercarpet": [
           {
            "marker": {
             "colorbar": {
              "outlinewidth": 0,
              "ticks": ""
             }
            },
            "type": "scattercarpet"
           }
          ],
          "scattergeo": [
           {
            "marker": {
             "colorbar": {
              "outlinewidth": 0,
              "ticks": ""
             }
            },
            "type": "scattergeo"
           }
          ],
          "scattergl": [
           {
            "marker": {
             "colorbar": {
              "outlinewidth": 0,
              "ticks": ""
             }
            },
            "type": "scattergl"
           }
          ],
          "scattermapbox": [
           {
            "marker": {
             "colorbar": {
              "outlinewidth": 0,
              "ticks": ""
             }
            },
            "type": "scattermapbox"
           }
          ],
          "scatterpolar": [
           {
            "marker": {
             "colorbar": {
              "outlinewidth": 0,
              "ticks": ""
             }
            },
            "type": "scatterpolar"
           }
          ],
          "scatterpolargl": [
           {
            "marker": {
             "colorbar": {
              "outlinewidth": 0,
              "ticks": ""
             }
            },
            "type": "scatterpolargl"
           }
          ],
          "scatterternary": [
           {
            "marker": {
             "colorbar": {
              "outlinewidth": 0,
              "ticks": ""
             }
            },
            "type": "scatterternary"
           }
          ],
          "surface": [
           {
            "colorbar": {
             "outlinewidth": 0,
             "ticks": ""
            },
            "colorscale": [
             [
              0,
              "#0d0887"
             ],
             [
              0.1111111111111111,
              "#46039f"
             ],
             [
              0.2222222222222222,
              "#7201a8"
             ],
             [
              0.3333333333333333,
              "#9c179e"
             ],
             [
              0.4444444444444444,
              "#bd3786"
             ],
             [
              0.5555555555555556,
              "#d8576b"
             ],
             [
              0.6666666666666666,
              "#ed7953"
             ],
             [
              0.7777777777777778,
              "#fb9f3a"
             ],
             [
              0.8888888888888888,
              "#fdca26"
             ],
             [
              1,
              "#f0f921"
             ]
            ],
            "type": "surface"
           }
          ],
          "table": [
           {
            "cells": {
             "fill": {
              "color": "#EBF0F8"
             },
             "line": {
              "color": "white"
             }
            },
            "header": {
             "fill": {
              "color": "#C8D4E3"
             },
             "line": {
              "color": "white"
             }
            },
            "type": "table"
           }
          ]
         },
         "layout": {
          "annotationdefaults": {
           "arrowcolor": "#2a3f5f",
           "arrowhead": 0,
           "arrowwidth": 1
          },
          "autotypenumbers": "strict",
          "coloraxis": {
           "colorbar": {
            "outlinewidth": 0,
            "ticks": ""
           }
          },
          "colorscale": {
           "diverging": [
            [
             0,
             "#8e0152"
            ],
            [
             0.1,
             "#c51b7d"
            ],
            [
             0.2,
             "#de77ae"
            ],
            [
             0.3,
             "#f1b6da"
            ],
            [
             0.4,
             "#fde0ef"
            ],
            [
             0.5,
             "#f7f7f7"
            ],
            [
             0.6,
             "#e6f5d0"
            ],
            [
             0.7,
             "#b8e186"
            ],
            [
             0.8,
             "#7fbc41"
            ],
            [
             0.9,
             "#4d9221"
            ],
            [
             1,
             "#276419"
            ]
           ],
           "sequential": [
            [
             0,
             "#0d0887"
            ],
            [
             0.1111111111111111,
             "#46039f"
            ],
            [
             0.2222222222222222,
             "#7201a8"
            ],
            [
             0.3333333333333333,
             "#9c179e"
            ],
            [
             0.4444444444444444,
             "#bd3786"
            ],
            [
             0.5555555555555556,
             "#d8576b"
            ],
            [
             0.6666666666666666,
             "#ed7953"
            ],
            [
             0.7777777777777778,
             "#fb9f3a"
            ],
            [
             0.8888888888888888,
             "#fdca26"
            ],
            [
             1,
             "#f0f921"
            ]
           ],
           "sequentialminus": [
            [
             0,
             "#0d0887"
            ],
            [
             0.1111111111111111,
             "#46039f"
            ],
            [
             0.2222222222222222,
             "#7201a8"
            ],
            [
             0.3333333333333333,
             "#9c179e"
            ],
            [
             0.4444444444444444,
             "#bd3786"
            ],
            [
             0.5555555555555556,
             "#d8576b"
            ],
            [
             0.6666666666666666,
             "#ed7953"
            ],
            [
             0.7777777777777778,
             "#fb9f3a"
            ],
            [
             0.8888888888888888,
             "#fdca26"
            ],
            [
             1,
             "#f0f921"
            ]
           ]
          },
          "colorway": [
           "#636efa",
           "#EF553B",
           "#00cc96",
           "#ab63fa",
           "#FFA15A",
           "#19d3f3",
           "#FF6692",
           "#B6E880",
           "#FF97FF",
           "#FECB52"
          ],
          "font": {
           "color": "#2a3f5f"
          },
          "geo": {
           "bgcolor": "white",
           "lakecolor": "white",
           "landcolor": "#E5ECF6",
           "showlakes": true,
           "showland": true,
           "subunitcolor": "white"
          },
          "hoverlabel": {
           "align": "left"
          },
          "hovermode": "closest",
          "mapbox": {
           "style": "light"
          },
          "paper_bgcolor": "white",
          "plot_bgcolor": "#E5ECF6",
          "polar": {
           "angularaxis": {
            "gridcolor": "white",
            "linecolor": "white",
            "ticks": ""
           },
           "bgcolor": "#E5ECF6",
           "radialaxis": {
            "gridcolor": "white",
            "linecolor": "white",
            "ticks": ""
           }
          },
          "scene": {
           "xaxis": {
            "backgroundcolor": "#E5ECF6",
            "gridcolor": "white",
            "gridwidth": 2,
            "linecolor": "white",
            "showbackground": true,
            "ticks": "",
            "zerolinecolor": "white"
           },
           "yaxis": {
            "backgroundcolor": "#E5ECF6",
            "gridcolor": "white",
            "gridwidth": 2,
            "linecolor": "white",
            "showbackground": true,
            "ticks": "",
            "zerolinecolor": "white"
           },
           "zaxis": {
            "backgroundcolor": "#E5ECF6",
            "gridcolor": "white",
            "gridwidth": 2,
            "linecolor": "white",
            "showbackground": true,
            "ticks": "",
            "zerolinecolor": "white"
           }
          },
          "shapedefaults": {
           "line": {
            "color": "#2a3f5f"
           }
          },
          "ternary": {
           "aaxis": {
            "gridcolor": "white",
            "linecolor": "white",
            "ticks": ""
           },
           "baxis": {
            "gridcolor": "white",
            "linecolor": "white",
            "ticks": ""
           },
           "bgcolor": "#E5ECF6",
           "caxis": {
            "gridcolor": "white",
            "linecolor": "white",
            "ticks": ""
           }
          },
          "title": {
           "x": 0.05
          },
          "xaxis": {
           "automargin": true,
           "gridcolor": "white",
           "linecolor": "white",
           "ticks": "",
           "title": {
            "standoff": 15
           },
           "zerolinecolor": "white",
           "zerolinewidth": 2
          },
          "yaxis": {
           "automargin": true,
           "gridcolor": "white",
           "linecolor": "white",
           "ticks": "",
           "title": {
            "standoff": 15
           },
           "zerolinecolor": "white",
           "zerolinewidth": 2
          }
         }
        },
        "title": {
         "text": "Bookmaker Probability vs. Historical Probabilities for Second Half of Matches"
        },
        "width": 1200,
        "xaxis": {
         "tickangle": 0,
         "tickmode": "array",
         "tickvals": [
          -1,
          -0.9,
          -0.8,
          -0.7,
          -0.6,
          -0.5,
          -0.3999999999999999,
          -0.29999999999999993,
          -0.19999999999999996,
          -0.09999999999999998,
          0,
          0.10000000000000009,
          0.20000000000000018,
          0.30000000000000004,
          0.40000000000000013,
          0.5,
          0.6000000000000001,
          0.7000000000000002,
          0.8,
          0.9000000000000001,
          1
         ],
         "title": {
          "text": "Bin Average"
         }
        },
        "yaxis": {
         "title": {
          "text": "Probabilities"
         }
        }
       }
      }
     },
     "metadata": {},
     "output_type": "display_data"
    }
   ],
   "source": [
    "task2_df = task1(filtered_match_data)\n",
    "plotdf_task_2_1st, plotdf_task_2_2nd = bins_function(task2_df)\n",
    "plot(plotdf_task_2_1st, 'First')\n",
    "plot(plotdf_task_2_2nd, 'Second')\n"
   ]
  },
  {
   "cell_type": "markdown",
   "metadata": {},
   "source": [
    "When we exclude the matches where red cards are shown, the results we get do not differ much. If a red card is shown in the early minutes, the bettors immediately revise the odds, but if a red card is shown in the late minutes, the result of the match does not change much. The reason why the cards drawn in the early minutes do not affect our results is that the odds in the remaining minutes are more accurate and therefore have a higher weight when analyzing the data."
   ]
  },
  {
   "cell_type": "markdown",
   "metadata": {},
   "source": [
    "## TASK-3"
   ]
  },
  {
   "cell_type": "markdown",
   "metadata": {},
   "source": [
    "Firstly, the features will be used for decision tree model are determined."
   ]
  },
  {
   "cell_type": "code",
   "execution_count": 151,
   "metadata": {},
   "outputs": [
    {
     "data": {
      "text/plain": [
       "['fixture_id',\n",
       " 'halftime',\n",
       " 'current_time',\n",
       " 'half_start_datetime',\n",
       " 'match_start_datetime',\n",
       " 'minute',\n",
       " 'second',\n",
       " 'latest_bookmaker_update',\n",
       " 'suspended',\n",
       " 'stopped',\n",
       " '1',\n",
       " '2',\n",
       " 'X',\n",
       " 'name',\n",
       " 'ticking',\n",
       " 'Accurate Crosses - away',\n",
       " 'Accurate Crosses - home',\n",
       " 'Assists - away',\n",
       " 'Assists - home',\n",
       " 'Attacks - away',\n",
       " 'Attacks - home',\n",
       " 'Ball Possession % - away',\n",
       " 'Ball Possession % - home',\n",
       " 'Ball Safe - away',\n",
       " 'Ball Safe - home',\n",
       " 'Challenges - away',\n",
       " 'Challenges - home',\n",
       " 'Corners - away',\n",
       " 'Corners - home',\n",
       " 'Counter Attacks - away',\n",
       " 'Counter Attacks - home',\n",
       " 'Dangerous Attacks - away',\n",
       " 'Dangerous Attacks - home',\n",
       " 'Dribble Attempts - away',\n",
       " 'Dribble Attempts - home',\n",
       " 'Fouls - away',\n",
       " 'Fouls - home',\n",
       " 'Free Kicks - away',\n",
       " 'Free Kicks - home',\n",
       " 'Goal Attempts - away',\n",
       " 'Goal Attempts - home',\n",
       " 'Goal Kicks - away',\n",
       " 'Goal Kicks - home',\n",
       " 'Goals - away',\n",
       " 'Goals - home',\n",
       " 'Headers - away',\n",
       " 'Headers - home',\n",
       " 'Hit Woodwork - away',\n",
       " 'Hit Woodwork - home',\n",
       " 'Injuries - away',\n",
       " 'Injuries - home',\n",
       " 'Interceptions - away',\n",
       " 'Interceptions - home',\n",
       " 'Key Passes - away',\n",
       " 'Key Passes - home',\n",
       " 'Long Passes - away',\n",
       " 'Long Passes - home',\n",
       " 'Offsides - away',\n",
       " 'Offsides - home',\n",
       " 'Passes - away',\n",
       " 'Passes - home',\n",
       " 'Penalties - away',\n",
       " 'Penalties - home',\n",
       " 'Redcards - away',\n",
       " 'Redcards - home',\n",
       " 'Saves - away',\n",
       " 'Saves - home',\n",
       " 'Score Change - away',\n",
       " 'Score Change - home',\n",
       " 'Shots Blocked - away',\n",
       " 'Shots Blocked - home',\n",
       " 'Shots Insidebox - away',\n",
       " 'Shots Insidebox - home',\n",
       " 'Shots Off Target - away',\n",
       " 'Shots Off Target - home',\n",
       " 'Shots On Target - away',\n",
       " 'Shots On Target - home',\n",
       " 'Shots Outsidebox - away',\n",
       " 'Shots Outsidebox - home',\n",
       " 'Shots Total - away',\n",
       " 'Shots Total - home',\n",
       " 'Substitutions - away',\n",
       " 'Substitutions - home',\n",
       " 'Successful Dribbles - away',\n",
       " 'Successful Dribbles - home',\n",
       " 'Successful Headers - away',\n",
       " 'Successful Headers - home',\n",
       " 'Successful Interceptions - away',\n",
       " 'Successful Interceptions - home',\n",
       " 'Successful Passes - away',\n",
       " 'Successful Passes - home',\n",
       " 'Successful Passes Percentage - away',\n",
       " 'Successful Passes Percentage - home',\n",
       " 'Tackles - away',\n",
       " 'Tackles - home',\n",
       " 'Throwins - away',\n",
       " 'Throwins - home',\n",
       " 'Total Crosses - away',\n",
       " 'Total Crosses - home',\n",
       " 'Yellowcards - away',\n",
       " 'Yellowcards - home',\n",
       " 'Yellowred Cards - away',\n",
       " 'Yellowred Cards - home',\n",
       " 'current_state',\n",
       " 'final_score',\n",
       " 'result']"
      ]
     },
     "execution_count": 151,
     "metadata": {},
     "output_type": "execute_result"
    }
   ],
   "source": [
    "[x for x in match_data.columns]"
   ]
  },
  {
   "cell_type": "markdown",
   "metadata": {},
   "source": [
    "fixture_id, current_time, half_start_datetime, match_start_datetime, latest_bookmaker_update, suspended, stopped, name, ticking, finalscore,  'Score Change - away',\n",
    " 'Score Change - home',"
   ]
  },
  {
   "cell_type": "code",
   "execution_count": null,
   "metadata": {},
   "outputs": [
    {
     "data": {
      "text/html": [
       "<div>\n",
       "<style scoped>\n",
       "    .dataframe tbody tr th:only-of-type {\n",
       "        vertical-align: middle;\n",
       "    }\n",
       "\n",
       "    .dataframe tbody tr th {\n",
       "        vertical-align: top;\n",
       "    }\n",
       "\n",
       "    .dataframe thead th {\n",
       "        text-align: right;\n",
       "    }\n",
       "</style>\n",
       "<table border=\"1\" class=\"dataframe\">\n",
       "  <thead>\n",
       "    <tr style=\"text-align: right;\">\n",
       "      <th></th>\n",
       "      <th>halftime</th>\n",
       "      <th>minute</th>\n",
       "      <th>second</th>\n",
       "      <th>Accurate Crosses - away</th>\n",
       "      <th>Accurate Crosses - home</th>\n",
       "      <th>Assists - away</th>\n",
       "      <th>Assists - home</th>\n",
       "      <th>Attacks - away</th>\n",
       "      <th>Attacks - home</th>\n",
       "      <th>Ball Possession % - away</th>\n",
       "      <th>...</th>\n",
       "      <th>Throwins - away</th>\n",
       "      <th>Throwins - home</th>\n",
       "      <th>Total Crosses - away</th>\n",
       "      <th>Total Crosses - home</th>\n",
       "      <th>Yellowcards - away</th>\n",
       "      <th>Yellowcards - home</th>\n",
       "      <th>Yellowred Cards - away</th>\n",
       "      <th>Yellowred Cards - home</th>\n",
       "      <th>current_state</th>\n",
       "      <th>result</th>\n",
       "    </tr>\n",
       "  </thead>\n",
       "  <tbody>\n",
       "    <tr>\n",
       "      <th>0</th>\n",
       "      <td>1st-half</td>\n",
       "      <td>9</td>\n",
       "      <td>59</td>\n",
       "      <td>0.0</td>\n",
       "      <td>0.0</td>\n",
       "      <td>0.0</td>\n",
       "      <td>0.0</td>\n",
       "      <td>2.0</td>\n",
       "      <td>18.0</td>\n",
       "      <td>28.0</td>\n",
       "      <td>...</td>\n",
       "      <td>3.0</td>\n",
       "      <td>1.0</td>\n",
       "      <td>0.0</td>\n",
       "      <td>3.0</td>\n",
       "      <td>0.0</td>\n",
       "      <td>0.0</td>\n",
       "      <td>0.0</td>\n",
       "      <td>0.0</td>\n",
       "      <td>X</td>\n",
       "      <td>1</td>\n",
       "    </tr>\n",
       "    <tr>\n",
       "      <th>1</th>\n",
       "      <td>1st-half</td>\n",
       "      <td>25</td>\n",
       "      <td>53</td>\n",
       "      <td>0.0</td>\n",
       "      <td>1.0</td>\n",
       "      <td>0.0</td>\n",
       "      <td>0.0</td>\n",
       "      <td>12.0</td>\n",
       "      <td>40.0</td>\n",
       "      <td>24.0</td>\n",
       "      <td>...</td>\n",
       "      <td>6.0</td>\n",
       "      <td>11.0</td>\n",
       "      <td>1.0</td>\n",
       "      <td>12.0</td>\n",
       "      <td>0.0</td>\n",
       "      <td>0.0</td>\n",
       "      <td>0.0</td>\n",
       "      <td>0.0</td>\n",
       "      <td>X</td>\n",
       "      <td>1</td>\n",
       "    </tr>\n",
       "    <tr>\n",
       "      <th>2</th>\n",
       "      <td>1st-half</td>\n",
       "      <td>26</td>\n",
       "      <td>48</td>\n",
       "      <td>0.0</td>\n",
       "      <td>1.0</td>\n",
       "      <td>0.0</td>\n",
       "      <td>0.0</td>\n",
       "      <td>12.0</td>\n",
       "      <td>40.0</td>\n",
       "      <td>21.0</td>\n",
       "      <td>...</td>\n",
       "      <td>6.0</td>\n",
       "      <td>11.0</td>\n",
       "      <td>1.0</td>\n",
       "      <td>13.0</td>\n",
       "      <td>0.0</td>\n",
       "      <td>0.0</td>\n",
       "      <td>0.0</td>\n",
       "      <td>0.0</td>\n",
       "      <td>X</td>\n",
       "      <td>1</td>\n",
       "    </tr>\n",
       "    <tr>\n",
       "      <th>3</th>\n",
       "      <td>1st-half</td>\n",
       "      <td>27</td>\n",
       "      <td>55</td>\n",
       "      <td>0.0</td>\n",
       "      <td>1.0</td>\n",
       "      <td>0.0</td>\n",
       "      <td>0.0</td>\n",
       "      <td>12.0</td>\n",
       "      <td>42.0</td>\n",
       "      <td>22.0</td>\n",
       "      <td>...</td>\n",
       "      <td>6.0</td>\n",
       "      <td>11.0</td>\n",
       "      <td>1.0</td>\n",
       "      <td>13.0</td>\n",
       "      <td>0.0</td>\n",
       "      <td>0.0</td>\n",
       "      <td>0.0</td>\n",
       "      <td>0.0</td>\n",
       "      <td>X</td>\n",
       "      <td>1</td>\n",
       "    </tr>\n",
       "    <tr>\n",
       "      <th>8</th>\n",
       "      <td>1st-half</td>\n",
       "      <td>32</td>\n",
       "      <td>41</td>\n",
       "      <td>0.0</td>\n",
       "      <td>1.0</td>\n",
       "      <td>0.0</td>\n",
       "      <td>0.0</td>\n",
       "      <td>15.0</td>\n",
       "      <td>46.0</td>\n",
       "      <td>21.0</td>\n",
       "      <td>...</td>\n",
       "      <td>7.0</td>\n",
       "      <td>11.0</td>\n",
       "      <td>1.0</td>\n",
       "      <td>14.0</td>\n",
       "      <td>0.0</td>\n",
       "      <td>0.0</td>\n",
       "      <td>0.0</td>\n",
       "      <td>0.0</td>\n",
       "      <td>X</td>\n",
       "      <td>1</td>\n",
       "    </tr>\n",
       "    <tr>\n",
       "      <th>...</th>\n",
       "      <td>...</td>\n",
       "      <td>...</td>\n",
       "      <td>...</td>\n",
       "      <td>...</td>\n",
       "      <td>...</td>\n",
       "      <td>...</td>\n",
       "      <td>...</td>\n",
       "      <td>...</td>\n",
       "      <td>...</td>\n",
       "      <td>...</td>\n",
       "      <td>...</td>\n",
       "      <td>...</td>\n",
       "      <td>...</td>\n",
       "      <td>...</td>\n",
       "      <td>...</td>\n",
       "      <td>...</td>\n",
       "      <td>...</td>\n",
       "      <td>...</td>\n",
       "      <td>...</td>\n",
       "      <td>...</td>\n",
       "      <td>...</td>\n",
       "    </tr>\n",
       "    <tr>\n",
       "      <th>63937</th>\n",
       "      <td>2nd-half</td>\n",
       "      <td>44</td>\n",
       "      <td>42</td>\n",
       "      <td>4.0</td>\n",
       "      <td>3.0</td>\n",
       "      <td>0.0</td>\n",
       "      <td>1.0</td>\n",
       "      <td>107.0</td>\n",
       "      <td>73.0</td>\n",
       "      <td>68.0</td>\n",
       "      <td>...</td>\n",
       "      <td>0.0</td>\n",
       "      <td>0.0</td>\n",
       "      <td>19.0</td>\n",
       "      <td>10.0</td>\n",
       "      <td>1.0</td>\n",
       "      <td>3.0</td>\n",
       "      <td>0.0</td>\n",
       "      <td>0.0</td>\n",
       "      <td>1</td>\n",
       "      <td>1</td>\n",
       "    </tr>\n",
       "    <tr>\n",
       "      <th>63938</th>\n",
       "      <td>2nd-half</td>\n",
       "      <td>45</td>\n",
       "      <td>42</td>\n",
       "      <td>4.0</td>\n",
       "      <td>3.0</td>\n",
       "      <td>0.0</td>\n",
       "      <td>1.0</td>\n",
       "      <td>109.0</td>\n",
       "      <td>73.0</td>\n",
       "      <td>68.0</td>\n",
       "      <td>...</td>\n",
       "      <td>0.0</td>\n",
       "      <td>0.0</td>\n",
       "      <td>19.0</td>\n",
       "      <td>10.0</td>\n",
       "      <td>1.0</td>\n",
       "      <td>3.0</td>\n",
       "      <td>0.0</td>\n",
       "      <td>0.0</td>\n",
       "      <td>1</td>\n",
       "      <td>1</td>\n",
       "    </tr>\n",
       "    <tr>\n",
       "      <th>63939</th>\n",
       "      <td>2nd-half</td>\n",
       "      <td>46</td>\n",
       "      <td>42</td>\n",
       "      <td>4.0</td>\n",
       "      <td>3.0</td>\n",
       "      <td>0.0</td>\n",
       "      <td>1.0</td>\n",
       "      <td>112.0</td>\n",
       "      <td>73.0</td>\n",
       "      <td>68.0</td>\n",
       "      <td>...</td>\n",
       "      <td>0.0</td>\n",
       "      <td>0.0</td>\n",
       "      <td>19.0</td>\n",
       "      <td>10.0</td>\n",
       "      <td>1.0</td>\n",
       "      <td>3.0</td>\n",
       "      <td>0.0</td>\n",
       "      <td>0.0</td>\n",
       "      <td>1</td>\n",
       "      <td>1</td>\n",
       "    </tr>\n",
       "    <tr>\n",
       "      <th>63940</th>\n",
       "      <td>2nd-half</td>\n",
       "      <td>47</td>\n",
       "      <td>42</td>\n",
       "      <td>4.0</td>\n",
       "      <td>3.0</td>\n",
       "      <td>0.0</td>\n",
       "      <td>1.0</td>\n",
       "      <td>118.0</td>\n",
       "      <td>73.0</td>\n",
       "      <td>68.0</td>\n",
       "      <td>...</td>\n",
       "      <td>0.0</td>\n",
       "      <td>0.0</td>\n",
       "      <td>19.0</td>\n",
       "      <td>10.0</td>\n",
       "      <td>1.0</td>\n",
       "      <td>3.0</td>\n",
       "      <td>0.0</td>\n",
       "      <td>0.0</td>\n",
       "      <td>1</td>\n",
       "      <td>1</td>\n",
       "    </tr>\n",
       "    <tr>\n",
       "      <th>63941</th>\n",
       "      <td>2nd-half</td>\n",
       "      <td>48</td>\n",
       "      <td>42</td>\n",
       "      <td>4.0</td>\n",
       "      <td>3.0</td>\n",
       "      <td>0.0</td>\n",
       "      <td>1.0</td>\n",
       "      <td>122.0</td>\n",
       "      <td>73.0</td>\n",
       "      <td>68.0</td>\n",
       "      <td>...</td>\n",
       "      <td>0.0</td>\n",
       "      <td>0.0</td>\n",
       "      <td>21.0</td>\n",
       "      <td>10.0</td>\n",
       "      <td>1.0</td>\n",
       "      <td>3.0</td>\n",
       "      <td>0.0</td>\n",
       "      <td>0.0</td>\n",
       "      <td>1</td>\n",
       "      <td>1</td>\n",
       "    </tr>\n",
       "  </tbody>\n",
       "</table>\n",
       "<p>55655 rows × 93 columns</p>\n",
       "</div>"
      ],
      "text/plain": [
       "       halftime  minute  second  Accurate Crosses - away  \\\n",
       "0      1st-half       9      59                      0.0   \n",
       "1      1st-half      25      53                      0.0   \n",
       "2      1st-half      26      48                      0.0   \n",
       "3      1st-half      27      55                      0.0   \n",
       "8      1st-half      32      41                      0.0   \n",
       "...         ...     ...     ...                      ...   \n",
       "63937  2nd-half      44      42                      4.0   \n",
       "63938  2nd-half      45      42                      4.0   \n",
       "63939  2nd-half      46      42                      4.0   \n",
       "63940  2nd-half      47      42                      4.0   \n",
       "63941  2nd-half      48      42                      4.0   \n",
       "\n",
       "       Accurate Crosses - home  Assists - away  Assists - home  \\\n",
       "0                          0.0             0.0             0.0   \n",
       "1                          1.0             0.0             0.0   \n",
       "2                          1.0             0.0             0.0   \n",
       "3                          1.0             0.0             0.0   \n",
       "8                          1.0             0.0             0.0   \n",
       "...                        ...             ...             ...   \n",
       "63937                      3.0             0.0             1.0   \n",
       "63938                      3.0             0.0             1.0   \n",
       "63939                      3.0             0.0             1.0   \n",
       "63940                      3.0             0.0             1.0   \n",
       "63941                      3.0             0.0             1.0   \n",
       "\n",
       "       Attacks - away  Attacks - home  Ball Possession % - away  ...  \\\n",
       "0                 2.0            18.0                      28.0  ...   \n",
       "1                12.0            40.0                      24.0  ...   \n",
       "2                12.0            40.0                      21.0  ...   \n",
       "3                12.0            42.0                      22.0  ...   \n",
       "8                15.0            46.0                      21.0  ...   \n",
       "...               ...             ...                       ...  ...   \n",
       "63937           107.0            73.0                      68.0  ...   \n",
       "63938           109.0            73.0                      68.0  ...   \n",
       "63939           112.0            73.0                      68.0  ...   \n",
       "63940           118.0            73.0                      68.0  ...   \n",
       "63941           122.0            73.0                      68.0  ...   \n",
       "\n",
       "       Throwins - away  Throwins - home  Total Crosses - away  \\\n",
       "0                  3.0              1.0                   0.0   \n",
       "1                  6.0             11.0                   1.0   \n",
       "2                  6.0             11.0                   1.0   \n",
       "3                  6.0             11.0                   1.0   \n",
       "8                  7.0             11.0                   1.0   \n",
       "...                ...              ...                   ...   \n",
       "63937              0.0              0.0                  19.0   \n",
       "63938              0.0              0.0                  19.0   \n",
       "63939              0.0              0.0                  19.0   \n",
       "63940              0.0              0.0                  19.0   \n",
       "63941              0.0              0.0                  21.0   \n",
       "\n",
       "       Total Crosses - home  Yellowcards - away  Yellowcards - home  \\\n",
       "0                       3.0                 0.0                 0.0   \n",
       "1                      12.0                 0.0                 0.0   \n",
       "2                      13.0                 0.0                 0.0   \n",
       "3                      13.0                 0.0                 0.0   \n",
       "8                      14.0                 0.0                 0.0   \n",
       "...                     ...                 ...                 ...   \n",
       "63937                  10.0                 1.0                 3.0   \n",
       "63938                  10.0                 1.0                 3.0   \n",
       "63939                  10.0                 1.0                 3.0   \n",
       "63940                  10.0                 1.0                 3.0   \n",
       "63941                  10.0                 1.0                 3.0   \n",
       "\n",
       "       Yellowred Cards - away  Yellowred Cards - home  current_state  result  \n",
       "0                         0.0                     0.0              X       1  \n",
       "1                         0.0                     0.0              X       1  \n",
       "2                         0.0                     0.0              X       1  \n",
       "3                         0.0                     0.0              X       1  \n",
       "8                         0.0                     0.0              X       1  \n",
       "...                       ...                     ...            ...     ...  \n",
       "63937                     0.0                     0.0              1       1  \n",
       "63938                     0.0                     0.0              1       1  \n",
       "63939                     0.0                     0.0              1       1  \n",
       "63940                     0.0                     0.0              1       1  \n",
       "63941                     0.0                     0.0              1       1  \n",
       "\n",
       "[55655 rows x 93 columns]"
      ]
     },
     "execution_count": 152,
     "metadata": {},
     "output_type": "execute_result"
    }
   ],
   "source": [
    "tree_match_data = match_data.drop(['fixture_id', 'current_time', 'half_start_datetime', 'match_start_datetime', 'latest_bookmaker_update', 'suspended', 'stopped', '1', '2', 'X', 'name', 'ticking', 'final_score'], axis=1)\n",
    "tree_match_data = tree_match_data.fillna(0)\n",
    "tree_match_data\n"
   ]
  },
  {
   "cell_type": "code",
   "execution_count": 162,
   "metadata": {},
   "outputs": [],
   "source": [
    "from sklearn.model_selection import train_test_split\n",
    "from sklearn.tree import DecisionTreeClassifier, plot_tree\n",
    "from sklearn.compose import ColumnTransformer\n",
    "from sklearn.preprocessing import OneHotEncoder\n",
    "from sklearn.metrics import accuracy_score"
   ]
  },
  {
   "cell_type": "code",
   "execution_count": 165,
   "metadata": {},
   "outputs": [
    {
     "name": "stdout",
     "output_type": "stream",
     "text": [
      "Accuracy: 0.6291438325397538\n"
     ]
    }
   ],
   "source": [
    "X = tree_match_data.drop(['result'], axis=1)\n",
    "Y = tree_match_data['result']\n",
    "\n",
    "categorical_features = ['current_state', 'Score Change - away', 'Score Change - home', 'halftime']\n",
    "numerical_features = [col for col in X.columns if col not in categorical_features]\n",
    "\n",
    "for col in categorical_features:\n",
    "    X[col] = X[col].astype(str)\n",
    "\n",
    "preprocessor = ColumnTransformer(\n",
    "    transformers=[\n",
    "        ('num', 'passthrough', numerical_features),\n",
    "        ('cat', OneHotEncoder(handle_unknown='ignore'), categorical_features)\n",
    "    ])\n",
    "\n",
    "X_transformed = preprocessor.fit_transform(X)\n",
    "\n",
    "X_train, X_test, y_train, y_test = train_test_split(X_transformed, Y, test_size=0.2, random_state=42)\n",
    "\n",
    "clf = DecisionTreeClassifier(criterion='gini', max_depth=5, random_state=42)\n",
    "clf.fit(X_train, y_train)\n",
    "\n",
    "# Test verisiyle tahmin yap\n",
    "y_pred = clf.predict(X_test)\n",
    "\n",
    "# Modelin performansını değerlendir\n",
    "print(\"Accuracy:\", accuracy_score(y_test, y_pred))\n",
    "\n"
   ]
  },
  {
   "cell_type": "code",
   "execution_count": 181,
   "metadata": {},
   "outputs": [
    {
     "ename": "KeyError",
     "evalue": "('halftime', 'normalized_P_home', 'normalized_P_draw', 'normalized_P_away')",
     "output_type": "error",
     "traceback": [
      "\u001b[1;31m---------------------------------------------------------------------------\u001b[0m",
      "\u001b[1;31mKeyError\u001b[0m                                  Traceback (most recent call last)",
      "File \u001b[1;32m~\\AppData\\Local\\Packages\\PythonSoftwareFoundation.Python.3.10_qbz5n2kfra8p0\\LocalCache\\local-packages\\Python310\\site-packages\\pandas\\core\\indexes\\base.py:3805\u001b[0m, in \u001b[0;36mIndex.get_loc\u001b[1;34m(self, key)\u001b[0m\n\u001b[0;32m   3804\u001b[0m \u001b[38;5;28;01mtry\u001b[39;00m:\n\u001b[1;32m-> 3805\u001b[0m     \u001b[38;5;28;01mreturn\u001b[39;00m \u001b[38;5;28;43mself\u001b[39;49m\u001b[38;5;241;43m.\u001b[39;49m\u001b[43m_engine\u001b[49m\u001b[38;5;241;43m.\u001b[39;49m\u001b[43mget_loc\u001b[49m\u001b[43m(\u001b[49m\u001b[43mcasted_key\u001b[49m\u001b[43m)\u001b[49m\n\u001b[0;32m   3806\u001b[0m \u001b[38;5;28;01mexcept\u001b[39;00m \u001b[38;5;167;01mKeyError\u001b[39;00m \u001b[38;5;28;01mas\u001b[39;00m err:\n",
      "File \u001b[1;32mindex.pyx:167\u001b[0m, in \u001b[0;36mpandas._libs.index.IndexEngine.get_loc\u001b[1;34m()\u001b[0m\n",
      "File \u001b[1;32mindex.pyx:196\u001b[0m, in \u001b[0;36mpandas._libs.index.IndexEngine.get_loc\u001b[1;34m()\u001b[0m\n",
      "File \u001b[1;32mpandas\\\\_libs\\\\hashtable_class_helper.pxi:7081\u001b[0m, in \u001b[0;36mpandas._libs.hashtable.PyObjectHashTable.get_item\u001b[1;34m()\u001b[0m\n",
      "File \u001b[1;32mpandas\\\\_libs\\\\hashtable_class_helper.pxi:7089\u001b[0m, in \u001b[0;36mpandas._libs.hashtable.PyObjectHashTable.get_item\u001b[1;34m()\u001b[0m\n",
      "\u001b[1;31mKeyError\u001b[0m: ('halftime', 'normalized_P_home', 'normalized_P_draw', 'normalized_P_away')",
      "\nThe above exception was the direct cause of the following exception:\n",
      "\u001b[1;31mKeyError\u001b[0m                                  Traceback (most recent call last)",
      "Cell \u001b[1;32mIn[181], line 2\u001b[0m\n\u001b[0;32m      1\u001b[0m second_tree_match_data \u001b[38;5;241m=\u001b[39m task1(match_data)\n\u001b[1;32m----> 2\u001b[0m second_tree_match_data \u001b[38;5;241m=\u001b[39m \u001b[43msecond_tree_match_data\u001b[49m\u001b[43m[\u001b[49m\u001b[38;5;124;43m'\u001b[39;49m\u001b[38;5;124;43mhalftime\u001b[39;49m\u001b[38;5;124;43m'\u001b[39;49m\u001b[43m,\u001b[49m\u001b[43m \u001b[49m\u001b[38;5;124;43m'\u001b[39;49m\u001b[38;5;124;43mnormalized_P_home\u001b[39;49m\u001b[38;5;124;43m'\u001b[39;49m\u001b[43m,\u001b[49m\u001b[43m \u001b[49m\u001b[38;5;124;43m'\u001b[39;49m\u001b[38;5;124;43mnormalized_P_draw\u001b[39;49m\u001b[38;5;124;43m'\u001b[39;49m\u001b[43m,\u001b[49m\u001b[43m \u001b[49m\u001b[38;5;124;43m'\u001b[39;49m\u001b[38;5;124;43mnormalized_P_away\u001b[39;49m\u001b[38;5;124;43m'\u001b[39;49m\u001b[43m]\u001b[49m\n",
      "File \u001b[1;32m~\\AppData\\Local\\Packages\\PythonSoftwareFoundation.Python.3.10_qbz5n2kfra8p0\\LocalCache\\local-packages\\Python310\\site-packages\\pandas\\core\\frame.py:4102\u001b[0m, in \u001b[0;36mDataFrame.__getitem__\u001b[1;34m(self, key)\u001b[0m\n\u001b[0;32m   4100\u001b[0m \u001b[38;5;28;01mif\u001b[39;00m \u001b[38;5;28mself\u001b[39m\u001b[38;5;241m.\u001b[39mcolumns\u001b[38;5;241m.\u001b[39mnlevels \u001b[38;5;241m>\u001b[39m \u001b[38;5;241m1\u001b[39m:\n\u001b[0;32m   4101\u001b[0m     \u001b[38;5;28;01mreturn\u001b[39;00m \u001b[38;5;28mself\u001b[39m\u001b[38;5;241m.\u001b[39m_getitem_multilevel(key)\n\u001b[1;32m-> 4102\u001b[0m indexer \u001b[38;5;241m=\u001b[39m \u001b[38;5;28;43mself\u001b[39;49m\u001b[38;5;241;43m.\u001b[39;49m\u001b[43mcolumns\u001b[49m\u001b[38;5;241;43m.\u001b[39;49m\u001b[43mget_loc\u001b[49m\u001b[43m(\u001b[49m\u001b[43mkey\u001b[49m\u001b[43m)\u001b[49m\n\u001b[0;32m   4103\u001b[0m \u001b[38;5;28;01mif\u001b[39;00m is_integer(indexer):\n\u001b[0;32m   4104\u001b[0m     indexer \u001b[38;5;241m=\u001b[39m [indexer]\n",
      "File \u001b[1;32m~\\AppData\\Local\\Packages\\PythonSoftwareFoundation.Python.3.10_qbz5n2kfra8p0\\LocalCache\\local-packages\\Python310\\site-packages\\pandas\\core\\indexes\\base.py:3812\u001b[0m, in \u001b[0;36mIndex.get_loc\u001b[1;34m(self, key)\u001b[0m\n\u001b[0;32m   3807\u001b[0m     \u001b[38;5;28;01mif\u001b[39;00m \u001b[38;5;28misinstance\u001b[39m(casted_key, \u001b[38;5;28mslice\u001b[39m) \u001b[38;5;129;01mor\u001b[39;00m (\n\u001b[0;32m   3808\u001b[0m         \u001b[38;5;28misinstance\u001b[39m(casted_key, abc\u001b[38;5;241m.\u001b[39mIterable)\n\u001b[0;32m   3809\u001b[0m         \u001b[38;5;129;01mand\u001b[39;00m \u001b[38;5;28many\u001b[39m(\u001b[38;5;28misinstance\u001b[39m(x, \u001b[38;5;28mslice\u001b[39m) \u001b[38;5;28;01mfor\u001b[39;00m x \u001b[38;5;129;01min\u001b[39;00m casted_key)\n\u001b[0;32m   3810\u001b[0m     ):\n\u001b[0;32m   3811\u001b[0m         \u001b[38;5;28;01mraise\u001b[39;00m InvalidIndexError(key)\n\u001b[1;32m-> 3812\u001b[0m     \u001b[38;5;28;01mraise\u001b[39;00m \u001b[38;5;167;01mKeyError\u001b[39;00m(key) \u001b[38;5;28;01mfrom\u001b[39;00m \u001b[38;5;21;01merr\u001b[39;00m\n\u001b[0;32m   3813\u001b[0m \u001b[38;5;28;01mexcept\u001b[39;00m \u001b[38;5;167;01mTypeError\u001b[39;00m:\n\u001b[0;32m   3814\u001b[0m     \u001b[38;5;66;03m# If we have a listlike key, _check_indexing_error will raise\u001b[39;00m\n\u001b[0;32m   3815\u001b[0m     \u001b[38;5;66;03m#  InvalidIndexError. Otherwise we fall through and re-raise\u001b[39;00m\n\u001b[0;32m   3816\u001b[0m     \u001b[38;5;66;03m#  the TypeError.\u001b[39;00m\n\u001b[0;32m   3817\u001b[0m     \u001b[38;5;28mself\u001b[39m\u001b[38;5;241m.\u001b[39m_check_indexing_error(key)\n",
      "\u001b[1;31mKeyError\u001b[0m: ('halftime', 'normalized_P_home', 'normalized_P_draw', 'normalized_P_away')"
     ]
    }
   ],
   "source": [
    "second_tree_match_data = task1(match_data)\n",
    "second_tree_match_data = second_tree_match_data['halftime', 'normalized_P_home', 'normalized_P_draw', 'normalized_P_away']"
   ]
  },
  {
   "cell_type": "markdown",
   "metadata": {},
   "source": []
  },
  {
   "cell_type": "markdown",
   "metadata": {},
   "source": [
    "her sütunda kaç tane nan olduğu belirlenecek önce\n",
    "decision tree kısmı için de nan olan bazı datalara 0 atıyıcaz"
   ]
  }
 ],
 "metadata": {
  "kernelspec": {
   "display_name": "Python 3",
   "language": "python",
   "name": "python3"
  },
  "language_info": {
   "codemirror_mode": {
    "name": "ipython",
    "version": 3
   },
   "file_extension": ".py",
   "mimetype": "text/x-python",
   "name": "python",
   "nbconvert_exporter": "python",
   "pygments_lexer": "ipython3",
   "version": "3.10.11"
  }
 },
 "nbformat": 4,
 "nbformat_minor": 2
}
